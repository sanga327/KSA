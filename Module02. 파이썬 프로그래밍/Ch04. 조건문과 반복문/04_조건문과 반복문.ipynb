{
 "cells": [
  {
   "cell_type": "markdown",
   "metadata": {},
   "source": [
    "## 1. 조건문"
   ]
  },
  {
   "cell_type": "markdown",
   "metadata": {},
   "source": [
    "### - if-else문"
   ]
  },
  {
   "cell_type": "code",
   "execution_count": 1,
   "metadata": {},
   "outputs": [
    {
     "name": "stdout",
     "output_type": "stream",
     "text": [
      "Tell me your age?\n",
      "40\n",
      "Oh! No. You are not accepted.\n"
     ]
    }
   ],
   "source": [
    "# 예제 4-1. \n",
    "print(\"Tell me your age?\")\n",
    "myage = int(input())\n",
    "if myage <30:\n",
    "    print(\"Welcome to the Club.\")\n",
    "else:\n",
    "    print(\"Oh! No. You are not accepted.\")"
   ]
  },
  {
   "cell_type": "markdown",
   "metadata": {},
   "source": [
    "### - 조건의 판단: 비교 연산자 (==, is)\n",
    "### - 조건의 판단: True와 False의 치환 \n",
    "- True:1\n",
    "- False:0\n",
    "\n",
    "### - 조건의 판단: 논리 연산자\n",
    "- and: 두 값이 모두 참일 경우 True, 아닌 경우 False\n",
    "- or: 두 값 중 하나만 참일 경우 True, 두 값 모두 거짓일 경우 False\n",
    "- not: 값을 역으로 반환하여 판단\n",
    "\n",
    "### if - elif - else문\n",
    "- 중첩 if문\n"
   ]
  },
  {
   "cell_type": "code",
   "execution_count": 2,
   "metadata": {},
   "outputs": [
    {
     "name": "stdout",
     "output_type": "stream",
     "text": [
      "Enter your score: 100\n",
      "A\n"
     ]
    }
   ],
   "source": [
    "# 예제 4-3.\n",
    "score = int(input(\"Enter your score: \"))\n",
    "\n",
    "if score >= 90: grade = 'A'\n",
    "elif score >= 80: grade = 'B'\n",
    "elif score >= 70: grade = 'C'\n",
    "elif score >= 60: grade = 'D'\n",
    "else: grade = 'F'\n",
    "    \n",
    "print(grade)"
   ]
  },
  {
   "cell_type": "markdown",
   "metadata": {},
   "source": [
    "## 2. 실습: 어떤 종류의 학생인지 맞히기\n",
    "- 나이는 (2020-태어난 연도 + 1)로 계산\n",
    "- 26세 이하 20세 이상이면 '대학생'\n",
    "- 20세 미만 17세 이상이면 '고등학생'\n",
    "- 17세 미만 14세 이상이면 '중학생'\n",
    "- 14세 미만 8세 이상이면 '초등학생'\n",
    "- 그 외의 경우는 '학생이 아닙니다.' 출력"
   ]
  },
  {
   "cell_type": "code",
   "execution_count": 3,
   "metadata": {},
   "outputs": [
    {
     "name": "stdout",
     "output_type": "stream",
     "text": [
      "대학생\n"
     ]
    }
   ],
   "source": [
    "def my_age(year):\n",
    "    age = 2020-year+1\n",
    "    if (age<=26 and age>=20): print(\"대학생\")\n",
    "    elif (age<20 and age>=17): print(\"고등학생\")\n",
    "    elif (age<17 and age>=14): print(\"중학생\")\n",
    "    elif (age<14 and age>=8): print(\"초등학생\")\n",
    "    else: print(\"학생이 아닙니다.\")\n",
    "  \n",
    "my_age(1999)"
   ]
  },
  {
   "cell_type": "markdown",
   "metadata": {},
   "source": [
    "## 3. 반복문\n",
    "### - for문\n",
    "- for 변수 in range(시작 번호, 마지막 번호, 증가값)"
   ]
  },
  {
   "cell_type": "code",
   "execution_count": 4,
   "metadata": {},
   "outputs": [
    {
     "name": "stdout",
     "output_type": "stream",
     "text": [
      "1\n",
      "2\n",
      "3\n",
      "4\n",
      "5\n"
     ]
    }
   ],
   "source": [
    "# 예제 4-6.\n",
    "for looper in [1,2,3,4,5]:\n",
    "    print(looper)"
   ]
  },
  {
   "cell_type": "code",
   "execution_count": 5,
   "metadata": {},
   "outputs": [
    {
     "name": "stdout",
     "output_type": "stream",
     "text": [
      "hi\n",
      "hi\n",
      "hi\n",
      "hi\n",
      "hi\n",
      "hi\n",
      "hi\n",
      "hi\n",
      "hi\n",
      "hi\n"
     ]
    }
   ],
   "source": [
    "# 예제 4-7\n",
    "for looper in range(10):\n",
    "    print(\"hi\")"
   ]
  },
  {
   "cell_type": "code",
   "execution_count": 6,
   "metadata": {},
   "outputs": [
    {
     "name": "stdout",
     "output_type": "stream",
     "text": [
      "a\n",
      "b\n",
      "c\n",
      "d\n"
     ]
    }
   ],
   "source": [
    "# 예제 4-8. \n",
    "# 문자열도 리스트와 같은 연속적인 데이터를 표현한다.\n",
    "for i in 'abcd':\n",
    "    print(i)"
   ]
  },
  {
   "cell_type": "code",
   "execution_count": 7,
   "metadata": {},
   "outputs": [
    {
     "name": "stdout",
     "output_type": "stream",
     "text": [
      "1\n",
      "3\n",
      "5\n",
      "7\n",
      "9\n"
     ]
    }
   ],
   "source": [
    "# 예제 4-10.\n",
    "for i in range(1,10,2):\n",
    "    print(i)"
   ]
  },
  {
   "cell_type": "code",
   "execution_count": 8,
   "metadata": {},
   "outputs": [
    {
     "name": "stdout",
     "output_type": "stream",
     "text": [
      "10\n",
      "9\n",
      "8\n",
      "7\n",
      "6\n",
      "5\n",
      "4\n",
      "3\n",
      "2\n"
     ]
    }
   ],
   "source": [
    "# 예제 4-11. \n",
    "for i in range(10,1,-1):\n",
    "    print(i)"
   ]
  },
  {
   "cell_type": "markdown",
   "metadata": {},
   "source": [
    "### - while문\n",
    "- 조건이 만족하는 동안 명령 블록 수행하고, 해당 조건이 거짓일 경우 반복 명령문을 더는 수행하지 않는 구문"
   ]
  },
  {
   "cell_type": "code",
   "execution_count": 9,
   "metadata": {},
   "outputs": [
    {
     "name": "stdout",
     "output_type": "stream",
     "text": [
      "1\n",
      "2\n",
      "3\n",
      "4\n",
      "5\n",
      "6\n",
      "7\n",
      "8\n",
      "9\n"
     ]
    }
   ],
   "source": [
    "i = 1 \n",
    "while i <10:\n",
    "    print(i)\n",
    "    i += 1"
   ]
  },
  {
   "cell_type": "markdown",
   "metadata": {},
   "source": [
    "### - break문"
   ]
  },
  {
   "cell_type": "code",
   "execution_count": 11,
   "metadata": {},
   "outputs": [
    {
     "name": "stdout",
     "output_type": "stream",
     "text": [
      "0\n",
      "1\n",
      "2\n",
      "End of Program\n"
     ]
    }
   ],
   "source": [
    "# 예제 4-13. \n",
    "for i in range(5):\n",
    "    if i==3: break\n",
    "    print(i)\n",
    "print(\"End of Program\")"
   ]
  },
  {
   "cell_type": "markdown",
   "metadata": {},
   "source": [
    "### - continue문\n",
    "- 특정 조건에서 남은 명령을 건너뛰고 다음 반복문 수행"
   ]
  },
  {
   "cell_type": "code",
   "execution_count": 12,
   "metadata": {},
   "outputs": [
    {
     "name": "stdout",
     "output_type": "stream",
     "text": [
      "0\n",
      "1\n",
      "2\n",
      "4\n",
      "End of Program\n"
     ]
    }
   ],
   "source": [
    "# 예제 4-14. \n",
    "for i in range(5):\n",
    "    if i==3: continue\n",
    "    print(i)\n",
    "print(\"End of Program\")"
   ]
  },
  {
   "cell_type": "markdown",
   "metadata": {},
   "source": [
    "## 4. 구구단 계산기 "
   ]
  },
  {
   "cell_type": "code",
   "execution_count": 13,
   "metadata": {},
   "outputs": [
    {
     "name": "stdout",
     "output_type": "stream",
     "text": [
      "구구단 몇 단을 계산할까?5\n",
      "5 X 1 =5\n",
      "5 X 2 =10\n",
      "5 X 3 =15\n",
      "5 X 4 =20\n",
      "5 X 5 =25\n",
      "5 X 6 =30\n",
      "5 X 7 =35\n",
      "5 X 8 =40\n",
      "5 X 9 =45\n"
     ]
    }
   ],
   "source": [
    "num = int(input(\"구구단 몇 단을 계산할까?\"))\n",
    "\n",
    "def gugudan(x):\n",
    "    for i in range(1,10):\n",
    "        #print(\"{} X {} = {}\".format(x,i,x*i))\n",
    "        print(\"%s X %s =%s\"%(x,i,x*i))\n",
    "\n",
    "gugudan(num)"
   ]
  },
  {
   "cell_type": "markdown",
   "metadata": {},
   "source": [
    "## 5. 조건문과 반복문 실습"
   ]
  },
  {
   "cell_type": "markdown",
   "metadata": {},
   "source": [
    "### - 문자열 역순 출력\n"
   ]
  },
  {
   "cell_type": "code",
   "execution_count": null,
   "metadata": {},
   "outputs": [],
   "source": [
    "# 예제 4-17.\n",
    "sentence = \"I love you\"\n",
    "reverse_sentence = ''\n",
    "for char in sentence:\n",
    "    reverse_sentence = char+reverse_sentence\n",
    "print(reverse_sentence)"
   ]
  },
  {
   "cell_type": "markdown",
   "metadata": {},
   "source": [
    "### - 십진수를 이진수로 변환\n"
   ]
  },
  {
   "cell_type": "code",
   "execution_count": 14,
   "metadata": {},
   "outputs": [
    {
     "name": "stdout",
     "output_type": "stream",
     "text": [
      "1010\n"
     ]
    }
   ],
   "source": [
    "decimal=10\n",
    "result=''\n",
    "while(decimal>0):\n",
    "    remainder = decimal%2\n",
    "    decimal = decimal//2\n",
    "    result = str(remainder)+result\n",
    "print(result)"
   ]
  },
  {
   "cell_type": "markdown",
   "metadata": {},
   "source": [
    "## 6. 숫자 찾기 게임\n",
    "- 컴퓨터가 1에서 100까지 중 임의의 숫자를 생성한다. \n",
    "- 사용자가 추측하는 숫자를 입력한다. \n",
    "- 컴퓨터가 생성한 숫자보다 큰지 작은지를 계속 비교해 준다. \n",
    "- 정답을 맞힐 때까지 계속하다가, 맞히면 '정답입니다. 입력한 숫자는 n입니다.'를 출력한다. "
   ]
  },
  {
   "cell_type": "code",
   "execution_count": 17,
   "metadata": {},
   "outputs": [
    {
     "name": "stdout",
     "output_type": "stream",
     "text": [
      "숫자를 입력해주세요.50\n",
      "숫자가 너무 작습니다. 숫자를 다시 입력해주세요.\n",
      "75\n",
      "숫자가 너무 작습니다. 숫자를 다시 입력해주세요.\n",
      "90\n",
      "숫자가 너무 작습니다. 숫자를 다시 입력해주세요.\n",
      "95\n",
      "숫자가 너무 작습니다. 숫자를 다시 입력해주세요.\n",
      "99\n",
      "숫자가 너무 큽니다. 숫자를 다시 입력해주세요.\n",
      "97\n",
      "숫자가 너무 작습니다. 숫자를 다시 입력해주세요.\n",
      "98\n",
      "정답입니다. 입력한 숫자는 98입니다.\n"
     ]
    }
   ],
   "source": [
    "import random\n",
    "\n",
    "my_number = random.randint(1,100)\n",
    "input_number = int(input(\"숫자를 입력해주세요.\"))\n",
    "\n",
    "while (True):\n",
    "    if my_number == input_number:\n",
    "        print(\"정답입니다. 입력한 숫자는 %d입니다.\"%my_number)\n",
    "        break\n",
    "        break;\n",
    "    elif my_number > input_number:\n",
    "        print(\"숫자가 너무 작습니다. 숫자를 다시 입력해주세요.\")\n",
    "        input_number = int(input())\n",
    "    elif my_number < input_number:\n",
    "        print(\"숫자가 너무 큽니다. 숫자를 다시 입력해주세요.\")\n",
    "        input_number = int(input())"
   ]
  },
  {
   "cell_type": "markdown",
   "metadata": {},
   "source": [
    "## 7. 연속적인 구구단 계산기\n",
    "- 사용자가 계산하고 싶은 구구단 숫자를 입력한다. \n",
    "- 프로그램은 구구단의 결과를 출력한다. \n",
    "- 프로그램이 계속 실행되다가 종료 조건에 해당하는 숫자(0)을 입력하면 종료된다. "
   ]
  },
  {
   "cell_type": "code",
   "execution_count": 18,
   "metadata": {},
   "outputs": [
    {
     "name": "stdout",
     "output_type": "stream",
     "text": [
      "구구단 몇 단을 계산할까요?3\n",
      "3 X 1 = 3\n",
      "3 X 2 = 6\n",
      "3 X 3 = 9\n",
      "3 X 4 = 12\n",
      "3 X 5 = 15\n",
      "3 X 6 = 18\n",
      "3 X 7 = 21\n",
      "3 X 8 = 24\n",
      "3 X 9 = 27\n",
      "구구단 몇 단을 계산할까요?5\n",
      "5 X 1 = 5\n",
      "5 X 2 = 10\n",
      "5 X 3 = 15\n",
      "5 X 4 = 20\n",
      "5 X 5 = 25\n",
      "5 X 6 = 30\n",
      "5 X 7 = 35\n",
      "5 X 8 = 40\n",
      "5 X 9 = 45\n",
      "구구단 몇 단을 계산할까요?0\n"
     ]
    }
   ],
   "source": [
    "def gugudan(x):\n",
    "    for i in range(1,10):\n",
    "        print(\"%s X %s = %s\"%(x,i,x*i))\n",
    "\n",
    "\n",
    "while (True):\n",
    "    x = int(input(\"구구단 몇 단을 계산할까요?\"))\n",
    "    if x==0:\n",
    "        break;\n",
    "    else:\n",
    "        gugudan(x)"
   ]
  },
  {
   "cell_type": "markdown",
   "metadata": {},
   "source": [
    "## 8 .평균 구하기"
   ]
  },
  {
   "cell_type": "code",
   "execution_count": 19,
   "metadata": {},
   "outputs": [
    {
     "name": "stdout",
     "output_type": "stream",
     "text": [
      "[47.0, 74.0, 51.0, 60.0, 90.0]\n"
     ]
    }
   ],
   "source": [
    "scores = [[49,80,20,100,80],\n",
    "          [43,60,85,30,90],\n",
    "          [49,82,48,50,100]]\n",
    "result = []\n",
    "\n",
    "for i in range(5):\n",
    "    tmp = 0\n",
    "    for j in range(3):\n",
    "        tmp += scores[j][i]\n",
    "    result.append(tmp/3)\n",
    "print(result)"
   ]
  },
  {
   "cell_type": "code",
   "execution_count": 20,
   "metadata": {},
   "outputs": [
    {
     "name": "stdout",
     "output_type": "stream",
     "text": [
      "[47.0, 74.0, 51.0, 60.0, 90.0]\n"
     ]
    }
   ],
   "source": [
    "# 해설\n",
    "kor_score = [49,80,20,100,80]\n",
    "math_score = [43,60,85,30,90]\n",
    "eng_score = [49,82,48,50,100]\n",
    "midterm_score = [kor_score, math_score, eng_score]\n",
    "\n",
    "student_score = [0,0,0,0,0]\n",
    "i = 0\n",
    "for subject in midterm_score:\n",
    "    for score in subject:\n",
    "        student_score[i] += score\n",
    "        i += 1\n",
    "    i = 0\n",
    "else: \n",
    "    a,b,c,d,e = student_score\n",
    "    student_average = [a/3, b/3, c/3, d/3, e/3]\n",
    "    print(student_average)"
   ]
  },
  {
   "cell_type": "markdown",
   "metadata": {},
   "source": [
    "## 9. 코드의 오류를 처리하는 방법\n",
    "- 문법적 오류: 코드 자체를 실행시키지 못하는 오류.   \n",
    "    ex) 들여쓰기 오류, 오탈자 오류  \n",
    "- 논리적 오류: 코드를 제대로 작성했음에도 원하는 결과가 나오지 않는 경우  \n",
    "   - 함수가 잘 작동하는지 확인하는 방법\n",
    "       - print()\n",
    "       - if __ name __ == '__ main __': "
   ]
  },
  {
   "cell_type": "code",
   "execution_count": 21,
   "metadata": {},
   "outputs": [
    {
     "name": "stdout",
     "output_type": "stream",
     "text": [
      "밑변의 길이는?5\n",
      "윗변의 길이는?2\n",
      "높이는?4\n",
      "넓이는:  14.0\n"
     ]
    }
   ],
   "source": [
    "# 예제 4-25. trapezium_area_final.py 파일이라고 가정\n",
    "def addition(x,y):\n",
    "    return x+y\n",
    "\n",
    "def divided_by_2(x):\n",
    "    return x/2\n",
    "\n",
    "def main():\n",
    "    base_line = float(input(\"밑변의 길이는?\"))\n",
    "    upper_edge = float(input(\"윗변의 길이는?\"))\n",
    "    height = float(input(\"높이는?\"))\n",
    "\n",
    "    print(\"넓이는: \", divided_by_2(addition(base_line, upper_edge)*height))\n",
    "    \n",
    "if __name__ == '__main__':\n",
    "    main()"
   ]
  }
 ],
 "metadata": {
  "kernelspec": {
   "display_name": "[CPU_ENV]",
   "language": "python",
   "name": "cpu_env"
  },
  "language_info": {
   "codemirror_mode": {
    "name": "ipython",
    "version": 3
   },
   "file_extension": ".py",
   "mimetype": "text/x-python",
   "name": "python",
   "nbconvert_exporter": "python",
   "pygments_lexer": "ipython3",
   "version": "3.6.10"
  }
 },
 "nbformat": 4,
 "nbformat_minor": 4
}
