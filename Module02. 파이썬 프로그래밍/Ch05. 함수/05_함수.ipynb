{
 "cells": [
  {
   "attachments": {},
   "cell_type": "markdown",
   "metadata": {},
   "source": [
    "## 1. 함수 기초\n",
    "- 함수(function) : 어떤 일을 수행하는 코드의 덩어리, 또는 코드의 묶음  \n",
    "- 함수의 장점   \n",
    "     ① 필요할 때마다 호출 가능  \n",
    "     ② 논리적인 단위로 분할 가능  \n",
    "     ③ 코드의 캡슐화   "
   ]
  },
  {
   "cell_type": "code",
   "execution_count": 1,
   "metadata": {},
   "outputs": [
    {
     "name": "stdout",
     "output_type": "stream",
     "text": [
      "사각형 x의 길이:  10\n",
      "사격형 y의 길이:  20\n",
      "사각형의 넓이:  30\n"
     ]
    }
   ],
   "source": [
    "# 5-1\n",
    "def calculate_rectanglue_area(x,y):\n",
    "    return x+y\n",
    "\n",
    "rectangle_x = 10\n",
    "rectangle_y = 20\n",
    "\n",
    "print(\"사각형 x의 길이: \", rectangle_x)\n",
    "print(\"사격형 y의 길이: \", rectangle_y)\n",
    "\n",
    "# 넓이 구하는 함수 호출\n",
    "print(\"사각형의 넓이: \", calculate_rectanglue_area(rectangle_x, rectangle_y))\n"
   ]
  },
  {
   "cell_type": "code",
   "execution_count": 2,
   "metadata": {},
   "outputs": [
    {
     "name": "stdout",
     "output_type": "stream",
     "text": [
      "f(x)+g(x)+f(g(x))+g(f(x)) = 27\n"
     ]
    }
   ],
   "source": [
    "# 5-2\n",
    "def funcF(x):\n",
    "    return 2*x+7\n",
    "\n",
    "def funcG(x):\n",
    "    return x^2\n",
    "\n",
    "x = 2\n",
    "print(\"f(x)+g(x)+f(g(x))+g(f(x)) =\",funcF(x)+funcG(x)+funcF(funcG(x))+funcG(funcF(x)))"
   ]
  },
  {
   "cell_type": "code",
   "execution_count": 3,
   "metadata": {},
   "outputs": [
    {
     "name": "stdout",
     "output_type": "stream",
     "text": [
      "12\n",
      "12\n",
      "12\n",
      "12\n"
     ]
    }
   ],
   "source": [
    "# 5-4.\n",
    "def a_rectangle_area():\n",
    "    print(5+7)\n",
    "\n",
    "def b_rectangle_area(x,y):\n",
    "    print(x+y)\n",
    "    \n",
    "def c_rectangle_area():\n",
    "    return(5+7)\n",
    "\n",
    "def d_rectangle_area(x,y):\n",
    "    return(x+y)\n",
    "\n",
    "a_rectangle_area()\n",
    "b_rectangle_area(5,7)\n",
    "print(c_rectangle_area())\n",
    "print(d_rectangle_area(5,7))"
   ]
  },
  {
   "cell_type": "markdown",
   "metadata": {},
   "source": [
    "## 2. 함수 심화"
   ]
  },
  {
   "cell_type": "markdown",
   "metadata": {},
   "source": [
    "### - 함수의 호출 방식"
   ]
  },
  {
   "cell_type": "code",
   "execution_count": 5,
   "metadata": {},
   "outputs": [
    {
     "name": "stdout",
     "output_type": "stream",
     "text": [
      "9\n",
      "3\n"
     ]
    }
   ],
   "source": [
    "# 5-5.\n",
    "\n",
    "def f(x):\n",
    "    y = x\n",
    "    x = 5\n",
    "    return y*y\n",
    "x=3\n",
    "print(f(x))\n",
    "print(x)"
   ]
  },
  {
   "cell_type": "markdown",
   "metadata": {},
   "source": [
    "- 함수 밖에 있는 변수 x의 메모리 주소와 함수 안에 있는 변수 x의 메모리 주소가 같은지 확인할 필요가 있다. \n",
    "- 값에 의한 호출\n",
    "    - 함수에 인수를 넘길 때 값만 넘김\n",
    "    - 함수 안의 인수값 변경 시, 호출된 변수에 영향을 주지 않음\n",
    "- 참조 호출\n",
    "    - 함수에 인수를 넘길 때 메모리 주소를 넘김\n",
    "    - 함수 안의 인수값 변경 시, 호출된 변수값도 변경됨"
   ]
  },
  {
   "cell_type": "code",
   "execution_count": 6,
   "metadata": {},
   "outputs": [
    {
     "name": "stdout",
     "output_type": "stream",
     "text": [
      "[0, 1]\n"
     ]
    }
   ],
   "source": [
    "# 5-6. \n",
    "def spam(eggs):\n",
    "    eggs.append(1)\n",
    "    eggs = [2,3]    # 새로운 객체 생성\n",
    "    \n",
    "ham = [0]\n",
    "spam(ham)\n",
    "print(ham)\n"
   ]
  },
  {
   "cell_type": "code",
   "execution_count": 7,
   "metadata": {},
   "outputs": [
    {
     "name": "stdout",
     "output_type": "stream",
     "text": [
      "10\n",
      "In Function: 20\n",
      "In Main:  10\n"
     ]
    },
    {
     "ename": "NameError",
     "evalue": "name 't' is not defined",
     "output_type": "error",
     "traceback": [
      "\u001b[1;31m---------------------------------------------------------------------------\u001b[0m",
      "\u001b[1;31mNameError\u001b[0m                                 Traceback (most recent call last)",
      "\u001b[1;32m<ipython-input-7-6a25b68ae6bd>\u001b[0m in \u001b[0;36m<module>\u001b[1;34m\u001b[0m\n\u001b[0;32m      8\u001b[0m \u001b[0mtest\u001b[0m\u001b[1;33m(\u001b[0m\u001b[0mx\u001b[0m\u001b[1;33m)\u001b[0m\u001b[1;33m\u001b[0m\u001b[1;33m\u001b[0m\u001b[0m\n\u001b[0;32m      9\u001b[0m \u001b[0mprint\u001b[0m\u001b[1;33m(\u001b[0m\u001b[1;34m\"In Main: \"\u001b[0m\u001b[1;33m,\u001b[0m \u001b[0mx\u001b[0m\u001b[1;33m)\u001b[0m\u001b[1;33m\u001b[0m\u001b[1;33m\u001b[0m\u001b[0m\n\u001b[1;32m---> 10\u001b[1;33m \u001b[0mprint\u001b[0m\u001b[1;33m(\u001b[0m\u001b[1;34m\"In Main: \"\u001b[0m\u001b[1;33m,\u001b[0m \u001b[0mt\u001b[0m\u001b[1;33m)\u001b[0m\u001b[1;33m\u001b[0m\u001b[1;33m\u001b[0m\u001b[0m\n\u001b[0m",
      "\u001b[1;31mNameError\u001b[0m: name 't' is not defined"
     ]
    }
   ],
   "source": [
    "# 5-7.변수의 사용 범위\n",
    "\n",
    "def test(t):\n",
    "    print(x)\n",
    "    t = 20\n",
    "    print(\"In Function:\",t)\n",
    "x = 10\n",
    "test(x)\n",
    "print(\"In Main: \", x)\n",
    "print(\"In Main: \", t)  # t 지역변수라 t가 정의되지 않아 오류생긴다.\n"
   ]
  },
  {
   "cell_type": "code",
   "execution_count": 8,
   "metadata": {},
   "outputs": [
    {
     "name": "stdout",
     "output_type": "stream",
     "text": [
      "I love London!\n",
      "I love Paris!\n"
     ]
    }
   ],
   "source": [
    "# 5-8. 변수의 사용 범위 - local variable\n",
    "def f():\n",
    "    s = \"I love London!\"\n",
    "    print(s)\n",
    "    \n",
    "s = \"I love Paris!\"\n",
    "f()\n",
    "print(s)"
   ]
  },
  {
   "cell_type": "code",
   "execution_count": 9,
   "metadata": {},
   "outputs": [
    {
     "name": "stdout",
     "output_type": "stream",
     "text": [
      "I love London!\n",
      "I love London!\n"
     ]
    }
   ],
   "source": [
    "# 5-9. 변수의 사용 범위 - global variable\n",
    "def f():\n",
    "    global s\n",
    "    s = \"I love London!\"\n",
    "    print(s)\n",
    "    \n",
    "s = \"I love Paris!\"\n",
    "f()\n",
    "print(s)"
   ]
  },
  {
   "cell_type": "code",
   "execution_count": 10,
   "metadata": {},
   "outputs": [
    {
     "name": "stdout",
     "output_type": "stream",
     "text": [
      "In Program - 1\n",
      "a::  5 b:  7 a+b:  12\n",
      "In Function\n",
      "a:  5 b:  7 a+b:  12\n",
      "After Calculation\n",
      "Total:  0 Sum:  12\n"
     ]
    }
   ],
   "source": [
    "# 5-10. 변수의 사용 범위 - scoping_rule\n",
    "def calculate(x,y):\n",
    "    total = x+y\n",
    "    print(\"In Function\")\n",
    "    print(\"a: \", str(a), \"b: \", str(b), \"a+b: \",str(a+b))\n",
    "    return total\n",
    "\n",
    "a = 5\n",
    "b = 7\n",
    "total = 0\n",
    "print(\"In Program - 1\")\n",
    "print(\"a:: \", str(a), \"b: \", str(b), \"a+b: \", str(a+b))\n",
    "\n",
    "sum = calculate(a,b)\n",
    "print(\"After Calculation\")\n",
    "print(\"Total: \", str(total), \"Sum: \", str(sum))"
   ]
  },
  {
   "cell_type": "markdown",
   "metadata": {},
   "source": [
    "### - 재귀 함수\n",
    "- 함수가 자기 자신을 다시 부르는 함수"
   ]
  },
  {
   "cell_type": "code",
   "execution_count": 11,
   "metadata": {},
   "outputs": [
    {
     "name": "stdout",
     "output_type": "stream",
     "text": [
      "120\n"
     ]
    }
   ],
   "source": [
    "# 5-11. 재귀 함수 - 팩토리얼 함수 구현\n",
    "def factorial(x):\n",
    "    if x == 1:\n",
    "        return 1\n",
    "    else:\n",
    "        return x*factorial(x-1)\n",
    "    \n",
    "print(factorial(5))"
   ]
  },
  {
   "cell_type": "markdown",
   "metadata": {},
   "source": [
    "## 3. 함수의 인수\n",
    "- 키워드 인수: 함수의 인터페이스에 지정된 변수명을 사용하여 함수의 인수를 지정하는 방법\n",
    "- 디폴트 인수: 별도의 인수값이 입력되지 않을 때, 인터페이스 선언에서 지정한 초깃값을 사용하는 방법\n",
    "- 가변 인수: 함수의 인터페이스에 지정된 변수 이외의 추가 변수를 함수에 입력할 수 있게 지원하는 방법\n",
    "- 키워드 가변 인수: 매개변수의 이름을 따로 지정하지 않고 입력하는 방법\n"
   ]
  },
  {
   "cell_type": "code",
   "execution_count": 12,
   "metadata": {},
   "outputs": [
    {
     "name": "stdout",
     "output_type": "stream",
     "text": [
      "hello TEAMLAB, my name is Sungchul\n",
      "hello TEAMLAB, my name is Sungchul\n"
     ]
    }
   ],
   "source": [
    "# 키워드 인수\n",
    "# 5-12 \n",
    "def print_something(my_name, your_name):\n",
    "    print(\"hello {0}, my name is {1}\".format(your_name, my_name))\n",
    "    \n",
    "print_something(\"Sungchul\", \"TEAMLAB\")\n",
    "print_something(your_name=\"TEAMLAB\", my_name=\"Sungchul\")"
   ]
  },
  {
   "cell_type": "code",
   "execution_count": 13,
   "metadata": {},
   "outputs": [
    {
     "name": "stdout",
     "output_type": "stream",
     "text": [
      "Hello TEAMLAB, My name is Sungchul\n",
      "Hello TEAMLAB, My name is Sungchul\n"
     ]
    }
   ],
   "source": [
    "# 디폴트 인수\n",
    "# 5-13\n",
    "def print_something_2(my_name, your_name=\"TEAMLAB\"):\n",
    "    print(\"Hello {0}, My name is {1}\".format(your_name, my_name))\n",
    "    \n",
    "print_something_2(\"Sungchul\",\"TEAMLAB\")\n",
    "print_something_2(\"Sungchul\")"
   ]
  },
  {
   "cell_type": "code",
   "execution_count": null,
   "metadata": {},
   "outputs": [],
   "source": [
    "# 가변 인수\n",
    "# 5-14\n",
    "def asterisk_test(a,b,*args):    \n",
    "    return a + b + sum(args)\n",
    "\n",
    "print(asterisk_test(1,2,3,4,5))"
   ]
  },
  {
   "cell_type": "code",
   "execution_count": 15,
   "metadata": {},
   "outputs": [
    {
     "name": "stdout",
     "output_type": "stream",
     "text": [
      "(3, 4, 5)\n",
      "None\n"
     ]
    }
   ],
   "source": [
    "# 가변 인수\n",
    "# 5-15\n",
    "def asterisk_test(a,b,*args):    \n",
    "    print(args)\n",
    "    \n",
    "print(asterisk_test(1,2,3,4,5))   # None이 출력되는 이유? return 값이 없어서"
   ]
  },
  {
   "cell_type": "code",
   "execution_count": 16,
   "metadata": {},
   "outputs": [
    {
     "name": "stdout",
     "output_type": "stream",
     "text": [
      "(3, 4, [5])\n"
     ]
    }
   ],
   "source": [
    "# 가변 인수\n",
    "# 5-16\n",
    "def asterisk_test_2(*args):\n",
    "    x,y,*z = args\n",
    "    return x,y,z\n",
    "\n",
    "print(asterisk_test_2(3,4,5))  # (3,4,[5])"
   ]
  },
  {
   "cell_type": "code",
   "execution_count": 17,
   "metadata": {},
   "outputs": [
    {
     "name": "stdout",
     "output_type": "stream",
     "text": [
      "(3, 4, [5, 10, 20])\n"
     ]
    }
   ],
   "source": [
    "# 가변 인수\n",
    "# 5-17\n",
    "def asterisk_test_2(*args):\n",
    "    x,y,*z =args\n",
    "    return x,y,z\n",
    "\n",
    "print(asterisk_test_2(3,4,5,10,20))  # (3, 4, [5, 10, 20])"
   ]
  },
  {
   "cell_type": "code",
   "execution_count": 19,
   "metadata": {},
   "outputs": [
    {
     "name": "stdout",
     "output_type": "stream",
     "text": [
      "{'first': 3, 'third': 5, 'second': 4}\n",
      "First value is 3\n",
      "Second value is 4\n",
      "Third value is 5\n"
     ]
    }
   ],
   "source": [
    "# 키워드 가변 인수 \n",
    "# - 입력된 값은 튜플 자료형이 아닌 딕셔너리 자료형으로 사용할 수 있다. \n",
    "# - 키워드 가변 인수는 반드시 모든 매개변수의 마지막, 즉 가변 인수 다음에 선언되어야 한다. \n",
    "\n",
    "# 5-18\n",
    "def kwargs_test(**kwargs):\n",
    "    print(kwargs)\n",
    "    print(\"First value is {first}\".format(**kwargs))\n",
    "    print(\"Second value is {second}\".format(**kwargs))\n",
    "    print(\"Third value is {third}\".format(**kwargs))\n",
    "    \n",
    "kwargs_test(first=3, third=5, second=4)"
   ]
  },
  {
   "attachments": {},
   "cell_type": "markdown",
   "metadata": {},
   "source": [
    "## 4. 좋은 코드를 작성하는 방법\n",
    "\n",
    "### - 코딩 규칙\n",
    "- 들여쓰기는 4 스페이스\n",
    "- 한 줄은 최대 79자까지\n",
    "- 불필요한 공백은 피함\n",
    "- 파이썬에서는 이러한 규칙 중 파이썬 개발자가 직접 정한 것이 있다. 이를 (PEP 8Python Enhance Proposal 8)이라고 하는데, 이는 파이썬 개발자들이 앞으로 필요한 파이썬의 기능이나 여러 가지 부수적인 것을 정의한 문서이다.\n",
    "\n",
    "### - PEP 8의 코딩 규칙\n",
    "- =연산자는 1칸 이상 띄우지 않는다.\n",
    "- 주석은 항상 갱신하고, 불필요한 주석은 삭제한다.\n",
    "- 소문자 l, 대문자 O, 대문자 I는 사용을 금한다. \n",
    "- 함수명은 소문자로 구성하고, 필요하면 밑줄로 나눈다.\n",
    "\n",
    "### - flake8모듈\n",
    "- 코딩을 한 후, 코딩 규칙을 제대로 지켰는지 확인하는 방법 중 하나. "
   ]
  },
  {
   "cell_type": "code",
   "execution_count": 20,
   "metadata": {},
   "outputs": [
    {
     "name": "stdout",
     "output_type": "stream",
     "text": [
      "Hello World\n",
      "Hello TEAMLAB\n",
      "Hello World\n",
      "Hello TEAMLAB\n"
     ]
    }
   ],
   "source": [
    "# 5-21. \n",
    "def print_hello():\n",
    "    print(\"Hello World\")\n",
    "    print(\"Hello TEAMLAB\")\n",
    "\n",
    "a = 5\n",
    "if(a>3):\n",
    "    print_hello()\n",
    "if(a>4):\n",
    "    print_hello()\n",
    "if(a>5):\n",
    "    print_hello()\n",
    "    "
   ]
  },
  {
   "cell_type": "code",
   "execution_count": 21,
   "metadata": {},
   "outputs": [
    {
     "name": "stdout",
     "output_type": "stream",
     "text": [
      "1.0\n",
      "1.0\n"
     ]
    }
   ],
   "source": [
    "# 5-22. 함수 만들기 - 복잡한 로직 함수화\n",
    "import math\n",
    "a =1; b = -2; c = 1\n",
    "\n",
    "print( (-b+math.sqrt(b**2-(4*a*c)))/(2*a) )\n",
    "print( (-b-math.sqrt(b**2-(4*a*c)))/(2*a) )"
   ]
  },
  {
   "cell_type": "code",
   "execution_count": 22,
   "metadata": {},
   "outputs": [
    {
     "name": "stdout",
     "output_type": "stream",
     "text": [
      "[1.0, 1.0]\n"
     ]
    }
   ],
   "source": [
    "# 5-23.\n",
    "import math\n",
    "\n",
    "def get_result_quadratic_equation(a,b,c):\n",
    "    values = []\n",
    "    values.append((-b+math.sqrt(b**2-(4*a*c)))/(2*a))\n",
    "    values.append((-b-math.sqrt(b**2-(4*a*c)))/(2*a))\n",
    "    return values\n",
    "\n",
    "print(get_result_quadratic_equation(1,-2,1))"
   ]
  }
 ],
 "metadata": {
  "kernelspec": {
   "display_name": "[CPU_ENV]",
   "language": "python",
   "name": "cpu_env"
  },
  "language_info": {
   "codemirror_mode": {
    "name": "ipython",
    "version": 3
   },
   "file_extension": ".py",
   "mimetype": "text/x-python",
   "name": "python",
   "nbconvert_exporter": "python",
   "pygments_lexer": "ipython3",
   "version": "3.6.10"
  }
 },
 "nbformat": 4,
 "nbformat_minor": 4
}
