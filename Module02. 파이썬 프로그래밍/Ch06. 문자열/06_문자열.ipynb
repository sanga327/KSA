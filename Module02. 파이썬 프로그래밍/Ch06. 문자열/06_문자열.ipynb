{
 "cells": [
  {
   "cell_type": "markdown",
   "metadata": {},
   "source": [
    "## 1. 문자열의 이해"
   ]
  },
  {
   "cell_type": "markdown",
   "metadata": {},
   "source": [
    "### - 문자열의 개념\n",
    "- 문자열은 시퀀스 자료형이다.\n",
    "\n",
    "### - 문자열과 메모리 공간\n",
    "- 일반적으로 문자열 영문자 한 글자당 1바이트의 메모리 공간을 사용한다. \n",
    "\n",
    "- 컴퓨터 공학자들은 이러한 문자를 처리하기 위해 이진수로 변환되는 표준 규칙을 만들었다. ASCII, CP949, MS949, UTF-8 등 이러한 규칙을 인코딩(encoding)이라고 한다.\n",
    "1. 컴퓨터는 문자를 직접 인식하지 못한다.\n",
    "2. 컴퓨터는 문자를 숫자로 변환하여 인식한다.\n",
    "3. 사람들은 문자를 숫자로 변환하기 위한 규칙을 만들었다.\n",
    "4. 일반적으로 이 규칙은 1개의 영문자를 1바이트, 즉 2의 8승(28) 정도의 공간에 저장될 수 있도록 정하였다.\n",
    "\n",
    "### - 문자열의 인덱싱\n",
    "- 리스트처럼 글자 하나하나가 상대적인 주소를 가지는데, 이 주소를 사용해 할당된 값을 가져오는 인덱싱을 사용할 수 있다. \n"
   ]
  },
  {
   "cell_type": "code",
   "execution_count": 1,
   "metadata": {},
   "outputs": [
    {
     "name": "stdout",
     "output_type": "stream",
     "text": [
      "50 51 52\n"
     ]
    }
   ],
   "source": [
    "import sys\n",
    "print(sys.getsizeof(\"a\"), sys.getsizeof(\"ab\"), sys.getsizeof(\"abc\"))\n",
    "\n",
    "# 왜 50이 나올까?\n",
    "# 주소 1바이트씩 할당되니까 50, 51, 52"
   ]
  },
  {
   "cell_type": "markdown",
   "metadata": {},
   "source": [
    "### - 문자열의 연산\n",
    "- len(): 문자열의 문자 개수 반환\n",
    "- upper(): 대문자로 변환\n",
    "- lower(): 소문자로 변환\n",
    "- title(): 각 단어의 앞글자만 대문자로 변환\n",
    "- capitalize(): 첫 문자를 대문자로 변환\n",
    "- count('찾을 문자열'): '찾을 문자열'이 몇 개 들어 있는지 개수 반환\n",
    "- find('찾을 문자열'): '찾을 문자열'이 왼쪽 끝부터 시작하여 몇 번째에 있는지 반환\n",
    "- rfind('찾을 문자열'): find() 함수와 반대로 '찾을 문자열'이 오른쪽 끝부터 시작하여 몇 번째에 있는지 반환\n",
    "- startswith('찾을 문자열'): '찾을 문자열'로 시작하는지 여부 반환\n",
    "- endswith('찾을 문자열'): '찾을 문자열'로 끝나는지 여부 반환\n",
    "    "
   ]
  },
  {
   "cell_type": "markdown",
   "metadata": {},
   "source": [
    "- strip(): 좌우 공백 삭제\n",
    "- rstrip(): 오른쪽 공백 삭제\n",
    "- lstrip(): 왼쪽 공백 삭제\n",
    "- split(): 문자열을 공백이나 다른 문자로 나누어 리스트로 반환\n",
    "- isdigit(): 문자열이 숫자인지 여부 반환\n",
    "- islower(): 문자열이 소문자인지 여부 반환\n",
    "- isupper(): 문자열이 대문자인지 여부 반환"
   ]
  },
  {
   "cell_type": "markdown",
   "metadata": {},
   "source": [
    "## 2. 단어 카운팅 실습\n",
    "- Yesterday 노래에서 Yesterday라는 단어가 몇 번 나오는지 맞히는 단어 카운팅 프로그램"
   ]
  },
  {
   "cell_type": "code",
   "execution_count": 2,
   "metadata": {},
   "outputs": [
    {
     "name": "stdout",
     "output_type": "stream",
     "text": [
      "9\n"
     ]
    }
   ],
   "source": [
    "f = open(\"./data/yesterday.txt\",'r')\n",
    "yesterday_lyric = f.readlines()\n",
    "f.close()\n",
    "\n",
    "yesterday_str =\"\"\n",
    "for ys in yesterday_lyric:\n",
    "    ys.replace(\"/n\",\"\")\n",
    "    yesterday_str = yesterday_str+\" \"+ys\n",
    "    \n",
    "print(yesterday_str.upper().count(\"YESTERDAY\"))"
   ]
  },
  {
   "cell_type": "markdown",
   "metadata": {},
   "source": [
    "## 3. 문자열 서식 지정"
   ]
  },
  {
   "cell_type": "markdown",
   "metadata": {},
   "source": [
    "### - % 서식\n",
    "- %s: 문자열(string)\n",
    "- %c: 문자 1개(character)\n",
    "- %d: 정수(integer)\n",
    "- %f: 실수(floating-point)\n",
    "- %o: 8진수\n",
    "- %x: 16진수\n",
    "- %%: 문자 % 자체"
   ]
  },
  {
   "cell_type": "code",
   "execution_count": 3,
   "metadata": {},
   "outputs": [
    {
     "name": "stdout",
     "output_type": "stream",
     "text": [
      "1 2 3\n",
      "abc\n",
      "1 2 3\n",
      "a b c\n"
     ]
    }
   ],
   "source": [
    "print(1,2,3)\n",
    "print(\"a\"+\"\"+\"b\"+\"\"+\"c\")\n",
    "print(\"%d %d %d\"%(1,2,3))\n",
    "print(\"{} {} {}\".format(\"a\",\"b\",\"c\"))"
   ]
  },
  {
   "cell_type": "markdown",
   "metadata": {},
   "source": [
    "### - format() 함수"
   ]
  },
  {
   "cell_type": "code",
   "execution_count": 4,
   "metadata": {},
   "outputs": [
    {
     "name": "stdout",
     "output_type": "stream",
     "text": [
      "I'm 40 years old.\n",
      "My name is Sungchul Choi and 40 years old.\n",
      "Product: Apple, Price per unit: 5.24.\n"
     ]
    }
   ],
   "source": [
    "# 6-6. \n",
    "age = 40; name = 'Sungchul Choi'\n",
    "print(\"I'm {0} years old.\".format(age))    \n",
    "print(\"My name is {0} and {1} years old.\".format(name, age))\n",
    "print(\"Product: {0}, Price per unit: {1:.2f}.\".format(\"Apple\", 5.243))"
   ]
  },
  {
   "cell_type": "markdown",
   "metadata": {},
   "source": [
    "### - 패딩\n",
    "- 파이썬의 서식 지정 기능.\n",
    "- 여유 공간을 지정하여 글자 배열을 맞추고 소수점 자릿수를 맞추는 패딩 기능\n",
    "- % 서식과 format() 함수 모두 패딩 기능을 제공한다. "
   ]
  },
  {
   "cell_type": "code",
   "execution_count": 5,
   "metadata": {},
   "outputs": [
    {
     "name": "stdout",
     "output_type": "stream",
     "text": [
      "        12\n",
      "12        \n",
      "     5.943\n",
      "      5.94\n",
      "5.94      \n",
      "     Apple\n",
      "Apple     \n"
     ]
    }
   ],
   "source": [
    "print(\"%10d\"%12)                    #        12\n",
    "print(\"%-10d\"%12)                   #12        \n",
    "print(\"%10.3f\"%5.94343)             #     5.943\n",
    "print(\"%10.2f\"%5.94343)             #      5.94\n",
    "print(\"%-10.2f\"%5.94343)            #5.94      \n",
    "print(\"{0:>10s}\".format(\"Apple\"))   #     Apple\n",
    "print(\"{0:<10s}\".format(\"Apple\"))   #Apple     "
   ]
  }
 ],
 "metadata": {
  "kernelspec": {
   "display_name": "[CPU_ENV]",
   "language": "python",
   "name": "cpu_env"
  },
  "language_info": {
   "codemirror_mode": {
    "name": "ipython",
    "version": 3
   },
   "file_extension": ".py",
   "mimetype": "text/x-python",
   "name": "python",
   "nbconvert_exporter": "python",
   "pygments_lexer": "ipython3",
   "version": "3.6.10"
  }
 },
 "nbformat": 4,
 "nbformat_minor": 4
}
