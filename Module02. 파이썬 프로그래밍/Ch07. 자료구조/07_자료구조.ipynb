{
 "cells": [
  {
   "cell_type": "markdown",
   "metadata": {},
   "source": [
    "## 1. 자료구조의 이해\n",
    "### - 자료구조의 개념\n",
    "- 자료구조(data structure): 특징이 있는 정보를 메모리에 효율적으로 저장 및 반환하는 방법으로, 데이터를 관리하는 방식이다. 특히 대용량일수록 메모리에 빨리 저장하고 빠르게 검색하여, 메모리를 효율적으로 사용하고 실행 시간을 줄일 수 있게 해 준다.\n",
    "\n",
    "### 파이썬에서의 자료구조\n",
    "- 스택(stack): 나중에 들어온 값을 먼저 나갈 수 있도록 해 주는 자료구조(last in first out)\n",
    "- 큐(queue): 먼저 들어온 값을 먼저 나갈 수 있도록 해 주는 자료구조(first in first out)\n",
    "- 튜플(tuple): 리스트와 같지만, 데이터의 변경을 허용하지 않는 자료구조\n",
    "- 세트(set): 데이터의 중복을 허용하지 않고, 수학의 집합 연산을 지원하는 자료구조\n",
    "- 딕셔너리(dictionary): 전화번호부와 같이 키(key)와 값(value) 형태의 데이터를 저장하는 자료구조. 여기서 키값은 중복을 허용하지 않음\n",
    "- collections 모듈: 위에 열거된 여러 자료구조를 효율적으로 사용할 수 있도록 지원하는 파이썬 내장 모듈    \n"
   ]
  },
  {
   "cell_type": "markdown",
   "metadata": {},
   "source": [
    "## 2. 스택과 큐\n",
    "### - 스택(stack)\n",
    "- 자료구조의 핵심 개념 중 하나로, 간단히 표현하면 ‘Last In First Out (LIFO)’으로 정의할 수 있다. 즉, 마지막에 들어간 데이터가 가장 먼저 나오는 형태로, 데이터의 저장 공간을 구현하는 것이다.\n",
    "- 데이터를 저장하는 공간으로, 리스트와 비슷하지만 저장 순서가 바뀌는 형태를 스택 자료구조(stack data structure)라고 한다. 스택에서 데이터를 저장하는 것을 푸시(push), 데이터를 추출하는 것을 팝(pop)이라고 한다.\n",
    "- 파이썬에서는 list로 스택 구현 가능"
   ]
  },
  {
   "cell_type": "code",
   "execution_count": 2,
   "metadata": {},
   "outputs": [
    {
     "name": "stdout",
     "output_type": "stream",
     "text": [
      "[1, 2, 3, 4]\n"
     ]
    }
   ],
   "source": [
    "a = [1,2,3,4,5]\n",
    "a.append(10)\n",
    "a\n",
    "\n",
    "a.pop()\n",
    "a.pop()\n",
    "\n",
    "print(a)"
   ]
  },
  {
   "cell_type": "code",
   "execution_count": 3,
   "metadata": {},
   "outputs": [
    {
     "name": "stdout",
     "output_type": "stream",
     "text": [
      "Input a word: PYTHON\n",
      "['P', 'Y', 'T', 'H', 'O', 'N']\n",
      "['N', 'O', 'H', 'T', 'Y', 'P']\n",
      "NOHTYP\n"
     ]
    }
   ],
   "source": [
    "# 7-1.\n",
    "word = input(\"Input a word: \")\n",
    "word_list = list(word)\n",
    "print(word_list)\n",
    "\n",
    "\n",
    "result = []\n",
    "for _ in range(len(word_list)):\n",
    "    result.append(word_list.pop())\n",
    "\n",
    "print(result)\n",
    "print(word[::-1])"
   ]
  },
  {
   "attachments": {},
   "cell_type": "markdown",
   "metadata": {},
   "source": [
    "### - 큐 (Queue)\n",
    "- 스택과 다르게 먼저 들어간 데이터가 먼저 나오는 ‘Fist in First Out(FIFO)’의 메모리 구조를 가지는 저장 체계이다.\n",
    "- 파이썬에서 큐를 구현하는 것은 기본적으로 스택의 구현과 같은데, pop( ) 함수를 사용할 때 인덱스가 0번째인 값을 쓴다는 의미로 pop(0)을 사용하면 된다. 즉, pop( ) 함수가 리스트의 마지막 값을 가져온다고 하면, pop(0)은 맨 처음 값을 가져온다는 뜻이다."
   ]
  },
  {
   "cell_type": "code",
   "execution_count": 4,
   "metadata": {},
   "outputs": [
    {
     "data": {
      "text/plain": [
       "2"
      ]
     },
     "execution_count": 4,
     "metadata": {},
     "output_type": "execute_result"
    }
   ],
   "source": [
    "# 큐 - 선입선출/ 리스트로 표현가능\n",
    "a = [1,2,3,4,5]\n",
    "a.append(10)\n",
    "a.append(20)\n",
    "a.pop(0)  # index 0 \n",
    "a.pop(0)"
   ]
  },
  {
   "cell_type": "markdown",
   "metadata": {},
   "source": [
    "## 3. 튜플과 세트\n",
    "### - 튜플\n",
    "- 리스트와 같은 개념이지만, 데이터를 변경할 수 없는 자료구조"
   ]
  },
  {
   "cell_type": "code",
   "execution_count": 5,
   "metadata": {},
   "outputs": [
    {
     "name": "stdout",
     "output_type": "stream",
     "text": [
      "(1, 2, 3, 1, 2, 3) (1, 2, 3, 1, 2, 3)\n"
     ]
    },
    {
     "data": {
      "text/plain": [
       "3"
      ]
     },
     "execution_count": 5,
     "metadata": {},
     "output_type": "execute_result"
    }
   ],
   "source": [
    "# 튜플 - 값 변경 불가, 인덱스 불가\n",
    "t = (1,2,3)\n",
    "print(t+t, t*2)\n",
    "len(t)"
   ]
  },
  {
   "cell_type": "code",
   "execution_count": 6,
   "metadata": {},
   "outputs": [
    {
     "ename": "TypeError",
     "evalue": "'tuple' object does not support item assignment",
     "output_type": "error",
     "traceback": [
      "\u001b[1;31m---------------------------------------------------------------------------\u001b[0m",
      "\u001b[1;31mTypeError\u001b[0m                                 Traceback (most recent call last)",
      "\u001b[1;32m<ipython-input-6-55dac8277a9f>\u001b[0m in \u001b[0;36m<module>\u001b[1;34m\u001b[0m\n\u001b[1;32m----> 1\u001b[1;33m \u001b[0mt\u001b[0m\u001b[1;33m[\u001b[0m\u001b[1;36m1\u001b[0m\u001b[1;33m]\u001b[0m \u001b[1;33m=\u001b[0m \u001b[1;36m5\u001b[0m  \u001b[1;31m# 불가!\u001b[0m\u001b[1;33m\u001b[0m\u001b[1;33m\u001b[0m\u001b[0m\n\u001b[0m",
      "\u001b[1;31mTypeError\u001b[0m: 'tuple' object does not support item assignment"
     ]
    }
   ],
   "source": [
    "t[1] = 5  # 에러 -> 튜플의 값은 마음대로 변경 불가!"
   ]
  },
  {
   "attachments": {},
   "cell_type": "markdown",
   "metadata": {},
   "source": [
    "### - 세트\n",
    "- 튜플과 다르게 삭제나 변경 가능\n",
    "- add( ) : 원소 하나를 추가 \n",
    "- remove( ) 또는 discard( ) : 원소 하나를 제거  \n",
    "- update( ) : 새로운 리스트를 그대로 추가 \n",
    "- clear( ) : 모든 변수를 지우기"
   ]
  },
  {
   "cell_type": "code",
   "execution_count": 7,
   "metadata": {},
   "outputs": [
    {
     "data": {
      "text/plain": [
       "{1, 2, 3}"
      ]
     },
     "execution_count": 7,
     "metadata": {},
     "output_type": "execute_result"
    }
   ],
   "source": [
    "# 세트\n",
    "s = set([1,2,3,1,2,3])\n",
    "s"
   ]
  },
  {
   "cell_type": "code",
   "execution_count": 9,
   "metadata": {},
   "outputs": [
    {
     "data": {
      "text/plain": [
       "{1, 2, 3}"
      ]
     },
     "execution_count": 9,
     "metadata": {},
     "output_type": "execute_result"
    }
   ],
   "source": [
    "s.add(1)\n",
    "s"
   ]
  },
  {
   "cell_type": "code",
   "execution_count": 11,
   "metadata": {},
   "outputs": [
    {
     "data": {
      "text/plain": [
       "{1, 2, 3, 4, 5, 6, 7}"
      ]
     },
     "execution_count": 11,
     "metadata": {},
     "output_type": "execute_result"
    }
   ],
   "source": [
    "s.update([1,4,5,6,7])\n",
    "s"
   ]
  },
  {
   "cell_type": "code",
   "execution_count": 12,
   "metadata": {},
   "outputs": [
    {
     "data": {
      "text/plain": [
       "{1, 2, 4, 5, 6, 7}"
      ]
     },
     "execution_count": 12,
     "metadata": {},
     "output_type": "execute_result"
    }
   ],
   "source": [
    "s.discard(3)  # 값 3 삭제\n",
    "s"
   ]
  },
  {
   "cell_type": "code",
   "execution_count": 13,
   "metadata": {},
   "outputs": [
    {
     "data": {
      "text/plain": [
       "set()"
      ]
     },
     "execution_count": 13,
     "metadata": {},
     "output_type": "execute_result"
    }
   ],
   "source": [
    "s.clear()  # 모든 원소 삭제\n",
    "s"
   ]
  },
  {
   "cell_type": "markdown",
   "metadata": {},
   "source": [
    "- 세트는 다양한 집합 연산을 제공한다. \n",
    "- 합집합\n",
    "    - s1.union(s2): \n",
    "    - s1 | s2\n",
    "- 교집합 \n",
    "    - s1.intersection(s2)\n",
    "    - s1 & s2\n",
    "- 차집합\n",
    "    - s1.difference(s2)\n",
    "    - s1 - s2"
   ]
  },
  {
   "cell_type": "code",
   "execution_count": 14,
   "metadata": {},
   "outputs": [
    {
     "data": {
      "text/plain": [
       "{1, 2, 3, 4, 5, 6, 7}"
      ]
     },
     "execution_count": 14,
     "metadata": {},
     "output_type": "execute_result"
    }
   ],
   "source": [
    "s1 = set([1,2,3,4,5])\n",
    "s2 = set([3,4,5,6,7])\n",
    "\n",
    "s1.union(s2)"
   ]
  },
  {
   "cell_type": "code",
   "execution_count": 15,
   "metadata": {},
   "outputs": [
    {
     "data": {
      "text/plain": [
       "{1, 2, 3, 4, 5, 6, 7}"
      ]
     },
     "execution_count": 15,
     "metadata": {},
     "output_type": "execute_result"
    }
   ],
   "source": [
    "s1|s2"
   ]
  },
  {
   "cell_type": "code",
   "execution_count": 16,
   "metadata": {},
   "outputs": [
    {
     "data": {
      "text/plain": [
       "{3, 4, 5}"
      ]
     },
     "execution_count": 16,
     "metadata": {},
     "output_type": "execute_result"
    }
   ],
   "source": [
    "s1.intersection(s2)"
   ]
  },
  {
   "cell_type": "code",
   "execution_count": 17,
   "metadata": {},
   "outputs": [
    {
     "data": {
      "text/plain": [
       "{3, 4, 5}"
      ]
     },
     "execution_count": 17,
     "metadata": {},
     "output_type": "execute_result"
    }
   ],
   "source": [
    "s1&s2"
   ]
  },
  {
   "cell_type": "code",
   "execution_count": 18,
   "metadata": {},
   "outputs": [
    {
     "data": {
      "text/plain": [
       "{1, 2}"
      ]
     },
     "execution_count": 18,
     "metadata": {},
     "output_type": "execute_result"
    }
   ],
   "source": [
    "s1.difference(s2)"
   ]
  },
  {
   "cell_type": "code",
   "execution_count": 19,
   "metadata": {},
   "outputs": [
    {
     "data": {
      "text/plain": [
       "{1, 2}"
      ]
     },
     "execution_count": 19,
     "metadata": {},
     "output_type": "execute_result"
    }
   ],
   "source": [
    "s1 - s2"
   ]
  },
  {
   "cell_type": "markdown",
   "metadata": {},
   "source": [
    "## 4. 딕셔너리\n",
    "- 키와 값 형태로 데이터를 저장하는 자료구조\n",
    "- {}를 사용하여 키와 값의 쌍으로 구성"
   ]
  },
  {
   "cell_type": "code",
   "execution_count": 20,
   "metadata": {},
   "outputs": [
    {
     "name": "stdout",
     "output_type": "stream",
     "text": [
      "S\n"
     ]
    }
   ],
   "source": [
    "# 딕셔너리\n",
    "student_info = {20140012: 'S', 20140202: 'J', 20305012: 'H'}\n",
    "print(student_info[20140012])"
   ]
  },
  {
   "cell_type": "markdown",
   "metadata": {},
   "source": [
    "- 키 출력: my_dict.keys()\n",
    "- 값 출력: my_dict.values()\n",
    "- 키-값 쌍 출력: my_dict.items()"
   ]
  },
  {
   "cell_type": "markdown",
   "metadata": {},
   "source": [
    "## 5. collections 모듈\n",
    "- deque\n",
    "- OrderedDict\n",
    "- defaultdict\n",
    "- Counter\n",
    "- namedtuple"
   ]
  },
  {
   "cell_type": "markdown",
   "metadata": {},
   "source": [
    "### - Deque 모듈\n",
    "- deque모듈의 장점: 연결 리스트의 특성을 지원한다. 연결 리스트는 데이터를 저장할 때 요소의 값을 한 쪽으로 연결한 후, 요소의 다음 값의 주소값을 저장하여 데이터를 연결하는 기법이다."
   ]
  },
  {
   "cell_type": "code",
   "execution_count": 22,
   "metadata": {},
   "outputs": [
    {
     "name": "stdout",
     "output_type": "stream",
     "text": [
      "deque([0, 1, 2, 3, 4])\n"
     ]
    },
    {
     "data": {
      "text/plain": [
       "4"
      ]
     },
     "execution_count": 22,
     "metadata": {},
     "output_type": "execute_result"
    }
   ],
   "source": [
    "# 1. deque 모듈 - rotate 사용가능\n",
    "from collections import deque\n",
    "deque_list = deque()\n",
    "for i in range(5):\n",
    "    deque_list.append(i)\n",
    "print(deque_list)   # deque([0, 1, 2, 3, 4])\n",
    " \n",
    "deque_list.pop()   # 3 . 오른쪽 값부터 출력되고 사라진다."
   ]
  },
  {
   "cell_type": "code",
   "execution_count": 23,
   "metadata": {},
   "outputs": [
    {
     "name": "stdout",
     "output_type": "stream",
     "text": [
      "deque([4, 3, 2, 1, 0])\n"
     ]
    }
   ],
   "source": [
    "# - deque로 큐 사용하기 - appendleft\n",
    "deque_list = deque()\n",
    "for i in range(5):\n",
    "    deque_list.appendleft(i)\n",
    "\n",
    "print(deque_list)    # deque([4, 3, 2, 1, 0])"
   ]
  },
  {
   "cell_type": "markdown",
   "metadata": {},
   "source": [
    "- deque에서 rotate 사용"
   ]
  },
  {
   "cell_type": "code",
   "execution_count": 25,
   "metadata": {},
   "outputs": [
    {
     "name": "stdout",
     "output_type": "stream",
     "text": [
      "deque([4, 3, 2, 1, 0])\n",
      "deque([1, 0, 4, 3, 2])\n",
      "deque([3, 2, 1, 0, 4])\n"
     ]
    }
   ],
   "source": [
    "from collections import deque\n",
    "deque_list = deque()\n",
    "for i in range(5):\n",
    "    deque_list.appendleft(i)\n",
    "    \n",
    "print(deque_list)\n",
    "deque_list.rotate(2)  # 2칸씩 뒤로 당겨짐\n",
    "print(deque_list)\n",
    "deque_list.rotate(2)\n",
    "print(deque_list)\n"
   ]
  },
  {
   "cell_type": "markdown",
   "metadata": {},
   "source": [
    "- deque에서 reversed() 함수 사용"
   ]
  },
  {
   "cell_type": "code",
   "execution_count": 26,
   "metadata": {},
   "outputs": [
    {
     "name": "stdout",
     "output_type": "stream",
     "text": [
      "deque([4, 0, 1, 2, 3])\n"
     ]
    }
   ],
   "source": [
    "# deque 모듈은 reversed() 함수를 사용하여 기존과 반대로 데이터 저장 가능\n",
    "print(deque(reversed(deque_list)))"
   ]
  },
  {
   "cell_type": "markdown",
   "metadata": {},
   "source": [
    "- deque모듈에서 extend(), extendleft() 사용"
   ]
  },
  {
   "cell_type": "code",
   "execution_count": 27,
   "metadata": {},
   "outputs": [
    {
     "name": "stdout",
     "output_type": "stream",
     "text": [
      "deque([3, 2, 1, 0, 4])\n",
      "deque([3, 2, 1, 0, 4, 5, 6, 7])\n",
      "deque([7, 6, 5, 3, 2, 1, 0, 4, 5, 6, 7])\n"
     ]
    }
   ],
   "source": [
    "# deque 모듈은 기존의 list에서 지원하는 기능도 지원 - extend, extendleft\n",
    "print(deque_list)   # deque([3, 2, 1, 0, 4])\n",
    "deque_list.extend([5,6,7])\n",
    "print(deque_list)   # deque([3, 2, 1, 0, 4, 5, 6, 7])\n",
    "deque_list.extendleft([5,6,7])\n",
    "print(deque_list)   # deque([7, 6, 5, 3, 2, 1, 0, 4, 5, 6, 7])\n"
   ]
  },
  {
   "cell_type": "markdown",
   "metadata": {},
   "source": [
    "### - OrderDict 모듈\n",
    "- 이름 그대로 순서를 가진 딕셔너리 객체\n",
    "- 딕셔너리 파일을 저장하면 키는 저장 순서와 상관없이 저장된다. \n"
   ]
  },
  {
   "cell_type": "code",
   "execution_count": 28,
   "metadata": {},
   "outputs": [
    {
     "name": "stdout",
     "output_type": "stream",
     "text": [
      "x 100\n",
      "l 500\n",
      "y 200\n",
      "z 300\n"
     ]
    }
   ],
   "source": [
    "d = {}\n",
    "d['x']=100\n",
    "d['l']=500\n",
    "d['y']=200\n",
    "d['z']=300\n",
    "\n",
    "for k,v in d.items():\n",
    "    print(k,v)"
   ]
  },
  {
   "cell_type": "code",
   "execution_count": 29,
   "metadata": {},
   "outputs": [
    {
     "name": "stdout",
     "output_type": "stream",
     "text": [
      "x 100\n",
      "y 200\n",
      "z 300\n",
      "l 500\n"
     ]
    }
   ],
   "source": [
    "# orderdict\n",
    "from collections import OrderedDict\n",
    "\n",
    "d = OrderedDict()\n",
    "d['x'] = 100\n",
    "d['y'] = 200\n",
    "d['z'] = 300\n",
    "d['l'] = 500\n",
    "for k,v in d.items():\n",
    "    print(k,v)   # 입력한 순서대로 입력된다. "
   ]
  },
  {
   "cell_type": "code",
   "execution_count": 32,
   "metadata": {},
   "outputs": [
    {
     "name": "stdout",
     "output_type": "stream",
     "text": [
      "l 500\n",
      "x 100\n",
      "y 200\n",
      "z 300\n"
     ]
    }
   ],
   "source": [
    "def sort_by_key(t):\n",
    "    return t[0]\n",
    "\n",
    "from collections import OrderedDict\n",
    "d = dict()\n",
    "d['x'] = 100\n",
    "d['y'] = 200\n",
    "d['z'] = 300\n",
    "d['l'] = 500\n",
    "for k,v in OrderedDict(sorted(d.items(), key = sort_by_key)).items():\n",
    "    print(k,v)\n",
    "# sorted(d.items(), key = sort_by_key) : t[0]: key들 모음인데, 이걸 기준으로 정렬한다.  \n",
    "\n"
   ]
  },
  {
   "cell_type": "code",
   "execution_count": 31,
   "metadata": {},
   "outputs": [
    {
     "name": "stdout",
     "output_type": "stream",
     "text": [
      "l 500\n",
      "x 100\n",
      "y 200\n",
      "z 300\n"
     ]
    }
   ],
   "source": [
    "from collections import OrderedDict\n",
    "d = dict()\n",
    "d['x'] = 100\n",
    "d['y'] = 200\n",
    "d['z'] = 300\n",
    "d['l'] = 500\n",
    "\n",
    "for k,v in OrderedDict(sorted(d.items(), key = lambda x: x[0])).items():\n",
    "    print(k,v)\n",
    "# 함수 없이 이렇게 써도 똑같다."
   ]
  },
  {
   "cell_type": "markdown",
   "metadata": {},
   "source": [
    "### - defaultdict 모듈\n",
    "- 딕셔너리의 변수를 생성할 때 키에 기본 값을 지정하는 방법\n",
    "- 딕셔너리에서는 키를 생성하지 않고 해당 키의 값을 호출하면 오류가 발생한다. "
   ]
  },
  {
   "cell_type": "code",
   "execution_count": 33,
   "metadata": {},
   "outputs": [
    {
     "name": "stdout",
     "output_type": "stream",
     "text": [
      "0\n"
     ]
    }
   ],
   "source": [
    "# defaultdict 모듈\n",
    "from collections import defaultdict\n",
    "d = defaultdict(lambda: 0)   # default값을 0으로 설정한 것! lambda:0을 return 0으로 생각하면 된다. 어떤 키가 들어오더라도 처음 값은 전부 0으로 처리하겠다. \n",
    "print(d[\"first\"])  # 어떤 키가 들어와도 기본값 0\n"
   ]
  },
  {
   "cell_type": "code",
   "execution_count": 34,
   "metadata": {},
   "outputs": [
    {
     "name": "stdout",
     "output_type": "stream",
     "text": [
      "dict_items([('yellow', [1, 3]), ('blue', [2, 4]), ('red', [1])])\n"
     ]
    }
   ],
   "source": [
    "# defaultdict의 초기값 리스트 형태로도 지정 가능!\n",
    "from collections import defaultdict\n",
    "\n",
    "s = [('yellow',1), ('blue',2), ('yellow',3), ('blue',4), ('red',1)]\n",
    "d = defaultdict(list)\n",
    "for k, v in s:\n",
    "    d[k].append(v)\n",
    "\n",
    "print(d.items())"
   ]
  },
  {
   "cell_type": "markdown",
   "metadata": {},
   "source": [
    "### - Counter 모듈\n",
    "- 시퀀스 자료형의 데이터 요소 개수를 딕셔너리 형태로 반환하는 자료구조\n",
    "- 리스트나 문자열과 같은 시퀀스 자료형 안의 요소 중 값이 같은 것이 몇 개 있는지 반환해 준다. "
   ]
  },
  {
   "cell_type": "code",
   "execution_count": 35,
   "metadata": {},
   "outputs": [
    {
     "data": {
      "text/plain": [
       "3"
      ]
     },
     "execution_count": 35,
     "metadata": {},
     "output_type": "execute_result"
    }
   ],
   "source": [
    "# Counter 모듈\n",
    "from collections import Counter\n",
    "\n",
    "text = list(\"gallahad\")\n",
    "text\n",
    "c = Counter(text)\n",
    "c\n",
    "c[\"a\"]"
   ]
  },
  {
   "cell_type": "code",
   "execution_count": 39,
   "metadata": {},
   "outputs": [
    {
     "data": {
      "text/plain": [
       "Counter({'a': 2,\n",
       "         'press': 2,\n",
       "         'release': 2,\n",
       "         'is': 1,\n",
       "         'the': 1,\n",
       "         'quickest': 1,\n",
       "         'and': 3,\n",
       "         'easiest': 1,\n",
       "         'way': 1,\n",
       "         'to': 3,\n",
       "         'get': 1,\n",
       "         'free': 1,\n",
       "         'publicity.': 1,\n",
       "         'if': 1,\n",
       "         'well': 1,\n",
       "         'written,': 1,\n",
       "         'can': 2,\n",
       "         'result': 1,\n",
       "         'in': 1,\n",
       "         'muliple': 1,\n",
       "         'published': 1,\n",
       "         'articles': 1,\n",
       "         'about': 1,\n",
       "         'your': 1,\n",
       "         'firm': 1,\n",
       "         'its': 1,\n",
       "         'products.': 1,\n",
       "         'that': 1,\n",
       "         'mean': 1,\n",
       "         'new': 1,\n",
       "         'prospects': 1,\n",
       "         'contacting': 1,\n",
       "         'you': 2,\n",
       "         'asking': 1,\n",
       "         'sell': 1,\n",
       "         'them.': 1})"
      ]
     },
     "execution_count": 39,
     "metadata": {},
     "output_type": "execute_result"
    }
   ],
   "source": [
    "text = \"\"\"A press release is the quickest and easiest way to get free publicity. If well written, a press release can result in muliple published articles about your firm and its products. And that can mean new prospects contacting you asking you to sell to them.\"\"\".lower().split()\n",
    "\n",
    "Counter(text)"
   ]
  },
  {
   "cell_type": "markdown",
   "metadata": {},
   "source": [
    "### - namedtuple 모듈\n",
    "- 튜플의 형태로 데이터 구조체를 저장하는 방법"
   ]
  },
  {
   "cell_type": "code",
   "execution_count": 36,
   "metadata": {},
   "outputs": [
    {
     "data": {
      "text/plain": [
       "Point(x=11, y=22)"
      ]
     },
     "execution_count": 36,
     "metadata": {},
     "output_type": "execute_result"
    }
   ],
   "source": [
    "from collections import namedtuple\n",
    "\n",
    "Point = namedtuple('Point', ['x','y'])\n",
    "p = Point(11, y=22)\n",
    "p"
   ]
  },
  {
   "cell_type": "code",
   "execution_count": 37,
   "metadata": {},
   "outputs": [
    {
     "data": {
      "text/plain": [
       "(11, 22)"
      ]
     },
     "execution_count": 37,
     "metadata": {},
     "output_type": "execute_result"
    }
   ],
   "source": [
    "p.x, p.y"
   ]
  },
  {
   "cell_type": "code",
   "execution_count": 38,
   "metadata": {},
   "outputs": [
    {
     "name": "stdout",
     "output_type": "stream",
     "text": [
      "11 22\n"
     ]
    }
   ],
   "source": [
    "print(p[0], p[1])"
   ]
  },
  {
   "cell_type": "markdown",
   "metadata": {},
   "source": [
    "## 6. 텍스트 마이닝 프로그램\n",
    "- 딕셔너리와 collections 모듈을 이용하여 텍스트 마이닝 프로그램을 만들어 보자!\n",
    "\n",
    "- 문장의 단어 개수를 파악하는 코드를 작성한다. \n",
    "- defaultdict 모듈을 사용한다. \n",
    "- 단어의 출현 횟수를 기준으로 정렬된 결과를 보여 주기 위해 OrderedDict 모듈을 사용한다. "
   ]
  },
  {
   "cell_type": "code",
   "execution_count": 40,
   "metadata": {},
   "outputs": [
    {
     "name": "stdout",
     "output_type": "stream",
     "text": [
      "and 3\n",
      "to 3\n",
      "a 2\n",
      "press 2\n",
      "can 2\n",
      "you 2\n",
      "releases 1\n",
      "is 1\n",
      "the 1\n",
      "quickest 1\n",
      "eariest 1\n",
      "way 1\n",
      "get 1\n",
      "free 1\n",
      "publicity. 1\n",
      "if 1\n",
      "well 1\n",
      "written, 1\n",
      "release 1\n",
      "result 1\n",
      "in 1\n",
      "multiple 1\n",
      "published 1\n",
      "articles 1\n",
      "about 1\n",
      "your 1\n",
      "firm 1\n",
      "its 1\n",
      "products. 1\n",
      "that 1\n",
      "mean 1\n",
      "new 1\n",
      "prospects 1\n",
      "contacting 1\n",
      "asking 1\n",
      "sell 1\n",
      "them. 1\n"
     ]
    }
   ],
   "source": [
    "from collections import Counter\n",
    "from collections import defaultdict\n",
    "\n",
    "txt = \"A press releases is the quickest and eariest way to get free publicity.\\\n",
    "    If well written, a press release can result in multiple published articles about your firm and its products.\\\n",
    "        And that can mean new prospects contacting you asking you to sell to them.\"\n",
    "\n",
    "str_n = defaultdict(lambda: 0)\n",
    "\n",
    "txt_list = txt.lower().split(\" \")\n",
    "\n",
    "for k, v in Counter(txt_list).items():\n",
    "    str_n[k] = v\n",
    "#del(str_n[''])\n",
    "str_n.pop('', None)\n",
    "\n",
    "for k,v in OrderedDict(sorted(str_n.items(), key = lambda x: x[1], reverse = True )).items():\n",
    "    print(k,v)\n"
   ]
  },
  {
   "cell_type": "code",
   "execution_count": 42,
   "metadata": {},
   "outputs": [
    {
     "name": "stdout",
     "output_type": "stream",
     "text": [
      "and 3\n",
      "to 3\n",
      "a 2\n",
      "press 2\n",
      "release 2\n",
      "can 2\n",
      "you 2\n",
      "is 1\n",
      "the 1\n",
      "quickest 1\n",
      "easiest 1\n",
      "way 1\n",
      "get 1\n",
      "free 1\n",
      "publicity 1\n",
      "if 1\n",
      "well 1\n",
      "written 1\n",
      "result 1\n",
      "in 1\n",
      "muliple 1\n",
      "published 1\n",
      "articles 1\n",
      "about 1\n",
      "your 1\n",
      "firm 1\n",
      "its 1\n",
      "products 1\n",
      "that 1\n",
      "mean 1\n",
      "new 1\n",
      "prospects 1\n",
      "contacting 1\n",
      "asking 1\n",
      "sell 1\n",
      "them 1\n"
     ]
    }
   ],
   "source": [
    "# 방법 2.\n",
    "from collections import Counter, OrderedDict, defaultdict\n",
    "import re\n",
    "\n",
    "text=\"A press release is the quickest and easiest way to get free publicity. If well written, a press release can result in muliple published articles about your firm and its products. And that can mean new prospects contacting you asking you to sell to them.\"\n",
    "\n",
    "def count(text):    \n",
    "    test1=text.lower()   \n",
    "    test1=re.split('[,.\\n ]',test1)\n",
    "    while '' in test1: test1.remove('')\n",
    "    d_test1=defaultdict(lambda:0)\n",
    "    \n",
    "    for word in test1:\n",
    "        d_test1[word]+=1\n",
    "        \n",
    "    for k,v in OrderedDict(sorted(d_test1.items(), key=lambda t:t[1], reverse=True)).items():\n",
    "        print(k,v)\n",
    "\n",
    "count(text)"
   ]
  }
 ],
 "metadata": {
  "kernelspec": {
   "display_name": "[CPU_ENV]",
   "language": "python",
   "name": "cpu_env"
  },
  "language_info": {
   "codemirror_mode": {
    "name": "ipython",
    "version": 3
   },
   "file_extension": ".py",
   "mimetype": "text/x-python",
   "name": "python",
   "nbconvert_exporter": "python",
   "pygments_lexer": "ipython3",
   "version": "3.6.10"
  }
 },
 "nbformat": 4,
 "nbformat_minor": 4
}
