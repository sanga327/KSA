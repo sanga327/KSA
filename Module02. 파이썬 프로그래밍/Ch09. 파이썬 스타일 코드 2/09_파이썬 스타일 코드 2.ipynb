{
 "cells": [
  {
   "cell_type": "markdown",
   "metadata": {},
   "source": [
    "## 1. 람다 함수\n",
    "### - 람다(lambda) 함수\n",
    "- 함수의 이름 없이, 함수처럼 사용할 수 있는 익명의 함수"
   ]
  },
  {
   "cell_type": "code",
   "execution_count": 1,
   "metadata": {},
   "outputs": [
    {
     "name": "stdout",
     "output_type": "stream",
     "text": [
      "5\n"
     ]
    }
   ],
   "source": [
    "f = lambda x, y: x+y\n",
    "print(f(1,4))"
   ]
  },
  {
   "cell_type": "code",
   "execution_count": 2,
   "metadata": {},
   "outputs": [
    {
     "name": "stdout",
     "output_type": "stream",
     "text": [
      "6\n"
     ]
    }
   ],
   "source": [
    "# 람다 함수를 표현하는 다른 방식\n",
    "print( (lambda x:x+1)(5) )"
   ]
  },
  {
   "cell_type": "markdown",
   "metadata": {},
   "source": [
    "- 람다 함수의 다양한 형태"
   ]
  },
  {
   "cell_type": "code",
   "execution_count": 3,
   "metadata": {},
   "outputs": [
    {
     "data": {
      "text/plain": [
       "5"
      ]
     },
     "execution_count": 3,
     "metadata": {},
     "output_type": "execute_result"
    }
   ],
   "source": [
    "f = lambda x, y : x+y\n",
    "f(1,4)"
   ]
  },
  {
   "cell_type": "code",
   "execution_count": 4,
   "metadata": {},
   "outputs": [
    {
     "data": {
      "text/plain": [
       "9"
      ]
     },
     "execution_count": 4,
     "metadata": {},
     "output_type": "execute_result"
    }
   ],
   "source": [
    "f = lambda x: x**2\n",
    "f(3)"
   ]
  },
  {
   "cell_type": "code",
   "execution_count": 5,
   "metadata": {},
   "outputs": [
    {
     "data": {
      "text/plain": [
       "1.5"
      ]
     },
     "execution_count": 5,
     "metadata": {},
     "output_type": "execute_result"
    }
   ],
   "source": [
    "f = lambda x: x/2\n",
    "f(3)"
   ]
  },
  {
   "cell_type": "markdown",
   "metadata": {},
   "source": [
    "## 2. 맵리듀스\n",
    "### - map() 함수\n",
    "- 연속 데이터를 저장하는 시퀀스형에서 요소마다 같은 기능을 적용할 때 사용\n",
    "- 일반적으로 리스트나 튜플처럼 요소가 있는 시퀀스 자료형에 사용됨"
   ]
  },
  {
   "cell_type": "code",
   "execution_count": 6,
   "metadata": {},
   "outputs": [
    {
     "name": "stdout",
     "output_type": "stream",
     "text": [
      "[1, 4, 9, 16, 25]\n"
     ]
    }
   ],
   "source": [
    "ex = [1,2,3,4,5]\n",
    "f = lambda x:x**2\n",
    "print(list(map(f,ex)))  # 해당 코드로 f를 ex의 각 요소에 맵핑하라는 뜻"
   ]
  },
  {
   "cell_type": "markdown",
   "metadata": {},
   "source": [
    "### - map() 함수: 제너레이터의 사용\n",
    "- 한 가지 주의할 점은 파이썬 2.x와 3.x에서의 map( ) 함수 코드가 약간 다르다는 점이다.   파이썬 2.x에서는 map(f, ex)라고만 입력해도 리스트로 반환하지만, 3.x에서는 반드시list(map(f, ex))처럼 list를 붙여야 리스트로 반환한다. 이것은 제너레이터(generator)라는 개념이 강화되면서 생긴 추가 코드이다.\n",
    "- 제너레이터(generator)는 시퀀스 자료형의 데이터를 처리할 때, 실행 시점의 값을 생성하여 효율적으로 메모리를 관리할 수 있다는 장점이 있다.\n"
   ]
  },
  {
   "cell_type": "code",
   "execution_count": 7,
   "metadata": {},
   "outputs": [
    {
     "name": "stdout",
     "output_type": "stream",
     "text": [
      "1\n",
      "4\n",
      "9\n",
      "16\n",
      "25\n"
     ]
    }
   ],
   "source": [
    "# list를 붙이지 않는다면 다음과 같이 코딩할 수 있다. \n",
    "ex = [1,2,3,4,5]\n",
    "f = lambda x: x**2\n",
    "\n",
    "for value in map(f, ex):\n",
    "    print(value)"
   ]
  },
  {
   "cell_type": "markdown",
   "metadata": {},
   "source": [
    "### - map() 함수: 리스트 컴프리헨션과의 비교\n",
    "- 최근에는 람다 함수나 map() 함수를 개발에 사용하는 것을 권하지 않는다. \n",
    "- 리스트 컴프리헨션 기법으로 같은 효과를 낼 수 있기 때문에."
   ]
  },
  {
   "cell_type": "code",
   "execution_count": 8,
   "metadata": {},
   "outputs": [
    {
     "data": {
      "text/plain": [
       "[1, 4, 9, 16, 25]"
      ]
     },
     "execution_count": 8,
     "metadata": {},
     "output_type": "execute_result"
    }
   ],
   "source": [
    "# 앞의 코드를 리스트 컴프리헨션으로 변경해 보자. \n",
    "ex = [1,2,3,4,5]\n",
    "[x**2 for x in ex]"
   ]
  },
  {
   "cell_type": "markdown",
   "metadata": {},
   "source": [
    "### - map() 함수: 한 개 이상의 시퀀스 자료형 데이터의 처리\n",
    "- map( ) 함수의 또 다른 특징은 2개 이상의 시퀀스 자료형 데이터를 처리하는 데도 문제가 없어, 여러 개의 시퀀스 자료형 데이터를 입력값으로 사용할 수 있다는 점이다. 만약 람다 함수를 작성한다면, zip( ) 함수처럼 2개의 시퀀스 자료형 데이터에서 같은 위치에 있는 값끼리 대응해 계산할 수 있다. \n"
   ]
  },
  {
   "cell_type": "code",
   "execution_count": 9,
   "metadata": {},
   "outputs": [
    {
     "data": {
      "text/plain": [
       "[2, 4, 6, 8, 10]"
      ]
     },
     "execution_count": 9,
     "metadata": {},
     "output_type": "execute_result"
    }
   ],
   "source": [
    "# 다음 코드의 경우 ex변수와 같은 위치에 있는 값끼리 더한 결과가 출력된다. \n",
    "ex = [1,2,3,4,5]\n",
    "f = lambda x,y:x+y\n",
    "list(map(f,ex,ex))"
   ]
  },
  {
   "cell_type": "code",
   "execution_count": 10,
   "metadata": {},
   "outputs": [
    {
     "data": {
      "text/plain": [
       "[2, 4, 6, 8, 10]"
      ]
     },
     "execution_count": 10,
     "metadata": {},
     "output_type": "execute_result"
    }
   ],
   "source": [
    "# 위 코드를 리스트 컴프리헨션으로 변경하면 다음과 같다. \n",
    "[x+y for x,y in zip(ex, ex)]"
   ]
  },
  {
   "attachments": {},
   "cell_type": "markdown",
   "metadata": {},
   "source": [
    "### - map() 함수: 필터링 기능\n",
    "- map( ) 함수는 리스트 컴프리헨션처럼 필터링 기능을 사용할 수 있다. 한 가지 기억할 점은리스트 컴프리헨션과 달리 else문을 반드시 작성해 해당 경우가 존재하지 않는 경우를 지정해주어야 한다는 점이다.\n",
    "- 다음 코드에서 짝수일 때는 각 수를 제곱하고, 그렇지 않을 때는 해당 수를 그대로 출력하는코드를 작성하였다. 비교를 위해 같은 기능의 리스트 컴프리헨션 코드를 바로 아래에 작성하였다. 실제로 리스트 컴프리헨션 코드가 약간 더 직관적이라는 사실을 알 수 있다."
   ]
  },
  {
   "cell_type": "code",
   "execution_count": 12,
   "metadata": {},
   "outputs": [
    {
     "data": {
      "text/plain": [
       "[1, 4, 3, 16, 5]"
      ]
     },
     "execution_count": 12,
     "metadata": {},
     "output_type": "execute_result"
    }
   ],
   "source": [
    "list(map(lambda x:x**2 if x%2==0 else x, ex))   # map함수"
   ]
  },
  {
   "cell_type": "code",
   "execution_count": 11,
   "metadata": {},
   "outputs": [
    {
     "data": {
      "text/plain": [
       "[1, 4, 3, 16, 5]"
      ]
     },
     "execution_count": 11,
     "metadata": {},
     "output_type": "execute_result"
    }
   ],
   "source": [
    "[x**2 if x%2 ==0 else x for x in ex]    # 리스트 컴프리헨션"
   ]
  },
  {
   "cell_type": "markdown",
   "metadata": {},
   "source": [
    "### reduce() 함수\n",
    "- map()함수와 용법은 다르지만 형제처럼 함께 사용하는 변수\n",
    "- 리스트와 같은 시퀀스 자료형에 차례대로 함수를 적용하여 모든 값을 통합하는 함수"
   ]
  },
  {
   "cell_type": "code",
   "execution_count": 13,
   "metadata": {},
   "outputs": [
    {
     "name": "stdout",
     "output_type": "stream",
     "text": [
      "15\n"
     ]
    }
   ],
   "source": [
    "from functools import reduce\n",
    "print(reduce(lambda x,y: x+y, [1,2,3,4,5]))"
   ]
  },
  {
   "cell_type": "code",
   "execution_count": 14,
   "metadata": {},
   "outputs": [
    {
     "name": "stdout",
     "output_type": "stream",
     "text": [
      "15\n"
     ]
    }
   ],
   "source": [
    "# 9-3.\n",
    "x = 0\n",
    "for y in [1,2,3,4,5]:\n",
    "    x += y\n",
    "print(x)"
   ]
  },
  {
   "cell_type": "markdown",
   "metadata": {},
   "source": [
    "## 3. 별표의 활용\n",
    "### - 별표의 사용\n",
    "- 별표(asterisk)는 곱하기 기호(*)를 뜻한다. \n",
    "- 기본 연산자로, 단순 곱셈이나 제곱 연산에 자주 사용\n",
    "- 별표를 사용하는 특별한 경우: 함수의 가변 인사를 사용할 때 변수명 앞에 붙인다. "
   ]
  },
  {
   "cell_type": "code",
   "execution_count": 16,
   "metadata": {},
   "outputs": [
    {
     "name": "stdout",
     "output_type": "stream",
     "text": [
      "1 (2, 3, 4, 5, 6)\n",
      "<class 'tuple'>\n"
     ]
    }
   ],
   "source": [
    "# 가변 인수\n",
    "def asterisk_test(a, *args):\n",
    "    print(a, args)\n",
    "    print(type(args))\n",
    "asterisk_test(1,2,3,4,5,6)"
   ]
  },
  {
   "cell_type": "code",
   "execution_count": 17,
   "metadata": {},
   "outputs": [
    {
     "name": "stdout",
     "output_type": "stream",
     "text": [
      "1 {'b': 2, 'c': 3, 'd': 4, 'e': 5, 'f': 6}\n",
      "<class 'dict'>\n"
     ]
    }
   ],
   "source": [
    "# 키워드 가변 인수\n",
    "def asterisk_test(a, **kargs):\n",
    "    print(a, kargs)\n",
    "    print(type(kargs))\n",
    "asterisk_test(1,b=2,c=3,d=4,e=5,f=6)"
   ]
  },
  {
   "cell_type": "markdown",
   "metadata": {},
   "source": [
    "### - 별표의 언패킹 기능\n",
    "- 별표는 여러 개의 데이터를 담는 리스트, 튜플, 딕셔너리와 같은 자료형에서는 해당 데이터를 언패킹하는 기능을 한다. \n"
   ]
  },
  {
   "cell_type": "code",
   "execution_count": 18,
   "metadata": {},
   "outputs": [
    {
     "name": "stdout",
     "output_type": "stream",
     "text": [
      "1 2 3 4 5 6\n",
      "<class 'tuple'>\n"
     ]
    }
   ],
   "source": [
    "def asterisk_test(a, args):\n",
    "    print(a, *args)\n",
    "    print(type(args))\n",
    "asterisk_test(1,(2,3,4,5,6))"
   ]
  },
  {
   "attachments": {},
   "cell_type": "markdown",
   "metadata": {},
   "source": [
    "- 위 코드에서 asterisk_test 함수는 a와 args, 2개의 변수를 매개변수로 받는다. 여기서 주의할 점은 args 앞에 별표가 붙지 않았다는 점이다. 따라서 정수형인 a와 튜플형인 args가 매개변수에 입력된다. 핵심은 print(a, *args) 코드이다. 사실 args는 함수에 하나의 변수로 들어갔기 때문에 일반적이라면 다음과 같이 출력되어야 한다.  \n",
    "1 (2 3 4 5 6)  \n",
    "\n",
    "- 왜냐하면 튜플의 값은 하나의 변수이므로, 출력 시 괄호가 붙어 출력된다. 하지만 기대와 달리 1 2 3 4 5 6 형태로 출력되었다. 이는 일반적으로 print(a, b, c, d, e, f)처럼 각각의 변수를 하나씩 따로 입력했을 때 출력되는 형식이다. 이렇게 출력된 이유는 *args 때문이다. 즉, args 변수 앞에 별표가 붙어 이러한 결과가 나온 것이다. 이처럼 변수 앞의 별표는 해당변수를 언패킹한다. 즉, 하나의 튜플 (2, 3, 4, 5, 6)이 아닌 각각의 변수로 존재하는 2, 3, 4, 5, 6으로 변경된다. "
   ]
  },
  {
   "cell_type": "code",
   "execution_count": 19,
   "metadata": {},
   "outputs": [
    {
     "name": "stdout",
     "output_type": "stream",
     "text": [
      "1 (2, 3, 4, 5, 6)\n",
      "<class 'tuple'>\n"
     ]
    }
   ],
   "source": [
    "def asterisk_test(a, *args):\n",
    "    print(a, args)\n",
    "    print(type(args))\n",
    "    \n",
    "asterisk_test(1,*(2,3,4,5,6))  # 입력값이 언패킹되어 asterisk_test(1,2,3,4,5,6)같이 입력된 것"
   ]
  },
  {
   "cell_type": "code",
   "execution_count": 20,
   "metadata": {},
   "outputs": [
    {
     "name": "stdout",
     "output_type": "stream",
     "text": [
      "[1, 2] [3, 4] [5, 6]\n",
      "[1, 2] [3, 4] [5, 6]\n"
     ]
    }
   ],
   "source": [
    "a,b,c = ([1,2],[3,4],[5,6])\n",
    "print(a,b,c)\n",
    "\n",
    "data = ([1,2],[3,4],[5,6])\n",
    "print(*data)"
   ]
  },
  {
   "cell_type": "markdown",
   "metadata": {},
   "source": [
    "- 별표의 언패킹 기능을 유용하게 사용할 수 있는 방법 중 하나: zip() 함수와 함께 사용하기\n",
    "- 만약 이차원 리스트에서 행마다 한 학생의 수학, 영어, 국어 점수를 만들어 평균을 내고 싶다면, 2개의 for문을 사용하여 계산할 수 있다. \n",
    "- 하지만, 별표를 사용한다면 다음과 같이 하나의 for문만으로 원하는 결과를 낼 수 있다. "
   ]
  },
  {
   "cell_type": "code",
   "execution_count": 22,
   "metadata": {},
   "outputs": [
    {
     "name": "stdout",
     "output_type": "stream",
     "text": [
      "(1, 3, 5)\n",
      "<class 'tuple'>\n",
      "(2, 4, 6)\n",
      "<class 'tuple'>\n"
     ]
    }
   ],
   "source": [
    "for data in zip(*[[1,2],[3,4],[5,6]]):\n",
    "    print(data)\n",
    "    print(type(data))"
   ]
  },
  {
   "cell_type": "markdown",
   "metadata": {},
   "source": [
    "- 앞 코드에서 [[1, 2], [3, 4], [5, 6]]은 이차원 리스트로, 만약 언패킹한다면 [1, 2], [3, 4], [5, 6]으로 분리된다. 그리고 zip( ) 함수를 사용하여 같은 위치의 값을 튜플로 묶을 수 있다. 이로 인해 결과는 (1, 3, 5), (2, 4, 6)으로 나타난다. 필요에 따라 sum( ) 함수를 사용하여 각 인덱스값의 합계나 평균을 내기 유용하다. \n"
   ]
  },
  {
   "cell_type": "markdown",
   "metadata": {},
   "source": [
    "### - 별표의 언패킹 기능\n",
    "- 두 개의 별표를 사용할 경우: 딕셔너리형을 언패킹한다. \n"
   ]
  },
  {
   "cell_type": "code",
   "execution_count": 25,
   "metadata": {},
   "outputs": [
    {
     "name": "stdout",
     "output_type": "stream",
     "text": [
      "10 1 2 3\n"
     ]
    }
   ],
   "source": [
    "def asterisk_test(a,b,c,d,):\n",
    "    print(a,b,c,d)\n",
    "\n",
    "data = {\"b\":1, \"c\":2, \"d\":3}\n",
    "asterisk_test(10, **data)"
   ]
  },
  {
   "cell_type": "markdown",
   "metadata": {},
   "source": [
    "## 4. 선형대수학\n",
    "### - 벡터와 행렬의 개념: 벡터(vector)\n",
    "- 벡터: 크기+방향\n",
    "- 스칼라: 크기  \n",
    "  \n",
    "- 벡터는 앞에서 배운 리스트와 비슷하다. \n",
    "\n",
    "### - 벡터와 행렬의 개념: 행렬(matrix)\n",
    "- 행렬: 1개 이상의 벡터 모임\n",
    "- m x n 행렬: m개의 행과 n개의 열로 구성된 행렬"
   ]
  },
  {
   "cell_type": "code",
   "execution_count": 26,
   "metadata": {},
   "outputs": [],
   "source": [
    "# 벡터를 파이썬 스타일 코드로 표현해보자. \n",
    "vector_a = [1,2,10]  # 리스트로 표현\n",
    "vector_b = (1,2,10)  # 튜플로 표현\n",
    "vector_c = {'x':1, 'y':1, 'z':10}  # 딕셔너리로 표현"
   ]
  },
  {
   "cell_type": "markdown",
   "metadata": {},
   "source": [
    "### - 벡터의 연산\n",
    "- 같은 위치의 값끼리 연산\n",
    "- 벡터의 크기가 같아야 한다."
   ]
  },
  {
   "cell_type": "code",
   "execution_count": 29,
   "metadata": {},
   "outputs": [
    {
     "name": "stdout",
     "output_type": "stream",
     "text": [
      "[7, 10]\n",
      "[7, 10]\n"
     ]
    }
   ],
   "source": [
    "u = [2,2]\n",
    "v = [2,3]\n",
    "z = [3,5]\n",
    "result = []\n",
    "\n",
    "# 방법 1. 간결하지 못한 코드\n",
    "for i in range(len(u)): \n",
    "    result.append(u[i]+v[i]+z[i])\n",
    "print(result)   \n",
    "\n",
    "# 방법 2. 간결한 코드\n",
    "result = [sum(t) for t in zip(u,v,z)]\n",
    "print(result)\n"
   ]
  },
  {
   "cell_type": "markdown",
   "metadata": {},
   "source": [
    "### - 별표를 사용한 함수화\n",
    "- 4개 이상의 변수일 경우: 별표를 이용"
   ]
  },
  {
   "cell_type": "code",
   "execution_count": 30,
   "metadata": {},
   "outputs": [
    {
     "data": {
      "text/plain": [
       "[7, 10]"
      ]
     },
     "execution_count": 30,
     "metadata": {},
     "output_type": "execute_result"
    }
   ],
   "source": [
    "def vector_addition(*args):\n",
    "    return [sum(t) for t in zip(*args)]\n",
    "\n",
    "vector_addition(u,v,z)"
   ]
  },
  {
   "cell_type": "markdown",
   "metadata": {},
   "source": [
    "### - 파이썬 스타일 코드로 표현한 벡터: 스칼라 - 벡터 연산"
   ]
  },
  {
   "cell_type": "code",
   "execution_count": 31,
   "metadata": {},
   "outputs": [
    {
     "data": {
      "text/plain": [
       "[10, 12, 14]"
      ]
     },
     "execution_count": 31,
     "metadata": {},
     "output_type": "execute_result"
    }
   ],
   "source": [
    "u = [1,2,3]\n",
    "v = [4,4,4]\n",
    "alpha = 2\n",
    "\n",
    "result = [alpha * sum(t) for t in zip(u,v)]\n",
    "result"
   ]
  },
  {
   "cell_type": "markdown",
   "metadata": {},
   "source": [
    "### - 파이썬 스타일 코드로 표현한 행렬"
   ]
  },
  {
   "cell_type": "code",
   "execution_count": 32,
   "metadata": {},
   "outputs": [],
   "source": [
    "matrix_a = [[3,6],[4,5]]  # list\n",
    "matrix_b = [(3,6),(4,5)]  # tuple\n",
    "matrix_c = {(0,0):3, (0,1):6, (1,0):4, (1,1):5}   # dict"
   ]
  },
  {
   "cell_type": "markdown",
   "metadata": {},
   "source": [
    "### - 파이썬 스타일코드로 표현한 행렬: 행렬의 연산\n",
    "- 별표(*)와 zip()함수를 활용하여 작성"
   ]
  },
  {
   "cell_type": "code",
   "execution_count": 33,
   "metadata": {},
   "outputs": [
    {
     "name": "stdout",
     "output_type": "stream",
     "text": [
      "[[8, 14], [10, 12]]\n"
     ]
    }
   ],
   "source": [
    "matrix_a = [[3,6],[4,5]]\n",
    "matrix_b = [[5,8],[6,7]]\n",
    "result = [[sum(row) for row in zip(*t)] for t in zip(matrix_a, matrix_b)]\n",
    "\n",
    "print(result)"
   ]
  },
  {
   "cell_type": "code",
   "execution_count": 34,
   "metadata": {},
   "outputs": [
    {
     "data": {
      "text/plain": [
       "[([3, 6], [5, 8]), ([4, 5], [6, 7])]"
      ]
     },
     "execution_count": 34,
     "metadata": {},
     "output_type": "execute_result"
    }
   ],
   "source": [
    "[t for t in zip(matrix_a, matrix_b)]"
   ]
  },
  {
   "cell_type": "markdown",
   "metadata": {},
   "source": [
    "### - 파이썬 스타일코드로 표현한 행렬: 행렬의 동치\n",
    "- 2개의 행렬이 서로 같은지를 나타내는 표현\n",
    "- 행렬이 같다면 2개의 행렬이 동치라고 한다. "
   ]
  },
  {
   "cell_type": "code",
   "execution_count": 35,
   "metadata": {},
   "outputs": [
    {
     "data": {
      "text/plain": [
       "True"
      ]
     },
     "execution_count": 35,
     "metadata": {},
     "output_type": "execute_result"
    }
   ],
   "source": [
    "matrix_a = [[1,1],[1,1]]\n",
    "matrix_b = [[1,1],[1,1]]\n",
    "all([row[0]==value for t in zip(matrix_a, matrix_b) for row in zip(*t) for value in row])"
   ]
  },
  {
   "cell_type": "code",
   "execution_count": 36,
   "metadata": {},
   "outputs": [
    {
     "data": {
      "text/plain": [
       "False"
      ]
     },
     "execution_count": 36,
     "metadata": {},
     "output_type": "execute_result"
    }
   ],
   "source": [
    "matrix_b = [[5,8],[6,7]]\n",
    "all([all([row[0]==value for value in row]) for t in zip(matrix_a, matrix_b) for row in zip(*t)])"
   ]
  },
  {
   "cell_type": "markdown",
   "metadata": {},
   "source": [
    "- all()함수와 any()함수는 리스트형과 튜플형에서 내부 값이 and 조건이나 or 조건으로 참인지 거짓인지를 반환하는 함수이다. "
   ]
  },
  {
   "cell_type": "code",
   "execution_count": 38,
   "metadata": {},
   "outputs": [
    {
     "name": "stdout",
     "output_type": "stream",
     "text": [
      "False\n",
      "True\n",
      "False\n",
      "True\n"
     ]
    }
   ],
   "source": [
    "print(any([False, False, False]))\n",
    "print(any([False, True, False]))\n",
    "print(all([False, True, True]))\n",
    "print(all([True, True, True]))"
   ]
  },
  {
   "cell_type": "markdown",
   "metadata": {},
   "source": [
    "### - 파이썬 스타일코드로 표현한 행렬: 전치행렬(transpose matrix)\n",
    "- 주어진 mxn 행렬에서 행과 열을 바꾸어 만든 행렬\n"
   ]
  },
  {
   "cell_type": "code",
   "execution_count": 39,
   "metadata": {},
   "outputs": [
    {
     "data": {
      "text/plain": [
       "[[1, 4], [2, 5], [3, 6]]"
      ]
     },
     "execution_count": 39,
     "metadata": {},
     "output_type": "execute_result"
    }
   ],
   "source": [
    "matrix_a = [[1,2,3],[4,5,6]]\n",
    "result = [[element for element in t] for t in zip(*matrix_a)]\n",
    "result"
   ]
  },
  {
   "cell_type": "markdown",
   "metadata": {},
   "source": [
    "### - 파이썬 스타일코드로 표현한 행렬: 행렬의 곱셈"
   ]
  },
  {
   "cell_type": "code",
   "execution_count": 40,
   "metadata": {},
   "outputs": [
    {
     "data": {
      "text/plain": [
       "[[5, 8], [5, 6]]"
      ]
     },
     "execution_count": 40,
     "metadata": {},
     "output_type": "execute_result"
    }
   ],
   "source": [
    "matrix_a = [[1,1,2],[2,1,1]]\n",
    "matrix_b = [[1,1],[2,1],[1,3]]\n",
    "result = [[sum(a*b for a,b in zip(row_a, column_b)) for column_b in zip(*matrix_b)] for row_a in matrix_a]\n",
    "result"
   ]
  }
 ],
 "metadata": {
  "kernelspec": {
   "display_name": "[CPU_ENV]",
   "language": "python",
   "name": "cpu_env"
  },
  "language_info": {
   "codemirror_mode": {
    "name": "ipython",
    "version": 3
   },
   "file_extension": ".py",
   "mimetype": "text/x-python",
   "name": "python",
   "nbconvert_exporter": "python",
   "pygments_lexer": "ipython3",
   "version": "3.6.10"
  }
 },
 "nbformat": 4,
 "nbformat_minor": 4
}
