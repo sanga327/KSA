{
 "cells": [
  {
   "cell_type": "markdown",
   "metadata": {},
   "source": [
    "## 1. 객체 지향 프로그래밍의 이해\n",
    "- 객체(object): 실생활에 존재하는 실제적인 물건 또는 개념   \n",
    "    ex) 심판, 선수, 팀  \n",
    "- 속성(attribute): 객체가 가지고 있는 변수   \n",
    "    ex) 선수의 이름, 포지션, 소속  \n",
    "- 행동(action): 객체가 실제로 작동할 수 있는 함수. 메서드  \n",
    "    ex) 공을 차다, 패스하다.  "
   ]
  },
  {
   "cell_type": "markdown",
   "metadata": {},
   "source": [
    "- 클래스(class): 객체가 가져야 할 기본 정보를 담은 코드이다. \n",
    "    - 클래스는 일종의 설계 코드이다. \n",
    "    - 실제로 생성되는 객체를 인스턴스(instance)라고 한다.   \n",
    "    ex) 붕어빵 틀: 클래스 / 붕어빵: 인스턴스  "
   ]
  },
  {
   "cell_type": "markdown",
   "metadata": {},
   "source": [
    "## 2. 파이썬의 객체 지향 프로그래밍\n",
    "### - 클래스 구현하기\n",
    "- 파이썬에서 자주 사용하는 작명 기법\n",
    "    1. snake_case: 파이썬 함수나 변수명\n",
    "    2. CamelCase: 파이썬 클래스명"
   ]
  },
  {
   "cell_type": "markdown",
   "metadata": {},
   "source": [
    "### - 클래스 구현하기: 속성의 선언\n",
    "- 속성에 대한 정보를 선언하기 위해 __ init __ () 이라는 예약 함수 사용\n",
    "- 클래스에서 사용할 변수를 정의하는 함수\n",
    "- init의 첫째 매개변수는 반드시 self 변수 사용 \n",
    "- self 변수는 클래스에서 생성된 인스턴스에 접근하는 예약어"
   ]
  },
  {
   "cell_type": "code",
   "execution_count": null,
   "metadata": {},
   "outputs": [],
   "source": [
    "class SoccerPlayer(object):\n",
    "    def __init__(self, name, position, back_number):\n",
    "        self.name = name\n",
    "        self.position = position\n",
    "        slef.back_number = back_number"
   ]
  },
  {
   "cell_type": "markdown",
   "metadata": {},
   "source": [
    "### - 클래스 구현하기: 함수의 선언\n",
    "- 함수는 이 클래스가 의미하는 어떤 객체가 하는 다양한 동작을 정의할 수 있다. 만약 축구선수라면 등번호 교체라는 행동을 할 수 있다. \n",
    "- 클래스 내에서의 함수도 기존 함수와 비슷하다. \n",
    "- 함수의 이름을 쓰고 매개변수를 사용하면 된다. \n",
    "- 차이점은 self를 매개변수에 반드시 넣어야 한다는 것! self가 있어야 실제로 인스턴스가 사용할 수 있는 함수로 선언된다. "
   ]
  },
  {
   "cell_type": "code",
   "execution_count": null,
   "metadata": {},
   "outputs": [],
   "source": [
    "class SoccerPlayer(object):\n",
    "    def change_back_number(self, new_number):\n",
    "        print(\"선수의 등번호를 변경한다: From %d to %d\"%(self.back_number, new_number))\n",
    "        self.back_number = new_number"
   ]
  },
  {
   "cell_type": "markdown",
   "metadata": {},
   "source": [
    "### - 클래스 구현하기: _의 쓰임\n",
    "- 개수에 따라 쓰임이 나뉜다. \n",
    "- _ 1개는 이후로 쓰이지 않을 변수에 특별한 이름을 부여하고 싶지 않을 때 사용한다. \n",
    "- _ 2개를 사용하여 특수한 예약 함수나 변수에 사용하기도 한다. \n",
    "    - 대표적으로 __ str __ 이나 __ init __ () 와 같은 함수이다. \n",
    "    - __ str __ () 함수: 클래스로 인스턴스를 생성했을 때, 그 인스턴스 자체를 print() 함수로 화면에 출력하면 나오는 값을 뜻한다. "
   ]
  },
  {
   "cell_type": "code",
   "execution_count": 2,
   "metadata": {},
   "outputs": [
    {
     "name": "stdout",
     "output_type": "stream",
     "text": [
      "Hi\n",
      "Hi\n",
      "Hi\n",
      "Hi\n",
      "Hi\n"
     ]
    }
   ],
   "source": [
    "# 10-1.\n",
    "for _ in range(5):\n",
    "    print(\"Hi\")"
   ]
  },
  {
   "cell_type": "markdown",
   "metadata": {},
   "source": [
    "### - 인스턴스 사용하기\n",
    "- 클래스에서 인스턴스 호출하는 방법\n",
    "    - 먼저 클래스 이름을 사용하여 호출하고, 앞서 만든 __ init __ () 함수의 매개변수에 맞추어 값을 입력한다. \n",
    "    - 여기에서는 함수에서 배운 초기값 지정 등도 사용할 수 있다. \n",
    "    - self 변수는 아무런 값도 할당되지 않는다.\n",
    "    "
   ]
  },
  {
   "cell_type": "code",
   "execution_count": 3,
   "metadata": {},
   "outputs": [],
   "source": [
    "class SoccerPlayer(object):\n",
    "    def __init__(self, name, position, back_number):\n",
    "        self.name = name\n",
    "        self.position = position\n",
    "        self.back_number = back_number\n",
    "    \n",
    "    def change_back_number(self, new_number):\n",
    "        print(\"선수의 등번호를 변경한다: From %d to %d\"%(self.back_number, new_number))\n",
    "        self.back_number = new_number\n",
    "        \n",
    "    def __str__(self):\n",
    "        return \"Hello, My name is %s. I play in %s in center.\"%(self.name, self.position)"
   ]
  },
  {
   "cell_type": "code",
   "execution_count": 4,
   "metadata": {},
   "outputs": [
    {
     "name": "stdout",
     "output_type": "stream",
     "text": [
      "현재 선수의 등번호는:  10\n",
      "선수의 등번호를 변경한다: From 10 to 5\n",
      "현재 선수의 등번호는:  5\n"
     ]
    }
   ],
   "source": [
    "# SoccerPlayer를 사용하는 instance 코드\n",
    "jinhyun = SoccerPlayer(\"Jinhyun\",\"MF\",10)\n",
    "\n",
    "print(\"현재 선수의 등번호는: \", jinhyun.back_number)\n",
    "jinhyun.change_back_number(5)\n",
    "print(\"현재 선수의 등번호는: \", jinhyun.back_number)"
   ]
  },
  {
   "cell_type": "code",
   "execution_count": 5,
   "metadata": {},
   "outputs": [
    {
     "name": "stdout",
     "output_type": "stream",
     "text": [
      "Hello, My name is Jinhyun. I play in MF in center.\n"
     ]
    }
   ],
   "source": [
    "print(jinhyun)"
   ]
  },
  {
   "cell_type": "markdown",
   "metadata": {},
   "source": [
    "### - 클래스를 사용하는 이유\n",
    "- 코드가 데이터 저장 뿐 아니라 데이터 변환, 데이터베이스에 저장 등이 필요할 때, 리스트와 함수로 각각 만들어 공유하는 것보다 하나의 객체로 생성해 배포하는것이 손쉽다. \n",
    "- 코드를 쉽게 선언할 수 있다. "
   ]
  },
  {
   "cell_type": "code",
   "execution_count": 6,
   "metadata": {},
   "outputs": [
    {
     "name": "stdout",
     "output_type": "stream",
     "text": [
      "[['Messi', 'MF', 10], ['Ramos', 'DF', 4], ['Ronaldo', 'CF', 7], ['Park', 'WF', 13], ['Buffon', 'GK', 1]]\n",
      "['Messi', 'MF', 10]\n"
     ]
    }
   ],
   "source": [
    "# 데이터\n",
    "names = [\"Messi\",\"Ramos\",\"Ronaldo\",\"Park\",\"Buffon\"]\n",
    "positions = [\"MF\",\"DF\",\"CF\",\"WF\",\"GK\"]\n",
    "numbers = [10,4,7,13,1]\n",
    "\n",
    "# 이차원 리스트\n",
    "players = [[name, position, number] for name, position, number in zip(names, positions, numbers)]\n",
    "print(players)\n",
    "print(players[0])"
   ]
  },
  {
   "cell_type": "code",
   "execution_count": 7,
   "metadata": {},
   "outputs": [
    {
     "name": "stdout",
     "output_type": "stream",
     "text": [
      "Hello, My name is Messi. I play in MF in center.\n"
     ]
    }
   ],
   "source": [
    "# 클래스 - 인스턴스\n",
    "player_objects = [SoccerPlayer(name, position, number) for name, position, number in zip(names, positions, numbers)]\n",
    "print(player_objects[0])"
   ]
  },
  {
   "cell_type": "markdown",
   "metadata": {},
   "source": [
    "## 3. 노트북 프로그램 만들기\n",
    "- 노트(Note)를 정리하는 프로그램이다. \n",
    "- 사용자는 노트에 콘텐츠를 적을 수 있다. \n",
    "- 노트는 노트북(Notebook)에 삽입된다. \n",
    "- 노트북은 타이틀(title)이 있다. \n",
    "- 노트북은 노트가 삽입될 때 페이지를 생성하며, 최대 300페이지까지 저장할 수 있다. \n",
    "- 300페이지를 넘기면 노트를 더는 삽입하지 못한다. \n"
   ]
  },
  {
   "cell_type": "code",
   "execution_count": 23,
   "metadata": {},
   "outputs": [],
   "source": [
    "class Note(object):\n",
    "    def __init__(self, contents = None):\n",
    "        self.contents = contents\n",
    "        \n",
    "    def write_content(self, content):\n",
    "        self.contents = contents\n",
    "    \n",
    "    def remove_all(self):\n",
    "        self.contents = \"\"\n",
    "        \n",
    "    def __str__(self):\n",
    "        return self.contents\n",
    "    \n",
    "        \n",
    "class NoteBook(object):\n",
    "    def __init__(self, title):\n",
    "        self.title = title\n",
    "        self.page_number = 1\n",
    "        self.notes = {}\n",
    "        \n",
    "    def add_note(self, notes, page = 0):\n",
    "        if self.page_number < 300:\n",
    "            if page ==0:\n",
    "                self.notes[self.page_number] = notes\n",
    "                self.page_number += 1\n",
    "            else: \n",
    "                self.notes = {page:note}\n",
    "                self.page_number += 1\n",
    "        else: \n",
    "            print(\"페이지가 모두 채워졌다.\")\n",
    "        \n",
    "    def remove_note(self, page_number):\n",
    "        if page_number in self.notes.keys():\n",
    "            return self.notes.pop(page_number)\n",
    "        else:\n",
    "            print(\"해당 페이지는 존재하지 않는다.\")\n",
    "        \n",
    "    def get_number_of_pages(self):\n",
    "        return len(self.notes.keys())\n"
   ]
  },
  {
   "cell_type": "code",
   "execution_count": null,
   "metadata": {},
   "outputs": [],
   "source": [
    "# 위 파일을 notebook.py 라고 가정\n",
    "from notebook import Note\n",
    "from notebook import Notebook"
   ]
  },
  {
   "cell_type": "code",
   "execution_count": 19,
   "metadata": {},
   "outputs": [],
   "source": [
    "good_sentence = \"\"\"세상 사는 데 도움이 되는 명언, 힘이 되는 명언, 용기를 주는 명언, 위로되는 명언, 좋은 명언 모음 100가지. 자주 보면 좋을 것 같아 선별했습니다.\"\"\"\n",
    "note_1 = Note(good_sentence)\n",
    "\n",
    "good_sentence = \"\"\"삶이 있는 한 희망은 있다. - 키케로\"\"\"\n",
    "note_2 = Note(good_sentence)\n",
    "\n",
    "good_sentence = \"\"\"하루에 3시간을 걸으면 7년 후에 지구를 한 바퀴 돌 수 있다. -새뮤얼 존슨\"\"\"\n",
    "note_3 = Note(good_sentence)\n",
    "\n",
    "good_sentence = \"\"\"행복의 문이 하나 닫히면 다른 문이 열린다. 그러나 우리는 종종 닫힌 문을 멍하니 바라보다가 우리를 향해 열린 문을 보지 못하게 된다. - 헬렌 켈러\"\"\"\n",
    "note_4 = Note(good_sentence)"
   ]
  },
  {
   "cell_type": "code",
   "execution_count": 20,
   "metadata": {},
   "outputs": [
    {
     "data": {
      "text/plain": [
       "<__main__.Note at 0x21951ab6d68>"
      ]
     },
     "execution_count": 20,
     "metadata": {},
     "output_type": "execute_result"
    }
   ],
   "source": [
    "note_1"
   ]
  },
  {
   "cell_type": "code",
   "execution_count": 21,
   "metadata": {},
   "outputs": [
    {
     "name": "stdout",
     "output_type": "stream",
     "text": [
      "세상 사는 데 도움이 되는 명언, 힘이 되는 명언, 용기를 주는 명언, 위로되는 명언, 좋은 명언 모음 100가지. 자주 보면 좋을 것 같아 선별했습니다.\n"
     ]
    }
   ],
   "source": [
    "print(note_1)"
   ]
  },
  {
   "cell_type": "code",
   "execution_count": null,
   "metadata": {},
   "outputs": [],
   "source": [
    "note_1.remove()\n",
    "print(note_1)"
   ]
  },
  {
   "cell_type": "code",
   "execution_count": 25,
   "metadata": {},
   "outputs": [],
   "source": [
    "# 새로운 Notebook을 생성하는 코드\n",
    "wise_saying_notebook = NoteBook(\"명언 노트\")\n",
    "wise_saying_notebook.add_note(note_1)\n",
    "wise_saying_notebook.add_note(note_2)\n",
    "wise_saying_notebook.add_note(note_3)\n",
    "wise_saying_notebook.add_note(note_4)\n",
    "\n",
    "#print(wise_saying_notebook.get_number_of_all_pages())\n",
    "#print(wise_saying_notebook.get_number_of_all_characters())"
   ]
  },
  {
   "cell_type": "code",
   "execution_count": null,
   "metadata": {},
   "outputs": [],
   "source": [
    "# 노트의 추가나 삭제\n",
    "wise_saying_notebook.remove_note(3)\n",
    "print(wise_saying_notebook.get_number_of_all_pages())\n",
    "\n",
    "wise_saying_notebook.add_note(note_1,100)\n",
    "wise_saying_notebook.add_note(note_1,100)\n",
    "\n",
    "for i in range(300):\n",
    "    wise_saying_notebook.add_note(note_1, i)\n",
    "\n",
    "print(wise_saying_notebook.get_number_of_all_pages())"
   ]
  },
  {
   "cell_type": "markdown",
   "metadata": {},
   "source": [
    "## 4. 객체 지향 프로그래밍의 특징\n",
    "### - 상속 \n",
    "- 부모 클래스에 정의된 속성과 메서드를 자식 클래스가 물려받아 사용하는 것이다. "
   ]
  },
  {
   "cell_type": "code",
   "execution_count": 8,
   "metadata": {},
   "outputs": [
    {
     "name": "stdout",
     "output_type": "stream",
     "text": [
      "Sungchul\n"
     ]
    }
   ],
   "source": [
    "class Person(object):\n",
    "    def __init__(self, name, age):\n",
    "        self.name = name\n",
    "        self.age = age\n",
    "        \n",
    "class Korean(Person):\n",
    "    pass\n",
    "\n",
    "first_korean = Korean(\"Sungchul\", 35)\n",
    "print(first_korean.name)"
   ]
  },
  {
   "cell_type": "code",
   "execution_count": 27,
   "metadata": {},
   "outputs": [],
   "source": [
    "# 10-4.\n",
    "class Person(object):\n",
    "    def __init__(self, name, age, gender):\n",
    "        self.name = name\n",
    "        self.age = age\n",
    "        self.gender = gender\n",
    "        \n",
    "    def about_me(self):\n",
    "        print(\"저의 이름은\",self.name, \"이고요, 제 나이는\",str(self.age),\"살입니다.\")"
   ]
  },
  {
   "cell_type": "code",
   "execution_count": 28,
   "metadata": {},
   "outputs": [],
   "source": [
    "# 10-5\n",
    "class Employee(Person):   # 부모 클래스 Person으로부터 상속\n",
    "    def __init__(self, name, age, gender, salary, hire_date):\n",
    "        super().__init__(name, age, gender)  # 부모 객체 사용\n",
    "        self.salary = salary\n",
    "        self.hire_date = hire_date\n",
    "        \n",
    "    def do_work(self):\n",
    "        print(\"열심히 일을 한다.\")\n",
    "    \n",
    "    def about_me(self):    # 부모 클래스 함수 재정의\n",
    "        super().about_me()  # 부모 클래스 함수 재사용\n",
    "        print(\"제 급여는\", self.salary, \"원이고, 제 입사일은\",self.hire_date,\"입니다.\")"
   ]
  },
  {
   "cell_type": "markdown",
   "metadata": {},
   "source": [
    "### - 다형성(polymorphism) \n",
    "- 같은 이름의 메서드가 다른 기능을 할 수 있도록 하는 것을 말한다. "
   ]
  },
  {
   "cell_type": "code",
   "execution_count": null,
   "metadata": {},
   "outputs": [],
   "source": [
    "# 10-6. 의사 코드 - 작동 예시\n",
    "n_crawler = NaverCrawler()\n",
    "d_crawler = DaumCrawler()\n",
    "crawlers = [n_crawler, d_crawler]\n",
    "news = []\n",
    "for crawler in crawlers:\n",
    "    news.append(crawler.do_crawling())"
   ]
  },
  {
   "cell_type": "code",
   "execution_count": 29,
   "metadata": {},
   "outputs": [
    {
     "name": "stdout",
     "output_type": "stream",
     "text": [
      "Missy: Meow!\n",
      "Mr.Mistoffelees: Meow!\n",
      "Lassie: Woof! Woof!\n"
     ]
    }
   ],
   "source": [
    "# 10-7\n",
    "class Animal:\n",
    "    def __init__(self, name):\n",
    "        self.name = name\n",
    "    def talk(self):\n",
    "        raise NotImplementedError(\"Subclass must implement abstract method\")\n",
    "        \n",
    "class Cat(Animal):\n",
    "    def talk(self):\n",
    "        return 'Meow!'\n",
    "    \n",
    "class Dog(Animal):\n",
    "    def talk(self):\n",
    "        return 'Woof! Woof!'\n",
    "\n",
    "animals = [Cat('Missy'), Cat('Mr.Mistoffelees'), Dog('Lassie')]\n",
    "\n",
    "for animal in animals:\n",
    "    print(animal.name + ': '+ animal.talk())"
   ]
  },
  {
   "cell_type": "markdown",
   "metadata": {},
   "source": [
    "### - 가시성\n",
    "- 객체의 정보를 볼 수 있는 레벨을 조절하여 객체이 정보 접근을 숨기는 것을 말한다. \n",
    "- 좀 더 중요한 핵심 개념은 캡슐화와 정보 은닉이다. \n",
    "  \n",
    "- 파이썬의 가시성 사용 방법에 대한 예시 코드를 작성해야 하는 상황\n",
    "    - Product 객체를 Inventory 객체에 추가\n",
    "    - Inventory에는 오직 Product 객체만 들어감\n",
    "    - Inventory에 Product가 몇 개인지 확인이 필요\n",
    "    - Inventory에 Product items는 직접 접근이 불가"
   ]
  },
  {
   "cell_type": "code",
   "execution_count": 30,
   "metadata": {},
   "outputs": [
    {
     "ename": "AttributeError",
     "evalue": "'Inventory' object has no attribute 'add_new_items'",
     "output_type": "error",
     "traceback": [
      "\u001b[1;31m---------------------------------------------------------------------------\u001b[0m",
      "\u001b[1;31mAttributeError\u001b[0m                            Traceback (most recent call last)",
      "\u001b[1;32m<ipython-input-30-4b8bd37a7383>\u001b[0m in \u001b[0;36m<module>\u001b[1;34m\u001b[0m\n\u001b[0;32m     18\u001b[0m \u001b[1;33m\u001b[0m\u001b[0m\n\u001b[0;32m     19\u001b[0m \u001b[0mmy_inventory\u001b[0m \u001b[1;33m=\u001b[0m \u001b[0mInventory\u001b[0m\u001b[1;33m(\u001b[0m\u001b[1;33m)\u001b[0m\u001b[1;33m\u001b[0m\u001b[1;33m\u001b[0m\u001b[0m\n\u001b[1;32m---> 20\u001b[1;33m \u001b[0mmy_inventory\u001b[0m\u001b[1;33m.\u001b[0m\u001b[0madd_new_items\u001b[0m\u001b[1;33m(\u001b[0m\u001b[0mProduct\u001b[0m\u001b[1;33m(\u001b[0m\u001b[1;33m)\u001b[0m\u001b[1;33m)\u001b[0m\u001b[1;33m\u001b[0m\u001b[1;33m\u001b[0m\u001b[0m\n\u001b[0m\u001b[0;32m     21\u001b[0m \u001b[0mmy_inventory\u001b[0m\u001b[1;33m.\u001b[0m\u001b[0madd_new_items\u001b[0m\u001b[1;33m(\u001b[0m\u001b[0mProduct\u001b[0m\u001b[1;33m(\u001b[0m\u001b[1;33m)\u001b[0m\u001b[1;33m)\u001b[0m\u001b[1;33m\u001b[0m\u001b[1;33m\u001b[0m\u001b[0m\n\u001b[0;32m     22\u001b[0m \u001b[1;33m\u001b[0m\u001b[0m\n",
      "\u001b[1;31mAttributeError\u001b[0m: 'Inventory' object has no attribute 'add_new_items'"
     ]
    }
   ],
   "source": [
    "# 10-8\n",
    "class Product(object):\n",
    "    pass\n",
    "\n",
    "class Inventory(object):\n",
    "    def __init__(self):\n",
    "        self.__items = []\n",
    "        \n",
    "    def add_new_item(self, product):\n",
    "        if type(product)==Product:\n",
    "            self.__items.append(product)\n",
    "            print(\"new item added\")\n",
    "        else:\n",
    "            raise ValueError(\"Invalid Item\")\n",
    "        \n",
    "    def get_number_of_items(self):\n",
    "        return len(self.__items)\n",
    "    \n",
    "my_inventory = Inventory()\n",
    "my_inventory.add_new_items(Product())\n",
    "my_inventory.add_new_items(Product())\n",
    "\n",
    "my_inventory.__items  # 오류 발생!"
   ]
  },
  {
   "cell_type": "code",
   "execution_count": null,
   "metadata": {},
   "outputs": [],
   "source": [
    "# 이부분 추가하면 해당 변수를 외부에서 사용할 수 있다. \n",
    "class Inventory(object):\n",
    "    def __init__(self):\n",
    "        self.__items = []  # private 변수로 선언 (타인이 접근 X)\n",
    "        \n",
    "    @property   # 숨겨진 변수 반환\n",
    "    def items(self):\n",
    "        return self.__items"
   ]
  },
  {
   "cell_type": "code",
   "execution_count": 31,
   "metadata": {},
   "outputs": [],
   "source": [
    "# 추가해서 돌려보자!\n",
    "\n",
    "class Product(object):\n",
    "    pass\n",
    "\n",
    "class Inventory(object):\n",
    "    def __init__(self):\n",
    "        self.__items = []\n",
    "        \n",
    "    def add_new_item(self, product):\n",
    "        if type(product)==Product:\n",
    "            self.__items.append(product)\n",
    "            print(\"new item added\")\n",
    "        else:\n",
    "            raise ValueError(\"Invalid Item\")\n",
    "        \n",
    "    def get_number_of_items(self):\n",
    "        return len(self.__items)\n",
    "    \n",
    "    def __init__(self):\n",
    "        self.__items = []  # private 변수로 선언 (타인이 접근 X)\n",
    "        \n",
    "    @property   # 숨겨진 변수 반환\n",
    "    def items(self):\n",
    "        return self.__items"
   ]
  },
  {
   "cell_type": "code",
   "execution_count": 32,
   "metadata": {},
   "outputs": [],
   "source": [
    "my_inventory = Inventory()\n",
    "items = my_inventory.items\n",
    "items.append(Product())"
   ]
  },
  {
   "cell_type": "code",
   "execution_count": null,
   "metadata": {},
   "outputs": [],
   "source": []
  },
  {
   "cell_type": "code",
   "execution_count": null,
   "metadata": {},
   "outputs": [],
   "source": []
  }
 ],
 "metadata": {
  "kernelspec": {
   "display_name": "[CPU_ENV]",
   "language": "python",
   "name": "cpu_env"
  },
  "language_info": {
   "codemirror_mode": {
    "name": "ipython",
    "version": 3
   },
   "file_extension": ".py",
   "mimetype": "text/x-python",
   "name": "python",
   "nbconvert_exporter": "python",
   "pygments_lexer": "ipython3",
   "version": "3.6.10"
  }
 },
 "nbformat": 4,
 "nbformat_minor": 4
}
