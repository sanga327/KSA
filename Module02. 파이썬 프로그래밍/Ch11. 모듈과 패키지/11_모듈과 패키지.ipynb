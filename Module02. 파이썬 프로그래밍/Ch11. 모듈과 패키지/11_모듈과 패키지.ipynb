{
 "cells": [
  {
   "cell_type": "markdown",
   "metadata": {},
   "source": [
    "## 1. 모듈과 패키지의 이해\n",
    "### - 모듈의 개념\n",
    "- 작은 프로그램 조각을 말한다. \n",
    "- 대표적인 내장 모듈 중 하나인 random 모듈을 살펴보자. "
   ]
  },
  {
   "cell_type": "code",
   "execution_count": 1,
   "metadata": {},
   "outputs": [
    {
     "data": {
      "text/plain": [
       "227"
      ]
     },
     "execution_count": 1,
     "metadata": {},
     "output_type": "execute_result"
    }
   ],
   "source": [
    "import random\n",
    "random.randint(1,1000)"
   ]
  },
  {
   "cell_type": "markdown",
   "metadata": {},
   "source": [
    "## 2. 모듈 만들기\n"
   ]
  },
  {
   "cell_type": "code",
   "execution_count": null,
   "metadata": {},
   "outputs": [],
   "source": [
    "# fah_converter.py\n",
    "\n",
    "def convert_c_to_f(celcius_value):\n",
    "    return celcius_value * 9.0 / 5 +32"
   ]
  },
  {
   "cell_type": "code",
   "execution_count": null,
   "metadata": {},
   "outputs": [],
   "source": [
    "# module_ex.py\n",
    "\n",
    "import fah_converter\n",
    "\n",
    "print(\"Enter a celsius value: \")\n",
    "celsius = float(input())\n",
    "fahrenheit = fah_converter.convert_c_to_f(celsius)\n",
    "print(\"That's\",fahrenheit, \"degrees Fahrenheit.\")"
   ]
  },
  {
   "cell_type": "markdown",
   "metadata": {},
   "source": [
    "### - 네임스페이스\n",
    "- 네임스페이스는 모듈 호출의 범위를 지정한다. \n",
    "- 방법 1. alias 생성하여 모듈 안으로 코드를 호출하는 방법"
   ]
  },
  {
   "cell_type": "code",
   "execution_count": null,
   "metadata": {},
   "outputs": [],
   "source": [
    "# namespace1.py\n",
    "import fah_converter as fah\n",
    "print(fah.convert_c_to_f(41.6))"
   ]
  },
  {
   "cell_type": "markdown",
   "metadata": {},
   "source": [
    "- 방법 2. from 구문을 사용하여 모듈에서 특정 함수 또는 클래스만 호출하는 방법"
   ]
  },
  {
   "cell_type": "code",
   "execution_count": null,
   "metadata": {},
   "outputs": [],
   "source": [
    "# namespace2.py\n",
    "from fah_converter import convert_c_to_f\n",
    "print(convert_c_to_f(41.6))"
   ]
  },
  {
   "cell_type": "markdown",
   "metadata": {},
   "source": [
    "- 방법 3. 해당 모듈 안에 있는 모든 함수, 클래스, 변수를 가져오는 방법"
   ]
  },
  {
   "cell_type": "code",
   "execution_count": null,
   "metadata": {},
   "outputs": [],
   "source": [
    "# namespage3.py\n",
    "from fah_converter import * \n",
    "print(convert_c_to_f(41.6))"
   ]
  },
  {
   "cell_type": "markdown",
   "metadata": {},
   "source": [
    "### - 내장 모듈의 사용: random 모듈"
   ]
  },
  {
   "cell_type": "code",
   "execution_count": 2,
   "metadata": {},
   "outputs": [
    {
     "name": "stdout",
     "output_type": "stream",
     "text": [
      "22\n",
      "0.34679536963429247\n"
     ]
    }
   ],
   "source": [
    "import random\n",
    "print(random.randint(0,100))  # 0~100 사이의 정수 난수를 생성\n",
    "print(random.random())   # 일반적인 난수 생성"
   ]
  },
  {
   "cell_type": "markdown",
   "metadata": {},
   "source": [
    "### - 내장 모듈의 사용:  time 모듈"
   ]
  },
  {
   "cell_type": "code",
   "execution_count": 3,
   "metadata": {},
   "outputs": [
    {
     "name": "stdout",
     "output_type": "stream",
     "text": [
      "time.struct_time(tm_year=2021, tm_mon=4, tm_mday=25, tm_hour=14, tm_min=59, tm_sec=0, tm_wday=6, tm_yday=115, tm_isdst=0)\n"
     ]
    }
   ],
   "source": [
    "import time\n",
    "print(time.localtime())  # 현재 시각 출력"
   ]
  },
  {
   "cell_type": "markdown",
   "metadata": {},
   "source": [
    "### - 내장 모듈의 사용:  urllib 모듈\n",
    "- 웹과 관련된 urllib 모듈은 웹 주소의 정보를 불러온다. \n",
    "- 대표적으로 request 모듈을 이용하면 특정 URL의 정보를 불러올 수 있다. \n",
    "- urllib.request.urlopen()의 괄호에 특정 웹 주소를 입력하면 해당 주소의 HTML 정보를 가져온다. "
   ]
  },
  {
   "cell_type": "code",
   "execution_count": 4,
   "metadata": {},
   "outputs": [
    {
     "name": "stdout",
     "output_type": "stream",
     "text": [
      "b'<!DOCTYPE html>\\r\\n<html>\\r\\n<head id=\"ctl00_ctl00_Head1\"><title>\\r\\n\\ttheteamlab.io - Registered at Namecheap.com\\r\\n</title><meta http-equiv=\"Content-type\" content=\"text/html;charset=UTF-8\" />\\r\\n    <meta name=\"viewport\" content=\"width=device-width, user-scalable=no\">\\r\\n    <link href=\"http://i.cdnpark.com/themes/assets/style.css\" rel=\"stylesheet\" type=\"text/css\" media=\"screen\" />\\r\\n\\t<link href=\"http://i.cdnpark.com/themes/registrar/style_namecheap.css\" rel=\"stylesheet\" type=\"text/css\" media=\"screen\">\\r\\n\\t<script type=\"text/javascript\">document.write(\\'<script src=\"http://parkingcrew.net/jsparkcaf.php?regcn=243142&_v=2&_h=\\' + encodeURIComponent(location.host) + \\'&_t=\\' + (new Date().getTime()) + \\'\" type=\"text/javascript\"></scr\\' + \\'ipt>\\');</script>\\r\\n<meta name=\"Generator\" content=\"Sitefinity 3.7.2136.240:1\" /></head>\\r\\n<body>\\r\\n    <form name=\"aspnetForm\" method=\"post\" action=\"./registered.aspx\" id=\"aspnetForm\">\\r\\n<input type=\"hidden\" name=\"__VIEWSTATE\" id=\"__VIEWSTATE\" value=\"/wEPDwUENTM4MWRk7QwH37eG0TZXmi0GQ7GG9qdBHrEshSlGfLvr+K66hnw=\" />\\r\\n\\r\\n<input type=\"hidden\" name=\"__VIEWSTATEGENERATOR\" id=\"__VIEWSTATEGENERATOR\" value=\"15E68AF1\" />\\r\\n    \\r\\n    <div id=\"wrapper\">\\r\\n\\r\\n\\t\\t<!-- \\xc3\\xaf\\xc2\\xbf\\xc2\\xbd\\xc3\\xaf\\xc2\\xbf\\xc2\\xbd\\xc3\\xaf\\xc2\\xbf\\xc2\\xbd\\xc3\\xaf\\xc2\\xbf\\xc2\\xbd\\xc3\\xaf\\xc2\\xbf\\xc2\\xbd\\xc3\\xaf\\xc2\\xbf\\xc2\\xbd\\xc3\\xaf\\xc2\\xbf\\xc2\\xbd\\xc3\\xaf\\xc2\\xbf\\xc2\\xbd\\xc3\\xaf\\xc2\\xbf\\xc2\\xbd\\xc3\\xaf\\xc2\\xbf\\xc2\\xbd\\xc3\\xaf\\xc2\\xbf\\xc2\\xbd\\xc3\\xaf\\xc2\\xbf\\xc2\\xbd\\xc3\\xaf\\xc2\\xbf\\xc2\\xbd\\xc3\\xaf\\xc2\\xbf\\xc2\\xbd\\xc3\\xaf\\xc2\\xbf\\xc2\\xbd\\xc3\\xaf\\xc2\\xbf\\xc2\\xbd\\xc3\\xaf\\xc2\\xbf\\xc2\\xbd\\xc3\\xaf\\xc2\\xbf\\xc2\\xbd\\xc3\\xaf\\xc2\\xbf\\xc2\\xbd\\xc3\\xaf\\xc2\\xbf\\xc2\\xbd\\xc3\\xaf\\xc2\\xbf\\xc2\\xbd\\xc3\\xaf\\xc2\\xbf\\xc2\\xbd\\xc3\\xaf\\xc2\\xbf\\xc2\\xbd\\xc3\\xaf\\xc2\\xbf\\xc2\\xbd\\xc3\\xaf\\xc2\\xbf\\xc2\\xbd\\xc3\\xaf\\xc2\\xbf\\xc2\\xbd\\xc3\\xaf\\xc2\\xbf\\xc2\\xbd\\xc3\\xaf\\xc2\\xbf\\xc2\\xbd\\xc3\\xaf\\xc2\\xbf\\xc2\\xbd\\xc3\\xaf\\xc2\\xbf\\xc2\\xbd\\xc3\\xaf\\xc2\\xbf\\xc2\\xbd\\xc3\\xaf\\xc2\\xbf\\xc2\\xbd\\xc3\\xaf\\xc2\\xbf\\xc2\\xbd\\xc3\\xaf\\xc2\\xbf\\xc2\\xbd\\xc3\\xaf\\xc2\\xbf\\xc2\\xbd\\xc3\\xaf\\xc2\\xbf\\xc2\\xbd\\xc3\\xaf\\xc2\\xbf\\xc2\\xbd\\xc3\\xaf\\xc2\\xbf\\xc2\\xbd\\xc3\\xaf\\xc2\\xbf\\xc2\\xbd\\xc3\\xaf\\xc2\\xbf\\xc2\\xbd\\xc3\\xaf\\xc2\\xbf\\xc2\\xbd\\xc3\\xaf\\xc2\\xbf\\xc2\\xbd\\xc3\\xaf\\xc2\\xbf\\xc2\\xbd\\xc3\\xaf\\xc2\\xbf\\xc2\\xbd\\xc3\\xaf\\xc2\\xbf\\xc2\\xbd\\xc3\\xaf\\xc2\\xbf\\xc2\\xbd\\xc3\\xaf\\xc2\\xbf\\xc2\\xbd\\xc3\\xaf\\xc2\\xbf\\xc2\\xbd\\xc3\\xaf\\xc2\\xbf\\xc2\\xbd\\xc3\\xaf\\xc2\\xbf\\xc2\\xbd\\xc3\\xaf\\xc2\\xbf\\xc2\\xbd\\xc3\\xaf\\xc2\\xbf\\xc2\\xbd\\xc3\\xaf\\xc2\\xbf\\xc2\\xbd\\xc3\\xaf\\xc2\\xbf\\xc2\\xbd\\xc3\\xaf\\xc2\\xbf\\xc2\\xbd\\xc3\\xaf\\xc2\\xbf\\xc2\\xbd\\xc3\\xaf\\xc2\\xbf\\xc2\\xbd\\xc3\\xaf\\xc2\\xbf\\xc2\\xbd\\xc3\\xaf\\xc2\\xbf\\xc2\\xbd\\xc3\\xaf\\xc2\\xbf\\xc2\\xbd\\xc3\\xaf\\xc2\\xbf\\xc2\\xbd\\xc3\\xaf\\xc2\\xbf\\xc2\\xbd\\xc3\\xaf\\xc2\\xbf\\xc2\\xbd\\xc3\\xaf\\xc2\\xbf\\xc2\\xbd\\xc3\\xaf\\xc2\\xbf\\xc2\\xbd\\xc3\\xaf\\xc2\\xbf\\xc2\\xbd\\xc3\\xaf\\xc2\\xbf\\xc2\\xbd\\xc3\\xaf\\xc2\\xbf\\xc2\\xbd\\xc3\\xaf\\xc2\\xbf\\xc2\\xbd\\xc3\\xaf\\xc2\\xbf\\xc2\\xbd\\xc3\\xaf\\xc2\\xbf\\xc2\\xbd\\xc3\\xaf\\xc2\\xbf\\xc2\\xbd\\xc3\\xaf\\xc2\\xbf\\xc2\\xbd\\xc3\\xaf\\xc2\\xbf\\xc2\\xbd\\xc3\\xaf\\xc2\\xbf\\xc2\\xbd\\xc3\\xaf\\xc2\\xbf\\xc2\\xbd\\xc3\\xaf\\xc2\\xbf\\xc2\\xbd\\xc3\\xaf\\xc2\\xbf\\xc2\\xbd\\xc3\\xaf\\xc2\\xbf\\xc2\\xbd\\xc3\\xaf\\xc2\\xbf\\xc2\\xbd\\xc3\\xaf\\xc2\\xbf\\xc2\\xbd\\xc3\\xaf\\xc2\\xbf\\xc2\\xbd\\xc3\\xaf\\xc2\\xbf\\xc2\\xbd\\xc3\\xaf\\xc2\\xbf\\xc2\\xbd\\xc3\\xaf\\xc2\\xbf\\xc2\\xbd\\xc3\\xaf\\xc2\\xbf\\xc2\\xbd\\xc3\\xaf\\xc2\\xbf\\xc2\\xbd\\xc3\\xaf\\xc2\\xbf\\xc2\\xbd\\xc3\\xaf\\xc2\\xbf\\xc2\\xbd\\xc3\\xaf\\xc2\\xbf\\xc2\\xbd\\xc3\\xaf\\xc2\\xbf\\xc2\\xbd\\xc3\\xaf\\xc2\\xbf\\xc2\\xbd\\xc3\\xaf\\xc2\\xbf\\xc2\\xbdE-->\\r\\n\\t\\t<div id=\"twoclick\" style=\"display: none;\">\\r\\n\\t\\t<div id=\"holder\">\\r\\n\\t\\t\\t\\t<div id=\"header\">\\r\\n\\t\\t\\t\\t\\t<div class=\"width\">\\r\\n\\t\\t\\t\\t\\t\\t<div id=\"logo\">\\r\\n\\t\\t\\t\\t\\t\\t\\t<p>This domain is registered at<span id=\"regName\"> Namecheap</span><br />\\r\\n\\t\\t\\t\\t\\t\\t\\t<a href=\"//www.namecheap.com/?utm_source=parkingpage&utm_medium=referral&utm_campaign=parkingpage\"><img src=\"http://i.cdnpark.com/themes/registrar/images/logo_namecheap.png\" alt=\"Namecheap\"></a><br />\\r\\n\\t\\t\\t\\t\\t\\t\\t\\r\\n                            <span id=\"ctl00_ctl00_base_content_registeredOrExpiredText_Two\">This domain was recently registered at Namecheap. Please check back later!</span>.</p>\\r\\n\\t\\t\\t\\t\\t\\t</div>\\r\\n\\t\\t\\t\\t\\t\\t<h1 id=\"domaintitle\"><a href=\"#\">theteamlab.io</a></h1>\\r\\n\\t\\t\\t\\t\\t</div>\\r\\n\\t\\t\\t\\t</div><!--header-->\\r\\n\\t\\t\\t\\t<div id=\"main\" class=\"width\">\\r\\n\\t\\t\\t\\t\\t<div class=\"content\">\\r\\n\\t\\t\\t\\t\\t\\t<div id=\"tc_holder1\" class=\"tcblock\"></div>\\r\\n\\t\\t\\t\\t\\t\\t<div class=\"fix\"></div>\\r\\n\\t\\t\\t\\t\\t</div>\\r\\n\\t\\t\\t\\t\\t<div id=\"form\"></div>\\r\\n\\t\\t\\t\\t</div><!--main-->\\r\\n\\t\\t\\t</div>\\r\\n\\t\\t</div><!--twoclick-->\\r\\n\\r\\n\\t\\t<!-- \\xc3\\xaf\\xc2\\xbf\\xc2\\xbd\\xc3\\xaf\\xc2\\xbf\\xc2\\xbd\\xc3\\xaf\\xc2\\xbf\\xc2\\xbd\\xc3\\xaf\\xc2\\xbf\\xc2\\xbd\\xc3\\xaf\\xc2\\xbf\\xc2\\xbd\\xc3\\xaf\\xc2\\xbf\\xc2\\xbd\\xc3\\xaf\\xc2\\xbf\\xc2\\xbd\\xc3\\xaf\\xc2\\xbf\\xc2\\xbd\\xc3\\xaf\\xc2\\xbf\\xc2\\xbd\\xc3\\xaf\\xc2\\xbf\\xc2\\xbd\\xc3\\xaf\\xc2\\xbf\\xc2\\xbd\\xc3\\xaf\\xc2\\xbf\\xc2\\xbd\\xc3\\xaf\\xc2\\xbf\\xc2\\xbd\\xc3\\xaf\\xc2\\xbf\\xc2\\xbd\\xc3\\xaf\\xc2\\xbf\\xc2\\xbd\\xc3\\xaf\\xc2\\xbf\\xc2\\xbd\\xc3\\xaf\\xc2\\xbf\\xc2\\xbd\\xc3\\xaf\\xc2\\xbf\\xc2\\xbd\\xc3\\xaf\\xc2\\xbf\\xc2\\xbd\\xc3\\xaf\\xc2\\xbf\\xc2\\xbd\\xc3\\xaf\\xc2\\xbf\\xc2\\xbd\\xc3\\xaf\\xc2\\xbf\\xc2\\xbd\\xc3\\xaf\\xc2\\xbf\\xc2\\xbd\\xc3\\xaf\\xc2\\xbf\\xc2\\xbd\\xc3\\xaf\\xc2\\xbf\\xc2\\xbd\\xc3\\xaf\\xc2\\xbf\\xc2\\xbd\\xc3\\xaf\\xc2\\xbf\\xc2\\xbd\\xc3\\xaf\\xc2\\xbf\\xc2\\xbd\\xc3\\xaf\\xc2\\xbf\\xc2\\xbd\\xc3\\xaf\\xc2\\xbf\\xc2\\xbd\\xc3\\xaf\\xc2\\xbf\\xc2\\xbd\\xc3\\xaf\\xc2\\xbf\\xc2\\xbd\\xc3\\xaf\\xc2\\xbf\\xc2\\xbd\\xc3\\xaf\\xc2\\xbf\\xc2\\xbd\\xc3\\xaf\\xc2\\xbf\\xc2\\xbd\\xc3\\xaf\\xc2\\xbf\\xc2\\xbd\\xc3\\xaf\\xc2\\xbf\\xc2\\xbd\\xc3\\xaf\\xc2\\xbf\\xc2\\xbd\\xc3\\xaf\\xc2\\xbf\\xc2\\xbd\\xc3\\xaf\\xc2\\xbf\\xc2\\xbd\\xc3\\xaf\\xc2\\xbf\\xc2\\xbd\\xc3\\xaf\\xc2\\xbf\\xc2\\xbd\\xc3\\xaf\\xc2\\xbf\\xc2\\xbd\\xc3\\xaf\\xc2\\xbf\\xc2\\xbd\\xc3\\xaf\\xc2\\xbf\\xc2\\xbd\\xc3\\xaf\\xc2\\xbf\\xc2\\xbd\\xc3\\xaf\\xc2\\xbf\\xc2\\xbd\\xc3\\xaf\\xc2\\xbf\\xc2\\xbd\\xc3\\xaf\\xc2\\xbf\\xc2\\xbd\\xc3\\xaf\\xc2\\xbf\\xc2\\xbd\\xc3\\xaf\\xc2\\xbf\\xc2\\xbd\\xc3\\xaf\\xc2\\xbf\\xc2\\xbd\\xc3\\xaf\\xc2\\xbf\\xc2\\xbd\\xc3\\xaf\\xc2\\xbf\\xc2\\xbd\\xc3\\xaf\\xc2\\xbf\\xc2\\xbd\\xc3\\xaf\\xc2\\xbf\\xc2\\xbd\\xc3\\xaf\\xc2\\xbf\\xc2\\xbd\\xc3\\xaf\\xc2\\xbf\\xc2\\xbd\\xc3\\xaf\\xc2\\xbf\\xc2\\xbd\\xc3\\xaf\\xc2\\xbf\\xc2\\xbd\\xc3\\xaf\\xc2\\xbf\\xc2\\xbd\\xc3\\xaf\\xc2\\xbf\\xc2\\xbd\\xc3\\xaf\\xc2\\xbf\\xc2\\xbd\\xc3\\xaf\\xc2\\xbf\\xc2\\xbd\\xc3\\xaf\\xc2\\xbf\\xc2\\xbd\\xc3\\xaf\\xc2\\xbf\\xc2\\xbd\\xc3\\xaf\\xc2\\xbf\\xc2\\xbd\\xc3\\xaf\\xc2\\xbf\\xc2\\xbd\\xc3\\xaf\\xc2\\xbf\\xc2\\xbd\\xc3\\xaf\\xc2\\xbf\\xc2\\xbd\\xc3\\xaf\\xc2\\xbf\\xc2\\xbd\\xc3\\xaf\\xc2\\xbf\\xc2\\xbd\\xc3\\xaf\\xc2\\xbf\\xc2\\xbd\\xc3\\xaf\\xc2\\xbf\\xc2\\xbd\\xc3\\xaf\\xc2\\xbf\\xc2\\xbd\\xc3\\xaf\\xc2\\xbf\\xc2\\xbd\\xc3\\xaf\\xc2\\xbf\\xc2\\xbd\\xc3\\xaf\\xc2\\xbf\\xc2\\xbd\\xc3\\xaf\\xc2\\xbf\\xc2\\xbd\\xc3\\xaf\\xc2\\xbf\\xc2\\xbd\\xc3\\xaf\\xc2\\xbf\\xc2\\xbd\\xc3\\xaf\\xc2\\xbf\\xc2\\xbd\\xc3\\xaf\\xc2\\xbf\\xc2\\xbd\\xc3\\xaf\\xc2\\xbf\\xc2\\xbd\\xc3\\xaf\\xc2\\xbf\\xc2\\xbd\\xc3\\xaf\\xc2\\xbf\\xc2\\xbd\\xc3\\xaf\\xc2\\xbf\\xc2\\xbd\\xc3\\xaf\\xc2\\xbf\\xc2\\xbd\\xc3\\xaf\\xc2\\xbf\\xc2\\xbd\\xc3\\xaf\\xc2\\xbf\\xc2\\xbd\\xc3\\xaf\\xc2\\xbf\\xc2\\xbd\\xc3\\xaf\\xc2\\xbf\\xc2\\xbd\\xc3\\xaf\\xc2\\xbf\\xc2\\xbdE-->\\r\\n\\r\\n\\r\\n\\t\\t<!-- \\xc3\\xaf\\xc2\\xbf\\xc2\\xbd\\xc3\\xaf\\xc2\\xbf\\xc2\\xbd\\xc3\\xaf\\xc2\\xbf\\xc2\\xbd\\xc3\\xaf\\xc2\\xbf\\xc2\\xbd\\xc3\\xaf\\xc2\\xbf\\xc2\\xbd\\xc3\\xaf\\xc2\\xbf\\xc2\\xbd\\xc3\\xaf\\xc2\\xbf\\xc2\\xbd\\xc3\\xaf\\xc2\\xbf\\xc2\\xbd\\xc3\\xaf\\xc2\\xbf\\xc2\\xbd\\xc3\\xaf\\xc2\\xbf\\xc2\\xbd\\xc3\\xaf\\xc2\\xbf\\xc2\\xbd\\xc3\\xaf\\xc2\\xbf\\xc2\\xbd\\xc3\\xaf\\xc2\\xbf\\xc2\\xbd\\xc3\\xaf\\xc2\\xbf\\xc2\\xbd\\xc3\\xaf\\xc2\\xbf\\xc2\\xbd\\xc3\\xaf\\xc2\\xbf\\xc2\\xbd\\xc3\\xaf\\xc2\\xbf\\xc2\\xbd\\xc3\\xaf\\xc2\\xbf\\xc2\\xbd\\xc3\\xaf\\xc2\\xbf\\xc2\\xbd\\xc3\\xaf\\xc2\\xbf\\xc2\\xbd\\xc3\\xaf\\xc2\\xbf\\xc2\\xbd\\xc3\\xaf\\xc2\\xbf\\xc2\\xbd\\xc3\\xaf\\xc2\\xbf\\xc2\\xbd\\xc3\\xaf\\xc2\\xbf\\xc2\\xbd\\xc3\\xaf\\xc2\\xbf\\xc2\\xbd\\xc3\\xaf\\xc2\\xbf\\xc2\\xbd\\xc3\\xaf\\xc2\\xbf\\xc2\\xbd\\xc3\\xaf\\xc2\\xbf\\xc2\\xbd\\xc3\\xaf\\xc2\\xbf\\xc2\\xbd\\xc3\\xaf\\xc2\\xbf\\xc2\\xbd\\xc3\\xaf\\xc2\\xbf\\xc2\\xbd\\xc3\\xaf\\xc2\\xbf\\xc2\\xbd\\xc3\\xaf\\xc2\\xbf\\xc2\\xbd\\xc3\\xaf\\xc2\\xbf\\xc2\\xbd\\xc3\\xaf\\xc2\\xbf\\xc2\\xbd\\xc3\\xaf\\xc2\\xbf\\xc2\\xbd\\xc3\\xaf\\xc2\\xbf\\xc2\\xbd\\xc3\\xaf\\xc2\\xbf\\xc2\\xbd\\xc3\\xaf\\xc2\\xbf\\xc2\\xbd\\xc3\\xaf\\xc2\\xbf\\xc2\\xbd\\xc3\\xaf\\xc2\\xbf\\xc2\\xbd\\xc3\\xaf\\xc2\\xbf\\xc2\\xbd\\xc3\\xaf\\xc2\\xbf\\xc2\\xbd\\xc3\\xaf\\xc2\\xbf\\xc2\\xbd\\xc3\\xaf\\xc2\\xbf\\xc2\\xbd\\xc3\\xaf\\xc2\\xbf\\xc2\\xbd\\xc3\\xaf\\xc2\\xbf\\xc2\\xbd\\xc3\\xaf\\xc2\\xbf\\xc2\\xbd\\xc3\\xaf\\xc2\\xbf\\xc2\\xbd\\xc3\\xaf\\xc2\\xbf\\xc2\\xbd\\xc3\\xaf\\xc2\\xbf\\xc2\\xbd\\xc3\\xaf\\xc2\\xbf\\xc2\\xbd\\xc3\\xaf\\xc2\\xbf\\xc2\\xbd\\xc3\\xaf\\xc2\\xbf\\xc2\\xbd\\xc3\\xaf\\xc2\\xbf\\xc2\\xbd\\xc3\\xaf\\xc2\\xbf\\xc2\\xbd\\xc3\\xaf\\xc2\\xbf\\xc2\\xbd\\xc3\\xaf\\xc2\\xbf\\xc2\\xbd\\xc3\\xaf\\xc2\\xbf\\xc2\\xbd\\xc3\\xaf\\xc2\\xbf\\xc2\\xbd\\xc3\\xaf\\xc2\\xbf\\xc2\\xbd\\xc3\\xaf\\xc2\\xbf\\xc2\\xbd\\xc3\\xaf\\xc2\\xbf\\xc2\\xbd\\xc3\\xaf\\xc2\\xbf\\xc2\\xbd\\xc3\\xaf\\xc2\\xbf\\xc2\\xbd\\xc3\\xaf\\xc2\\xbf\\xc2\\xbd\\xc3\\xaf\\xc2\\xbf\\xc2\\xbd\\xc3\\xaf\\xc2\\xbf\\xc2\\xbd\\xc3\\xaf\\xc2\\xbf\\xc2\\xbd\\xc3\\xaf\\xc2\\xbf\\xc2\\xbd\\xc3\\xaf\\xc2\\xbf\\xc2\\xbd\\xc3\\xaf\\xc2\\xbf\\xc2\\xbd\\xc3\\xaf\\xc2\\xbf\\xc2\\xbd\\xc3\\xaf\\xc2\\xbf\\xc2\\xbd\\xc3\\xaf\\xc2\\xbf\\xc2\\xbd\\xc3\\xaf\\xc2\\xbf\\xc2\\xbd\\xc3\\xaf\\xc2\\xbf\\xc2\\xbd\\xc3\\xaf\\xc2\\xbf\\xc2\\xbd\\xc3\\xaf\\xc2\\xbf\\xc2\\xbd\\xc3\\xaf\\xc2\\xbf\\xc2\\xbd\\xc3\\xaf\\xc2\\xbf\\xc2\\xbd\\xc3\\xaf\\xc2\\xbf\\xc2\\xbd\\xc3\\xaf\\xc2\\xbf\\xc2\\xbd\\xc3\\xaf\\xc2\\xbf\\xc2\\xbd\\xc3\\xaf\\xc2\\xbf\\xc2\\xbd\\xc3\\xaf\\xc2\\xbf\\xc2\\xbd\\xc3\\xaf\\xc2\\xbf\\xc2\\xbd\\xc3\\xaf\\xc2\\xbf\\xc2\\xbd\\xc3\\xaf\\xc2\\xbf\\xc2\\xbd\\xc3\\xaf\\xc2\\xbf\\xc2\\xbd\\xc3\\xaf\\xc2\\xbf\\xc2\\xbd\\xc3\\xaf\\xc2\\xbf\\xc2\\xbd\\xc3\\xaf\\xc2\\xbf\\xc2\\xbdE-->\\r\\n\\t\\t<div id=\"oneclick\" style=\"display: none\">\\r\\n\\t\\t\\t<div id=\"header\">\\r\\n\\t\\t\\t\\t<div class=\"width\">\\r\\n\\t\\t\\t\\t\\t<div id=\"logo\">\\r\\n\\t\\t\\t\\t\\t\\t<p>This domain is registered at<span id=\"regName\"> Namecheap</span><br />\\r\\n\\t\\t\\t\\t\\t\\t<a href=\"javascript:void(0);\" data-href=\"https://www.namecheap.com/?utm_source=parkingpage&utm_medium=referral&utm_campaign=parkingpage\" onclick=\"window.open(this.getAttribute(\\'data-href\\'));return false;\" rel=\"noindex,nofollow\"><img src=\"http://i.cdnpark.com/themes/registrar/images/logo_namecheap.png\"></a><br />\\r\\n                        <span id=\"ctl00_ctl00_base_content_registeredOrExpiredText_One\">This domain was recently registered at Namecheap. Please check back later!</span>.</p>\\r\\n\\t\\t\\t\\t\\t</div>\\r\\n\\t\\t\\t\\t\\t<h1 id=\"domaintitle\"><a href=\"#\">theteamlab.io</a></h1>\\r\\n\\t\\t\\t\\t</div>\\r\\n\\t\\t\\t</div><!--header-->\\r\\n\\t\\t\\t<div id=\"main\" class=\"width\">\\r\\n\\t\\t\\t\\t<div id=\\'ads\\'></div>\\r\\n\\t\\t\\t\\t<div id=\"sidebar\"></div>\\r\\n\\t\\t\\t\\t<div class=\"fix\"></div>\\r\\n\\t\\t\\t\\t<div id=\"form\"></div>\\r\\n\\t\\t\\t</div><!--main-->\\r\\n\\t\\t</div><!--onelick-->\\r\\n\\t\\t<!-- \\xc3\\xaf\\xc2\\xbf\\xc2\\xbd\\xc3\\xaf\\xc2\\xbf\\xc2\\xbd\\xc3\\xaf\\xc2\\xbf\\xc2\\xbd\\xc3\\xaf\\xc2\\xbf\\xc2\\xbd\\xc3\\xaf\\xc2\\xbf\\xc2\\xbd\\xc3\\xaf\\xc2\\xbf\\xc2\\xbd\\xc3\\xaf\\xc2\\xbf\\xc2\\xbd\\xc3\\xaf\\xc2\\xbf\\xc2\\xbd\\xc3\\xaf\\xc2\\xbf\\xc2\\xbd\\xc3\\xaf\\xc2\\xbf\\xc2\\xbd\\xc3\\xaf\\xc2\\xbf\\xc2\\xbd\\xc3\\xaf\\xc2\\xbf\\xc2\\xbd\\xc3\\xaf\\xc2\\xbf\\xc2\\xbd\\xc3\\xaf\\xc2\\xbf\\xc2\\xbd\\xc3\\xaf\\xc2\\xbf\\xc2\\xbd\\xc3\\xaf\\xc2\\xbf\\xc2\\xbd\\xc3\\xaf\\xc2\\xbf\\xc2\\xbd\\xc3\\xaf\\xc2\\xbf\\xc2\\xbd\\xc3\\xaf\\xc2\\xbf\\xc2\\xbd\\xc3\\xaf\\xc2\\xbf\\xc2\\xbd\\xc3\\xaf\\xc2\\xbf\\xc2\\xbd\\xc3\\xaf\\xc2\\xbf\\xc2\\xbd\\xc3\\xaf\\xc2\\xbf\\xc2\\xbd\\xc3\\xaf\\xc2\\xbf\\xc2\\xbd\\xc3\\xaf\\xc2\\xbf\\xc2\\xbd\\xc3\\xaf\\xc2\\xbf\\xc2\\xbd\\xc3\\xaf\\xc2\\xbf\\xc2\\xbd\\xc3\\xaf\\xc2\\xbf\\xc2\\xbd\\xc3\\xaf\\xc2\\xbf\\xc2\\xbd\\xc3\\xaf\\xc2\\xbf\\xc2\\xbd\\xc3\\xaf\\xc2\\xbf\\xc2\\xbd\\xc3\\xaf\\xc2\\xbf\\xc2\\xbd\\xc3\\xaf\\xc2\\xbf\\xc2\\xbd\\xc3\\xaf\\xc2\\xbf\\xc2\\xbd\\xc3\\xaf\\xc2\\xbf\\xc2\\xbd\\xc3\\xaf\\xc2\\xbf\\xc2\\xbd\\xc3\\xaf\\xc2\\xbf\\xc2\\xbd\\xc3\\xaf\\xc2\\xbf\\xc2\\xbd\\xc3\\xaf\\xc2\\xbf\\xc2\\xbd\\xc3\\xaf\\xc2\\xbf\\xc2\\xbd\\xc3\\xaf\\xc2\\xbf\\xc2\\xbd\\xc3\\xaf\\xc2\\xbf\\xc2\\xbd\\xc3\\xaf\\xc2\\xbf\\xc2\\xbd\\xc3\\xaf\\xc2\\xbf\\xc2\\xbd\\xc3\\xaf\\xc2\\xbf\\xc2\\xbd\\xc3\\xaf\\xc2\\xbf\\xc2\\xbd\\xc3\\xaf\\xc2\\xbf\\xc2\\xbd\\xc3\\xaf\\xc2\\xbf\\xc2\\xbd\\xc3\\xaf\\xc2\\xbf\\xc2\\xbd\\xc3\\xaf\\xc2\\xbf\\xc2\\xbd\\xc3\\xaf\\xc2\\xbf\\xc2\\xbd\\xc3\\xaf\\xc2\\xbf\\xc2\\xbd\\xc3\\xaf\\xc2\\xbf\\xc2\\xbd\\xc3\\xaf\\xc2\\xbf\\xc2\\xbd\\xc3\\xaf\\xc2\\xbf\\xc2\\xbd\\xc3\\xaf\\xc2\\xbf\\xc2\\xbd\\xc3\\xaf\\xc2\\xbf\\xc2\\xbd\\xc3\\xaf\\xc2\\xbf\\xc2\\xbd\\xc3\\xaf\\xc2\\xbf\\xc2\\xbd\\xc3\\xaf\\xc2\\xbf\\xc2\\xbd\\xc3\\xaf\\xc2\\xbf\\xc2\\xbd\\xc3\\xaf\\xc2\\xbf\\xc2\\xbd\\xc3\\xaf\\xc2\\xbf\\xc2\\xbd\\xc3\\xaf\\xc2\\xbf\\xc2\\xbd\\xc3\\xaf\\xc2\\xbf\\xc2\\xbd\\xc3\\xaf\\xc2\\xbf\\xc2\\xbd\\xc3\\xaf\\xc2\\xbf\\xc2\\xbd\\xc3\\xaf\\xc2\\xbf\\xc2\\xbd\\xc3\\xaf\\xc2\\xbf\\xc2\\xbd\\xc3\\xaf\\xc2\\xbf\\xc2\\xbd\\xc3\\xaf\\xc2\\xbf\\xc2\\xbd\\xc3\\xaf\\xc2\\xbf\\xc2\\xbd\\xc3\\xaf\\xc2\\xbf\\xc2\\xbd\\xc3\\xaf\\xc2\\xbf\\xc2\\xbd\\xc3\\xaf\\xc2\\xbf\\xc2\\xbd\\xc3\\xaf\\xc2\\xbf\\xc2\\xbd\\xc3\\xaf\\xc2\\xbf\\xc2\\xbd\\xc3\\xaf\\xc2\\xbf\\xc2\\xbd\\xc3\\xaf\\xc2\\xbf\\xc2\\xbd\\xc3\\xaf\\xc2\\xbf\\xc2\\xbd\\xc3\\xaf\\xc2\\xbf\\xc2\\xbd\\xc3\\xaf\\xc2\\xbf\\xc2\\xbd\\xc3\\xaf\\xc2\\xbf\\xc2\\xbd\\xc3\\xaf\\xc2\\xbf\\xc2\\xbd\\xc3\\xaf\\xc2\\xbf\\xc2\\xbd\\xc3\\xaf\\xc2\\xbf\\xc2\\xbd\\xc3\\xaf\\xc2\\xbf\\xc2\\xbd\\xc3\\xaf\\xc2\\xbf\\xc2\\xbd\\xc3\\xaf\\xc2\\xbf\\xc2\\xbd\\xc3\\xaf\\xc2\\xbf\\xc2\\xbd\\xc3\\xaf\\xc2\\xbf\\xc2\\xbd\\xc3\\xaf\\xc2\\xbf\\xc2\\xbd\\xc3\\xaf\\xc2\\xbf\\xc2\\xbdE-->\\r\\n\\r\\n\\t</div><!--wrapper-->\\r\\n\\t<div style=\"clear: both;\"></div>\\r\\n    \\r\\n    \\r\\n\\r\\n\\t<div id=\"footer\" class=\"width\">\\r\\n\\t\\t2021 Copyright. All Rights Reserved. <br/><br/>\\r\\n\\t\\tThe Sponsored Listings displayed above are served automatically by a third party. Neither Parkingcrew nor the domain owner maintain any relationship with the advertisers. \\r\\n        <br/><br/><a onclick=\"showPolicy();\" href=\"javascript:void(0);\">Privacy Policy</a>\\r\\n\\t</div>\\r\\n    \\r\\n    \\r\\n<div class=\"trackingcontainer\">\\r\\n\\r\\n</div>\\r\\n\\r\\n    <script>\\r\\n        function showPolicy() {\\r\\n            policywnd = window.open(\\'http://www.parkingcrew.net/privacy.html\\', \\'pcrew_policy\\', \\'width=890,height=330,left=200,top=200,menubar=no,status=yes,toolbar=no\\'); policywnd.focus();\\r\\n        }\\r\\n    </script>\\r\\n\\t<script>\\r\\n\\t\\tconst replacementLink = \\'namecheap.com\\';\\r\\n\\t\\tconst host = document.location.host.replace(\\'www.\\', \\'\\');\\r\\n\\t\\tfunction replaceUtmSource(source) {\\r\\n\\t\\t\\treturn source.replace(\\'utm_source=parkingpage\\', \\'utm_source=\\' + host);\\r\\n\\t\\t}\\r\\n\\t\\tfor (const link of Array.from(document.getElementsByTagName(\\'a\\'))) {\\r\\n\\t\\t\\tconst dataHrefValue = link.getAttribute(\\'data-href\\');\\r\\n\\t\\t\\tif (dataHrefValue && dataHrefValue.includes(replacementLink)) {\\r\\n\\t\\t\\t\\tlink.setAttribute(\\'data-href\\', replaceUtmSource(dataHrefValue));\\r\\n\\t\\t\\t\\tcontinue;\\r\\n\\t\\t\\t}\\r\\n\\t\\t\\tconst hrefValue = link.getAttribute(\\'href\\');\\r\\n\\t\\t\\tif (hrefValue && hrefValue.includes(replacementLink)) {\\r\\n\\t\\t\\t\\tlink.setAttribute(\\'href\\', replaceUtmSource(hrefValue));\\r\\n\\t\\t\\t\\tcontinue;\\r\\n\\t\\t\\t}\\r\\n\\t\\t}\\r\\n\\t</script>\\r\\n\\r\\n    \\r\\n    \\r\\n    \\r\\n    \\r\\n    \\r\\n    \\r\\n</form>\\r\\n    <form id=\"clientForm\" action=\"\"></form>\\r\\n</body>\\r\\n</html>\\r\\n'\n"
     ]
    }
   ],
   "source": [
    "import urllib.request\n",
    "response = urllib.request.urlopen(\"http://theteamlab.io\")\n",
    "print(response.read())"
   ]
  },
  {
   "attachments": {},
   "cell_type": "markdown",
   "metadata": {},
   "source": [
    "## 3. 패키지 만들기\n",
    "- 패키지는 하나의 대형 프로젝트를 수행하기 위한 모듈의 묶음이다. 모듈은 하나의 파일로 이루어져 있고, 패키지는 파일이 포함된 디렉터리(폴더)로 구성된다. 즉, 여러 개의 .py 파일이 하나의 디렉터리에 들어가 있는 것을 패키지라고 한다.\n",
    "- 흔히 다른 사람이 만든 프로그램을 불러 사용하는 것을 라이브러리(library)라고 하는데, 파이썬에서는 패키지를 하나의 라이브러리로 이해하면 된다. \n",
    "- 파이썬의 모듈을 구성할 때와 마찬가지로 패키지에도 예약어가 있다. 한 가지 주의할 점은 패키지에서는 파일명 자체가 예약어를 반드시 지켜야만 실행되는 경우가 있다. 따라서 패키지 내의 몇몇 파일에는 _ _init_ _, _ _main_ _ 등의 키워드 파일명이 사용된다. "
   ]
  },
  {
   "attachments": {},
   "cell_type": "markdown",
   "metadata": {},
   "source": [
    "### - 패키지 만들기 실습 1단계: 디렉터리 구성하기\n",
    "이번 실습에서 만들 패키지 이름은 ‘roboadvisor’이다. roboadvisor에는 세 가지 기능이 있다고 가정하자.\n",
    "1. crawling(크롤링): 주식 관련 데이터를 인터넷에서 가져오는 기능\n",
    "2. database(데이터베이스): 가져온 데이터를 데이터베이스에 저장하는 기능\n",
    "3. analysis(분석): 해당 정보를 분석하여 의미 있는 값을 뽑는 기능"
   ]
  },
  {
   "cell_type": "markdown",
   "metadata": {},
   "source": [
    "- cmd 창에 다음 명령어를 입력하여 디렉터리 생성하자.\n",
    "> mkdir roboadvisor  \n",
    "> cd roboadvisor  \n",
    "> mkdir crawling  \n",
    "> mkdir database  \n",
    "> mkdir analysis  "
   ]
  },
  {
   "cell_type": "markdown",
   "metadata": {},
   "source": [
    "### - 패키지 만들기 실습 2단계: 디렉터리별로 필요한 모듈 만들기\n",
    "- 만들어진 디렉터리에 필요한 모듈을 만든다. 하나의 패키지는 중첩된 구조로 만들 수 있으므로 패키지 안에 또 하나의 패키지가 들어갈 수 있다. 하지만 이렇게 각각의 디렉터리를 하나의 패키지로 선언하기 위해서는 예약된 파일을 만들어야 한다. 바로 _ _init_ _.py이다.\n",
    "- crawling 디렉터리, database 디렉터리에도 비슷하게 생성하자."
   ]
  },
  {
   "cell_type": "code",
   "execution_count": null,
   "metadata": {},
   "outputs": [],
   "source": [
    "# analysis 디렉터리\n",
    "# series.py\n",
    "def series_test():\n",
    "    print(\"series\")\n",
    "\n",
    "# statics.py\n",
    "def statics_test():\n",
    "    print(\"statics\")\n",
    "    \n",
    "#__init__.py\n",
    "from . import series\n",
    "from . import statics\n",
    "\n",
    "__all__ = ['series','statics']"
   ]
  },
  {
   "cell_type": "code",
   "execution_count": null,
   "metadata": {},
   "outputs": [],
   "source": [
    "# crawling 디렉터리\n",
    "# parser.py\n",
    "def parser_test():\n",
    "    print(\"parser\")\n",
    "\n",
    "# scrap.py\n",
    "def scrap_test():\n",
    "    print(\"scrap\")\n",
    "    \n",
    "#__init__.py\n",
    "from . import parser\n",
    "from . import scrap\n",
    "\n",
    "__all__ = ['parser','scrap']"
   ]
  },
  {
   "cell_type": "code",
   "execution_count": null,
   "metadata": {},
   "outputs": [],
   "source": [
    "# database 디렉터리\n",
    "# connection.py\n",
    "def connection_test():\n",
    "    print(\"connection\")\n",
    "\n",
    "# query.py\n",
    "def query_test():\n",
    "    print(\"query\")\n",
    "    \n",
    "#__init__.py\n",
    "from . import connection\n",
    "from . import query\n",
    "\n",
    "__all__ = ['connection','query']"
   ]
  },
  {
   "cell_type": "markdown",
   "metadata": {},
   "source": [
    "### - 패키지 만들기 실습 3단계: 디렉터리별로 _ init __ .py 구성하기\n",
    "### - 패키지 만들기 실습 4단계: __ main __ .py 만들기"
   ]
  },
  {
   "cell_type": "code",
   "execution_count": null,
   "metadata": {},
   "outputs": [],
   "source": [
    "# roboadvisor 디렉터리\n",
    "# __init__.py\n",
    "import analysis\n",
    "import crawling\n",
    "import database\n",
    "\n",
    "__all__ = ['analysis','crawling','database']\n",
    "\n",
    "# __main__.py\n",
    "from analysis.series import series_test\n",
    "from crawling.parser import parser_test\n",
    "\n",
    "if __name__ == '__main__':\n",
    "    series_test()\n",
    "    parser_test()\n",
    "    "
   ]
  },
  {
   "cell_type": "markdown",
   "metadata": {},
   "source": [
    "### - 패키지 만들기 실습 5단계: 실행하기(패키지 이름만으로 호출하기)"
   ]
  },
  {
   "cell_type": "markdown",
   "metadata": {},
   "source": [
    "- roboadvisor의 상위 디렉터리에서\n",
    "> python roboadvisor  "
   ]
  },
  {
   "cell_type": "markdown",
   "metadata": {},
   "source": [
    "### - 패키지 네임스페이스: 절대 참조\n",
    "- 절대 참조의 예시"
   ]
  },
  {
   "cell_type": "code",
   "execution_count": null,
   "metadata": {},
   "outputs": [],
   "source": [
    "# reference1.py\n",
    "__all__ = ['analysis','crawling','database']\n",
    "\n",
    "from roboadvisor import analysis\n",
    "from roboadvisor import crawling\n",
    "from roboadvisor import database\n"
   ]
  },
  {
   "cell_type": "markdown",
   "metadata": {},
   "source": [
    "### - 패키지 네임스페이스: 상대 참조\n",
    "- 상대 참조의 핵심은 현재의 디렉터리를 기준으로 모듈을 호출하는 것"
   ]
  },
  {
   "cell_type": "code",
   "execution_count": null,
   "metadata": {},
   "outputs": [],
   "source": [
    "# reference2.py\n",
    "from .series import series_test   # 점 1개는 현재 디렉터리를 의미\n",
    "from ..crawling.parser import parser_test   # 점 2개는 부모 디렉터리를 의미"
   ]
  },
  {
   "attachments": {},
   "cell_type": "markdown",
   "metadata": {},
   "source": [
    "## 4. 가상환경 사용하기\n",
    "### - 가상환경의 개념\n",
    "- 일반적으로 어떤 프로젝트를 수행할 때는 파이썬 코드를 수행할 기본 인터프리터에서 추가로 프로젝트별로 필요한 패키지를 설치한다. 이러한 패키지를 설치할 때 서로 다른 프로젝트가 영향을 받지 않도록 독립적인 프로젝트 수행 환경을 구성하는데, 이를 가상환경이라고 한다.\n",
    "    - virtualenv + pip : 가장 대표적인 가상환경 관리 도구\n",
    "    - conda: 상용 가상환경 도구인 miniconda의 기본 가상환경 도구\n",
    "    \n",
    "### - 가상환경 만들기\n",
    "> conda create -n my_project python=3.4  \n",
    "> activate my_project\n",
    "\n",
    "- 실행된 가상환경 종료 \n",
    "> deactivate  \n",
    "\n",
    "- 가상환경 패키지 설치하기\n",
    "> conda install matplotlib"
   ]
  }
 ],
 "metadata": {
  "kernelspec": {
   "display_name": "[CPU_ENV]",
   "language": "python",
   "name": "cpu_env"
  },
  "language_info": {
   "codemirror_mode": {
    "name": "ipython",
    "version": 3
   },
   "file_extension": ".py",
   "mimetype": "text/x-python",
   "name": "python",
   "nbconvert_exporter": "python",
   "pygments_lexer": "ipython3",
   "version": "3.6.10"
  }
 },
 "nbformat": 4,
 "nbformat_minor": 4
}
