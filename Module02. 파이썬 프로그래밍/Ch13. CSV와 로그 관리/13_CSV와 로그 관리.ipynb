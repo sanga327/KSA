{
 "cells": [
  {
   "cell_type": "markdown",
   "metadata": {},
   "source": [
    "## 1. CSV\n",
    "### - csv의 개념\n",
    "- 콤마를 기준으로 나누어진 값\n",
    "- 어디서나 사용할 수 있도록 텍스트 데이터를 사용한다. "
   ]
  },
  {
   "cell_type": "markdown",
   "metadata": {},
   "source": [
    "### - csv 파일 다루기: 파일 객체를 사용하여 데이터 다루기"
   ]
  },
  {
   "cell_type": "code",
   "execution_count": 1,
   "metadata": {},
   "outputs": [
    {
     "name": "stdout",
     "output_type": "stream",
     "text": [
      "Header: ['customerNumber', 'customerName', 'contactLastName', 'contactFirstName', 'phone', 'addressLine1', 'addressLine2', 'city', 'state', 'postalCode', 'country', 'salesRepEmployeeNumber', 'creditLimit\\n']\n",
      "Data 0 : ['103', 'Atelier graphique', 'Schmitt', 'Carine ', '40.32.2555', '\"54', ' rue Royale\"', 'NULL', 'Nantes', 'NULL', '44000', 'France', '1370', '21000\\n']\n",
      "Data 1 : ['112', 'Signal Gift Stores', 'King', 'Jean', '7025551838', '8489 Strong St.', 'NULL', 'Las Vegas', 'NV', '83030', 'USA', '1166', '71800\\n']\n",
      "Data 2 : ['114', '\"Australian Collectors', ' Co.\"', 'Ferguson', 'Peter', '03 9520 4555', '636 St Kilda Road', 'Level 3', 'Melbourne', 'Victoria', '3004', 'Australia', '1611', '117300\\n']\n",
      "Data 3 : ['119', 'La Rochelle Gifts', 'Labrune', 'Janine ', '40.67.8555', '\"67', ' rue des Cinquante Otages\"', 'NULL', 'Nantes', 'NULL', '44000', 'France', '1370', '118200\\n']\n",
      "Data 4 : ['121', 'Baane Mini Imports', 'Bergulfsen', 'Jonas ', '07-98 9555', 'Erling Skakkes gate 78', 'NULL', 'Stavern', 'NULL', '4110', 'Norway', '1504', '81700\\n']\n",
      "Data 5 : ['124', 'Mini Gifts Distributors Ltd.', 'Nelson', 'Susan', '4155551450', '5677 Strong St.', 'NULL', 'San Rafael', 'CA', '97562', 'USA', '1165', '210500\\n']\n",
      "Data 6 : ['125', 'Havel & Zbyszek Co', 'Piestrzeniewicz', 'Zbyszek ', '(26) 642-7555', 'ul. Filtrowa 68', 'NULL', 'Warszawa', 'NULL', '01-012', 'Poland', 'NULL', '0\\n']\n",
      "Data 7 : ['128', '\"Blauer See Auto', ' Co.\"', 'Keitel', 'Roland', '+49 69 66 90 2555', 'Lyonerstr. 34', 'NULL', 'Frankfurt', 'NULL', '60528', 'Germany', '1504', '59700\\n']\n",
      "Data 8 : ['129', 'Mini Wheels Co.', 'Murphy', 'Julie', '6505555787', '5557 North Pendale Street', 'NULL', 'San Francisco', 'CA', '94217', 'USA', '1165', '64600\\n']\n",
      "Data 9 : ['131', 'Land of Toys Inc.', 'Lee', 'Kwai', '2125557818', '897 Long Airport Avenue', 'NULL', 'NYC', 'NY', '10022', 'USA', '1323', '114900\\n']\n",
      "122\n"
     ]
    }
   ],
   "source": [
    "line_counter = 0     # 파일의 총 줄 수 세는 변수\n",
    "data_header = []     # 데이터의 필드값 저장\n",
    "customer_list = []   # customer의 개별 리스트 저장\n",
    "\n",
    "with open(\"./data/customers.csv\") as customer_data:\n",
    "    while 1:\n",
    "        data = customer_data.readline()\n",
    "        if not data: \n",
    "            break\n",
    "            \n",
    "        if line_counter == 0:   # 첫 줄은 데이터의 필드값으로\n",
    "            data_header = data.split(\",\")\n",
    "        else:\n",
    "            customer_list.append(data.split(\",\"))     \n",
    "        line_counter += 1\n",
    "        \n",
    "print(\"Header:\", data_header)   # 데이터 필드값 출력\n",
    "for i in range(0,10):   # 데이터 출력(샘플 10개)\n",
    "    print(\"Data\",i,\":\",customer_list[i])\n",
    "print(len(customer_list))  # 전체 데이터 크기 출력"
   ]
  },
  {
   "cell_type": "markdown",
   "metadata": {},
   "source": [
    "- 읽은 정보를 csv 파일에 쓰는 실습을 진행해보자.\n",
    "- 필요한 정보만 따로 리스트에 저장하여 csv 파일에 쓰는 방식으로 작성할 수 있다. "
   ]
  },
  {
   "cell_type": "code",
   "execution_count": 4,
   "metadata": {},
   "outputs": [
    {
     "name": "stdout",
     "output_type": "stream",
     "text": [
      "Header: ['customerNumber', 'customerName', 'contactLastName', 'contactFirstName', 'phone', 'addressLine1', 'addressLine2', 'city', 'state', 'postalCode', 'country', 'salesRepEmployeeNumber', 'creditLimit\\n']\n",
      "Data: ['112', 'Signal Gift Stores', 'King', 'Jean', '7025551838', '8489 Strong St.', 'NULL', 'Las Vegas', 'NV', '83030', 'USA', '1166', '71800\\n']\n",
      "Data: ['124', 'Mini Gifts Distributors Ltd.', 'Nelson', 'Susan', '4155551450', '5677 Strong St.', 'NULL', 'San Rafael', 'CA', '97562', 'USA', '1165', '210500\\n']\n",
      "Data: ['129', 'Mini Wheels Co.', 'Murphy', 'Julie', '6505555787', '5557 North Pendale Street', 'NULL', 'San Francisco', 'CA', '94217', 'USA', '1165', '64600\\n']\n",
      "Data: ['131', 'Land of Toys Inc.', 'Lee', 'Kwai', '2125557818', '897 Long Airport Avenue', 'NULL', 'NYC', 'NY', '10022', 'USA', '1323', '114900\\n']\n",
      "Data: ['151', 'Muscle Machine Inc', 'Young', 'Jeff', '2125557413', '4092 Furth Circle', 'Suite 400', 'NYC', 'NY', '10022', 'USA', '1286', '138500\\n']\n",
      "Data: ['157', 'Diecast Classics Inc.', 'Leong', 'Kelvin', '2155551555', '7586 Pompton St.', 'NULL', 'Allentown', 'PA', '70267', 'USA', '1216', '100600\\n']\n",
      "Data: ['161', 'Technics Stores Inc.', 'Hashimoto', 'Juri', '6505556809', '9408 Furth Circle', 'NULL', 'Burlingame', 'CA', '94217', 'USA', '1165', '84600\\n']\n",
      "Data: ['168', 'American Souvenirs Inc', 'Franco', 'Keith', '2035557845', '149 Spinnaker Dr.', 'Suite 101', 'New Haven', 'CT', '97823', 'USA', '1286', '0\\n']\n",
      "Data: ['173', 'Cambridge Collectables Co.', 'Tseng', 'Jerry', '6175555555', '4658 Baden Av.', 'NULL', 'Cambridge', 'MA', '51247', 'USA', '1188', '43400\\n']\n",
      "Data: ['175', 'Gift Depot Inc.', 'King', 'Julie', '2035552570', '25593 South Bay Ln.', 'NULL', 'Bridgewater', 'CT', '97562', 'USA', '1323', '84300\\n']\n",
      "34\n"
     ]
    }
   ],
   "source": [
    "line_counter = 0\n",
    "data_header = []\n",
    "employee = []\n",
    "customer_USA_only_list = []\n",
    "customer = None\n",
    "\n",
    "with open(\"./data/customers.csv\", \"r\") as customer_data:\n",
    "    while 1:\n",
    "        data = customer_data.readline()\n",
    "        if not data:\n",
    "            break\n",
    "        if line_counter == 0:\n",
    "            data_header = data.split(\",\")\n",
    "        else:\n",
    "            customer = data.split(\",\")\n",
    "            if customer[10].upper() == \"USA\": \n",
    "                customer_USA_only_list.append(customer)    \n",
    "        line_counter += 1\n",
    "\n",
    "print(\"Header:\", data_header)\n",
    "\n",
    "for i in range(0,10):\n",
    "    print(\"Data:\", customer_USA_only_list[i])\n",
    "print(len(customer_USA_only_list))\n",
    "\n",
    "with open(\"./data/customers_USA_only.csv\", \"w\") as customer_USA_only_csv:\n",
    "    for customer in customer_USA_only_list:\n",
    "        customer_USA_only_csv.write(\",\".join(customer).strip('\\n')+\"\\n\")"
   ]
  },
  {
   "cell_type": "code",
   "execution_count": 5,
   "metadata": {},
   "outputs": [],
   "source": [
    "import csv\n",
    "f = open(\"./data/korea_floating_population_data.csv\",\"r\")\n",
    "reader = csv.reader(\n",
    "    f,                         # 연결할 대상 파일 객체\n",
    "    delimiter = ',',           # 데이터 분리 기준\n",
    "    quotechar = '\"',           # 데이터 묶을 때 사용하는 문자\n",
    "    quoting = csv.QUOTE_ALL)   # 데이터 묶는 기준"
   ]
  },
  {
   "cell_type": "markdown",
   "metadata": {},
   "source": [
    "- QUOTE_ALL: 모든 데이터를 자료형에 상관없이 묶는다. 모든 데이터를 문자열형으로 처리한다. \n",
    "- QUOTE_MINIMAL: 최소한의 데이터만 묶는다. 예를 들어, ‘,’ 같은 데이터가 포함된 데이터만 묶는다.\n",
    "- QUOTE_NONNUMERIC: 숫자 데이터가 아닌 경우에만 묶는다. 이 경우, 데이터를 읽어 올때 묶이지 않은 데이터는 csv 객체에 의해 실수형으로 읽어 오게 된다.\n",
    "- QUOTE_NONE: 데이터를 묶는 작업을 하지 않는다.\n"
   ]
  },
  {
   "cell_type": "code",
   "execution_count": 7,
   "metadata": {},
   "outputs": [],
   "source": [
    "# 13-4.\n",
    "import csv\n",
    "\n",
    "seoung_nam_data = []\n",
    "header = []\n",
    "rownum = 0\n",
    "\n",
    "with open(\"./data/korea_floating_population_data.csv\", \"r\", encoding = \"cp949\") as p_file:\n",
    "    csv_data = csv.reader(p_file)\n",
    "    \n",
    "    for row in csv_data:\n",
    "        if rownum==0:\n",
    "            header = row\n",
    "        location = row[7]\n",
    "        \n",
    "        if location.find(u\"성남시\") != -1:\n",
    "            seoung_nam_data.append(row)\n",
    "            \n",
    "        rownum += 1\n",
    "\n",
    "with open(\"./data/seoung_nam_floating_population_data.csv\", \"w\", encoding=\"utf8\") as s_p_file:\n",
    "    writer = csv.writer(s_p_file, delimiter = '\\t', quotechar = \"'\", quoting = csv.QUOTE_ALL)\n",
    "    \n",
    "    writer.writerow(header)\n",
    "    for row in seoung_nam_data:\n",
    "        writer.writerow(row)\n",
    "        "
   ]
  },
  {
   "cell_type": "markdown",
   "metadata": {},
   "source": [
    "## 2. 로그 관리\n",
    "### - 로깅의 개념\n",
    "- 이동이나 클릭 등 프로그램을 사용할 때 하는 모든 기본적인 이벤트(event)를 저장하는 것을 로그(log)정보를 저장한다고 한다.\n",
    "- 프로그램이 실행되는 동안 일어나는 정보를 파일이나 기록으로 남기는 일을 로깅(logging)이라고 한다.\n",
    "- 로그를 기록하는 가장 일반적인 방법은 파일을 생성하여 로그 정보를 남기는 것이다. 처음 프로그램을 실행할 때 로그 파일 하나를 생성하고, 그 후에 발생하는 이벤트를 로그 파일에 저장하는 방식이다.\n",
    "\n",
    "### - 기본 로그 관리 모듈: logging\n",
    "- 파이썬의 기본 로그 관리 모듈은 logging 모듈\n"
   ]
  },
  {
   "cell_type": "code",
   "execution_count": 8,
   "metadata": {},
   "outputs": [
    {
     "name": "stderr",
     "output_type": "stream",
     "text": [
      "WARNING:root:조심해!\n",
      "ERROR:root:에러 발생!\n",
      "CRITICAL:root:망했다..\n"
     ]
    }
   ],
   "source": [
    "# 13-5.\n",
    "\n",
    "import logging\n",
    "\n",
    "logging.debug(\"틀렸어!\")\n",
    "logging.info(\"확인해!\")\n",
    "logging.warning(\"조심해!\")\n",
    "logging.error(\"에러 발생!\")\n",
    "logging.critical(\"망했다..\")\n"
   ]
  },
  {
   "cell_type": "markdown",
   "metadata": {},
   "source": [
    "- 로깅 레벨을 지정할 수 있다. \n",
    "    - DEBUG : 개발 시 처리를 기록하는 로그 정보를 남김  \n",
    "        ex) 다음 함수로 A를 호출함  \n",
    "    - INFO: 처리가 진행되는 동안의 정보를 알림  \n",
    "        ex) 서버가 시작, 서버 종료, 사용자 A가 프로그램에 접속  \n",
    "    - WARNING: 사용자가 잘못 입력한 정보나 처리는 가능하지만 의도치 않은 정보가 들어왔을 때 알림  \n",
    "        ex) 문자열 입력을 기대했으나, 정수형 입력  \n",
    "    - ERROR: 잘못된 처리로 에러가 발생하였지만, 프로그램은 동작할 수 있음을 알림  \n",
    "        ex) 파일에 기록해야 하는데 파일 없음, 외부서비스와 연결 불가  \n",
    "    - CRITICAL: 잘못된 처리로 데이터가 손실되었거나 프로그램이 더는 동작할 수 없음을 알림  \n",
    "        ex) 잘못된 접근으로 해당 파일이 삭제됨, 사용자에 의한 강제 종료  "
   ]
  },
  {
   "cell_type": "code",
   "execution_count": 12,
   "metadata": {},
   "outputs": [
    {
     "name": "stderr",
     "output_type": "stream",
     "text": [
      "틀렸어!\n",
      "틀렸어!\n",
      "틀렸어!\n",
      "DEBUG:main:틀렸어!\n",
      "확인해!\n",
      "확인해!\n",
      "확인해!\n",
      "INFO:main:확인해!\n",
      "조심해!\n",
      "조심해!\n",
      "조심해!\n",
      "WARNING:main:조심해!\n",
      "에러!\n",
      "에러!\n",
      "에러!\n",
      "ERROR:main:에러!\n",
      "망했다..\n",
      "망했다..\n",
      "망했다..\n",
      "CRITICAL:main:망했다..\n"
     ]
    }
   ],
   "source": [
    "# 파이썬에서 로깅을 사용하기 위해 Logger 객체 활용\n",
    "# 13-7.\n",
    "import logging \n",
    "\n",
    "logger = logging.getLogger(\"main\")\n",
    "stream_hander = logging.StreamHandler()\n",
    "logger.addHandler(stream_hander)\n",
    "\n",
    "logger.setLevel(logging.DEBUG)\n",
    "logger.debug(\"틀렸어!\")\n",
    "logger.info(\"확인해!\")\n",
    "logger.warning(\"조심해!\")\n",
    "logger.error(\"에러!\")\n",
    "logger.critical(\"망했다..\")"
   ]
  },
  {
   "cell_type": "markdown",
   "metadata": {},
   "source": [
    "- critical만 출력으로 지정하면 critical 정보인 망했다만 화면에 출력된다. "
   ]
  },
  {
   "cell_type": "code",
   "execution_count": 15,
   "metadata": {},
   "outputs": [
    {
     "name": "stderr",
     "output_type": "stream",
     "text": [
      "망했다\n",
      "망했다\n",
      "망했다\n",
      "CRITICAL:main:망했다\n"
     ]
    }
   ],
   "source": [
    "import logging\n",
    "\n",
    "logger = logging.getLogger(\"main\")\n",
    "stream_handler = logging.StreamHandler()\n",
    "logger.addHandler(stream_hander)\n",
    "\n",
    "logger.setLevel(logging.CRITICAL)\n",
    "logger.debug(\"틀렸어\")\n",
    "logger.info(\"확인해\")\n",
    "logger.warning(\"조심해\")\n",
    "logger.error(\"에러\")\n",
    "logger.critical(\"망했다\")"
   ]
  },
  {
   "cell_type": "markdown",
   "metadata": {},
   "source": [
    "## 3. 설정 저장\n",
    "### - 설정 저장이 필요한 이유\n",
    "- 어떤 프로그램을 사용할 때 기본 설정을 저장하고, 프로그램을 사용할 때마다 설정된 형태로 프로그램이 실행된다. 따라서 파이썬에서도 설정을 미리 저장해야 한다.\n",
    "\n",
    "### - 파이썬에서의 설정 저장\n",
    "- configparser와 argparse는 설정 저장을 파이썬에서 수행할 수 있도록 지원하는 모듈이다. configparser는 설정 자체를 저장하는 것으로, 실행 시점에 설정이 저장된 파일을 읽어 설정을 적용하는 기능을 제공한다. argparse는 configparser와 달리, 실행 시점의 설정 변수들을 직접 지정한다.\n"
   ]
  },
  {
   "cell_type": "markdown",
   "metadata": {},
   "source": [
    "### - configparser 모듈\n",
    "- 프로그램의 실행 설정값을 어떤 특정 파일에 저장하여 사용하는 방식\n",
    "- 딕셔너리와 비슷하게 설정 파일 안에 키와 값을 넣고, 이를 호출하여 사용한다. "
   ]
  },
  {
   "cell_type": "code",
   "execution_count": null,
   "metadata": {},
   "outputs": [],
   "source": [
    "# 다음과 같은 example.cfg 파일이 있다고 가정하자.\n",
    "\n",
    "[SectionOne]\n",
    "Status: Single\n",
    "Name: Derek\n",
    "Value: Yes\n",
    "Age: 30\n",
    "Single: True\n",
    "    \n",
    "[SectionTwo]\n",
    "FavoriteColor = Green\n",
    "\n",
    "[SectionThree]\n",
    "FamilyName: Johnson"
   ]
  },
  {
   "cell_type": "code",
   "execution_count": null,
   "metadata": {},
   "outputs": [],
   "source": [
    "# 이를 사용하는 코드\n",
    "import configparser\n",
    "\n",
    "config = configparser.ConfigParser()   # configparser에서 ConfigParser 객체 생성\n",
    "config.sections()        # section 정보 읽어오기\n",
    "config.read('example.cfg')       # 특정 파일 안에 있는 설정 정보 읽어오기\n",
    "config.sections()         # 해당 파일의 section 정보 읽어오기\n",
    "for key in config['SectionOne']:\n",
    "    print(key)\n",
    "    \n",
    "config['SectionOne'][\"status\"]    # SectionOne에 있는 키 출력"
   ]
  },
  {
   "cell_type": "markdown",
   "metadata": {},
   "source": [
    "### - argparse 모듈\n",
    "- argparse 모듈은 configparser 모듈과 달리, 저장된 파일을 사용하는 것이 아니라 프로그램을 콘솔 창에서 실행할 때 세팅을 설정하는 방식이다. 거의 모든 콘솔 프로그램은 실행 시점의 설정 기능을 제공한다.\n"
   ]
  },
  {
   "cell_type": "code",
   "execution_count": null,
   "metadata": {},
   "outputs": [],
   "source": [
    "# arg_sum.py\n",
    "import argparse  \n",
    "\n",
    "parser = argparse.ArgumentParser(description = 'Sum two integers.')  # 기본 설정 도움말\n",
    "\n",
    "parser.add_argument('-a', \"--a_value\", dest=\"a\", help=\"A integers\", type= int)   # a 인수 추가\n",
    "parser.add_argument('-b', \"--b_value\", dest=\"b\", help=\"B integers\", type= int)   # b 인수 추가\n",
    "\n",
    "args = parser.parse_args()    # 입력된 커맨드 라인 인수 파싱\n",
    "\n",
    "print(args)\n",
    "print(args.a)\n",
    "print(args.b)\n",
    "print(args.a+args.b)"
   ]
  },
  {
   "cell_type": "code",
   "execution_count": null,
   "metadata": {},
   "outputs": [],
   "source": [
    "# cmd 창\n",
    "Namespace(a=5, b=3)\n"
   ]
  },
  {
   "cell_type": "markdown",
   "metadata": {},
   "source": [
    "## 4. 로깅 프로그램"
   ]
  },
  {
   "cell_type": "code",
   "execution_count": null,
   "metadata": {},
   "outputs": [],
   "source": [
    "# 13-10\n",
    "import logging\n",
    "\n",
    "logger = logging.getLogger('myapp')\n",
    "hdlr = logging.FileHandler('myapp.log')\n",
    "\n",
    "formatter = logging.Formatter('%(asctime)s %(levelname)s %(process)d %(message)s')\n",
    "\n",
    "hdlr.setFormatter(formatter)\n",
    "logger.addHandler(hdlr)\n",
    "logger.setLevel(logging.INFO)\n",
    "\n",
    "logger.error('ERROR occurred')\n",
    "logger.info('HERE WE ARE')\n",
    "logger.info('TEST finished')"
   ]
  },
  {
   "cell_type": "code",
   "execution_count": null,
   "metadata": {},
   "outputs": [],
   "source": [
    "# 13-11. loggingprogram.py\n",
    "import logging\n",
    "import logging.config\n",
    "import csv\n",
    "\n",
    "# 모듈 호출\n",
    "logging.config.fileConfig('logging.conf')\n",
    "logger = logging.getLogger()\n",
    "\n",
    "line_counter = 0\n",
    "data_header = []\n",
    "employee = []\n",
    "customer_USA_only_list = []\n",
    "customer = None\n",
    "\n",
    "# 변수 선언 등 생략\n",
    "logger.info('Open file {0}'.format(\"TEST\",))\n",
    "\n",
    "try:\n",
    "    with open(\"customers.csv\", \"r\") as customer_data:\n",
    "        customer_reader = csv.reader(customer_data, delimiter=',', quotechar='\"')\n",
    "        for customer in customer_reader:\n",
    "            if customer[10].upper()==\"USA\":\n",
    "                logger.info('ID {0} added'.format(customer[0],))\n",
    "                customer_USA_only_list.append(customer)  # country 필드가 \"USA\"인 것만\n",
    "                \n",
    "except FileNotFoundError as e:\n",
    "    logger.error('File NOT found {0}'.format(e,))\n",
    "\n",
    "logger.info('Write USA only data at {0}'.format(\"customers_USA_only.csv\",))\n",
    "with open(\"customers_USA_only.csv\", \"w\") as customer_USA_only_csv:\n",
    "    for customer in customer_USA_only_list:\n",
    "        customer_USA_only_csv.write(\",\".join(customer).strip('\\n')+\"\\n\")\n",
    "        \n",
    "logger.info('Program finished')"
   ]
  }
 ],
 "metadata": {
  "kernelspec": {
   "display_name": "[CPU_ENV]",
   "language": "python",
   "name": "cpu_env"
  },
  "language_info": {
   "codemirror_mode": {
    "name": "ipython",
    "version": 3
   },
   "file_extension": ".py",
   "mimetype": "text/x-python",
   "name": "python",
   "nbconvert_exporter": "python",
   "pygments_lexer": "ipython3",
   "version": "3.6.10"
  }
 },
 "nbformat": 4,
 "nbformat_minor": 4
}
