{
 "cells": [
  {
   "cell_type": "markdown",
   "metadata": {},
   "source": [
    "## 1. XML의 이해\n",
    "### - XML의 개념\n",
    "- XML은 확장적인 마크업(markup) 언어라는 뜻으로, 데이터의 구조와 의미를 설명하는 태그를 사용하여 어떤 데이터의 속성과 값을 표현하는 언어이다. 즉, 시작 태그와 종료 태그 사이에 어떤 값이 있고, 그 값은 태그의 이름으로 만들어진 속성에 대한 값이 된다.\n",
    "  \n",
    "### - XML 표현하기\n",
    "- XML의 구조는 다음과 같이 표현한다.   \n",
    "<?xml version=\"1.0\"?>  \n",
    "<학생>  \n",
    "        <이름>한재일</이름>    \n",
    "        <학번>20105503</학번>    \n",
    "        <나이>26</나이>  \n",
    "        <학과>산업경영공학과</학과>  \n",
    "        <성별>남성</성별>  \n",
    "</학생>  "
   ]
  },
  {
   "cell_type": "markdown",
   "metadata": {},
   "source": [
    "## 2. XML 파싱\n",
    "### -BeautifulSoup 모듈 개요\n",
    "- BeautifulSoup 모듈은 일종의 래퍼(wrapper)로, 기존 파싱 기능이 있는 다른 라이브러리를 쉽게 사용할 수 있도록 한다. \n",
    "\n",
    "### - BeautifulSoup 모듈 설치\n",
    "cmd 창에서\n",
    "> conda create -n python_mooc python=3.6  \n",
    "> conda install lxml  \n",
    "> conda install -c anaconda beautifulsoup4=4.5.1  \n",
    "\n",
    "이후 파이썬 셸에서 다음 실행\n",
    "> from bs4 import BeautifulSoup"
   ]
  },
  {
   "cell_type": "markdown",
   "metadata": {},
   "source": [
    "### - BeautifulSoup 모듈 사용법"
   ]
  },
  {
   "cell_type": "code",
   "execution_count": null,
   "metadata": {},
   "outputs": [],
   "source": [
    "# 15-1.\n",
    "from bs4 import BeautifulSoup\n",
    "\n",
    "with open(\"books.xml\", \"r\", encoding=\"utf8\") as book_file:\n",
    "    books_xml = books_file.read()\n",
    "    \n",
    "soup = BeautifulSoup(books_xml, \"lxml\")\n",
    "\n",
    "# author가 들어간 모든 요소의 값 추출\n",
    "for book_info in soup.find_all(\"author\"):\n",
    "    print(book_info)\n",
    "    print(book_info.get_text())  # 해당 요소에서 값 추출"
   ]
  },
  {
   "cell_type": "markdown",
   "metadata": {},
   "source": [
    "### - USPTO XML 데이터"
   ]
  },
  {
   "cell_type": "code",
   "execution_count": null,
   "metadata": {},
   "outputs": [],
   "source": [
    "# 15-2.\n",
    "import urllib.request\n",
    "from bs4 import BeautifulSoup\n",
    "\n",
    "with open(\"US08621662-20140107.XML\", \"r\", encoding=\"utf8\") as patent_xml:\n",
    "    xml = patent_xml.read()  # 파일을 문자열로 읽어 오기\n",
    "    \n",
    "soup = BeautifulSoup(xml, \"lxml\")  # lxml 파서 호출\n",
    "\n",
    "# invention-title 태그 찾기\n",
    "invention_title_tag = soup.find(\"invention-title\")\n",
    "print(invention_title_tag.get_text())"
   ]
  },
  {
   "cell_type": "markdown",
   "metadata": {},
   "source": [
    "## 3. JSON의 이해\n",
    "### - JSON의 개념\n",
    "- JSON은 XML보다 데이터 용량이 적고 코드로의 전환이 쉽다는 측면에서 XML의 대체재로 가장 많이 활용.\n",
    "- JSON은 파이썬의 딕셔너리형과 매우 비슷하여, 키-값의 쌍으로 구성되어 있다. \n",
    "- 예시\n",
    "{  \n",
    "\"sibling\": [  \n",
    "{\"firstName\": \"Anna\", \"lastName\": \"Clayton\"},  \n",
    "{\"lastName\": \"Alex\", \"lastName\": \"Clayton\"}  \n",
    "]  \n",
    "}  "
   ]
  },
  {
   "cell_type": "markdown",
   "metadata": {},
   "source": [
    "## 4. JSON 데이터 분석\n",
    "### - JSON 읽기\n",
    "- json 모듈로 읽고 딕셔너리형처럼 처리한다. \n"
   ]
  },
  {
   "cell_type": "code",
   "execution_count": null,
   "metadata": {},
   "outputs": [],
   "source": [
    "# 15-3. \n",
    "import json\n",
    "\n",
    "with open(\"json_example.json\",\"r\",encoding=\"utf8\") as f:\n",
    "    contents = f.read()\n",
    "    json_data = json.loads(contents)\n",
    "    print(json_data[\"employees\"])"
   ]
  },
  {
   "cell_type": "markdown",
   "metadata": {},
   "source": [
    "\n",
    "### - JSON 쓰기\n",
    "- 딕셔너리형으로 구성된 데이터를 json 형태의 파일로 변환하는 과정\n"
   ]
  },
  {
   "cell_type": "code",
   "execution_count": null,
   "metadata": {},
   "outputs": [],
   "source": [
    "import json\n",
    "\n",
    "dict_data = {'Name': 'Zara', 'Age': 7, 'Class': 'First'}\n",
    "\n",
    "with open(\"data.json\", \"w\") as f:\n",
    "    json.dump(dict_data, f)"
   ]
  },
  {
   "cell_type": "markdown",
   "metadata": {},
   "source": [
    "### - 트위터 데이터 읽어오기\n",
    "cmd 창에서 \n",
    "> conda install requests  \n",
    "> pip install requests-oauthlib"
   ]
  },
  {
   "cell_type": "code",
   "execution_count": null,
   "metadata": {},
   "outputs": [],
   "source": [
    "# 15-5.\n",
    "import requests\n",
    "from requests_oauthlib import OAuth1\n",
    "\n",
    "# 사용자의 OAuth 정보 입력\n",
    "consumer_key = '확인한 consumer_key'\n",
    "consumer_secret = '확인한 consumer_secret'\n",
    "access_token = '확인한 access_token'\n",
    "access_token_secret = '확인한 access_token_secret'\n",
    "\n",
    "# 사용자의 OAuth 인증 정보 생성\n",
    "oauth = OAuth1(client_key = consumer_key, client_secret = consumer_secret, \n",
    "              resource_owner_key = access_token, resource_owner_secret = access_token_secret)\n",
    "\n",
    "# Twitter REST API를 사용해 특정 계정 정보 요청, screen_name은 트위터 계정명\n",
    "url = 'https://api.twitter.com/1.1/statuses/user_timeline.json?screen_name={0}'.format('naver_d2')\n",
    "\n",
    "# API URL과 계정 인증 정보를 HTTP로 전송\n",
    "r = requests.get(url = url, auth= oauth)\n",
    "\n",
    "# 결과를 json 형태로 다운로드\n",
    "statuses = r.json()\n",
    "\n",
    "# 결과 출력\n",
    "for status in statuses:\n",
    "    print(status['text'], status['created_at'])"
   ]
  }
 ],
 "metadata": {
  "kernelspec": {
   "display_name": "Python 3",
   "language": "python",
   "name": "python3"
  },
  "language_info": {
   "codemirror_mode": {
    "name": "ipython",
    "version": 3
   },
   "file_extension": ".py",
   "mimetype": "text/x-python",
   "name": "python",
   "nbconvert_exporter": "python",
   "pygments_lexer": "ipython3",
   "version": "3.6.10"
  }
 },
 "nbformat": 4,
 "nbformat_minor": 5
}
