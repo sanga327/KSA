{
 "cells": [
  {
   "cell_type": "markdown",
   "id": "943b7da0",
   "metadata": {},
   "source": [
    "## - 모델 훈련\n",
    "### - 경사 하강법(GD: Gradient Descent)\n",
    "- 다양한 문제에서 최적의 해법을 찾을 수 있는 일반적인 최적화 알고리즘\n",
    "- 기본 아이디어는 비용 함수를 최소화하기 위해 반복해서 파라미터를 조정\n",
    "- 산속에서 길 찾기 예제\n",
    "    - 산속에서 길을 잃었고, 발밑 지면의 기울기만 느낄 수 있음\n",
    "    - 빠른 골짜기를 내려가는 좋은 방법은 가장 가파른 길을 따라 아래로 내려가는 것\n",
    "    - 파라미터 벡터 Θ에 대해 비용 함수의 현재 그레디언트(gradient: 경사=기울기)를\n",
    "계산하여 그레디언트가 감소하는 방향으로 진행\n",
    "    - 그레디언트가 0이 되면 최솟값에 도달 "
   ]
  },
  {
   "cell_type": "markdown",
   "id": "0d6d491b",
   "metadata": {},
   "source": [
    "- 세타를 임의의 값으로 시작(무작위 초기화: random initialization) 하여, 한번에 조금씩 비용함수(MSE)가 감소되는 방향으로 진행하여 알고리즘이 최솟값에 수렴할 때까지 점진적으로 향상하는 것"
   ]
  },
  {
   "cell_type": "markdown",
   "id": "ac8215bf",
   "metadata": {},
   "source": [
    "- 중요한 파라미터는 스텝의 크기로, 학습률(learning rate) 하이퍼파라미터로\n",
    "결정됨\n",
    "    - 학습률이 너무 작으면 알고리즘이 수렴하기 위해 반복을 많이 진행해야 하므로 시\n",
    "간이 오래 걸림\n",
    "    - 학습률이 너무 크면 골짜기를 가로질러 반대편으로 건너뛰게 되어 이전보다 더 높\n",
    "은 곳으로 갈 수도 있음"
   ]
  },
  {
   "cell_type": "code",
   "execution_count": null,
   "id": "4b5e1692",
   "metadata": {},
   "outputs": [],
   "source": [
    "## 확률적 경사 하강법 구현\n",
    "n_epochs = 50\n",
    "t0, t1 = 5, 50\n",
    "\n",
    "def learning_schedule(t):\n",
    "    return t0/(t+t1)\n",
    "\n",
    "theta = np.random.randn(2,1)  # random initialization\n",
    "\n",
    "for epoch in range(n_epochs):\n",
    "    for i in range(m):\n",
    "        if epoch == 0 and i<20:\n",
    "            y_predict = X_new_b.dot(theta)\n",
    "            style = \"b-\" if i>0 else \"r--\"\n",
    "            plt.plot(X_new, y_preict, style)\n",
    "        random_index = np.random.randint(m)\n",
    "        xi = X_b[random_index:random_index+1]\n",
    "        yi = y[random_index:random_index+1]\n",
    "        gradients = 2* xi.T.dot(xi.got(theta)-yi)\n",
    "        eta = learning_schedule(epoch*m+i)\n",
    "        theta = theta - eta*gradients\n",
    "        theta_path_sgd.append(theta)\n",
    "        \n",
    "plt.plot(X,y,\"b. \")\n",
    "plt.xlabel(\"&x_1$\", fontsize=18)\n",
    "plt.ylabel(\"$y$\", rotation=0, fontsize=18)\n",
    "plt.axis([0, 2, 0, 15])\n",
    "save_fig([0,2,0,15])\n",
    "plt.show()"
   ]
  },
  {
   "cell_type": "code",
   "execution_count": null,
   "id": "085b9b4b",
   "metadata": {},
   "outputs": [],
   "source": [
    "thera_path_sgd = []\n",
    "m = len(X_b)\n",
    "np.random.seed(42)"
   ]
  },
  {
   "cell_type": "code",
   "execution_count": null,
   "id": "1776ea35",
   "metadata": {},
   "outputs": [],
   "source": [
    "## 사이킷런 경사 하강법\n",
    "\n",
    "from sklearn.linear_model import SGDRegressor\n",
    "\n",
    "sgd_reg = SGDRegressor(max_iter=1000, tol=1e-3, penalty=None, eta0 = 0.1, random_state=42)\n",
    "sgd_reg.fit(X, y.ravel())\n",
    "\n",
    "sgd_reg.intercept_, sgd_reg.coef_"
   ]
  }
 ],
 "metadata": {
  "kernelspec": {
   "display_name": "[KSA_STUDY]",
   "language": "python",
   "name": "ksa_study"
  },
  "language_info": {
   "codemirror_mode": {
    "name": "ipython",
    "version": 3
   },
   "file_extension": ".py",
   "mimetype": "text/x-python",
   "name": "python",
   "nbconvert_exporter": "python",
   "pygments_lexer": "ipython3",
   "version": "3.7.10"
  }
 },
 "nbformat": 4,
 "nbformat_minor": 5
}
