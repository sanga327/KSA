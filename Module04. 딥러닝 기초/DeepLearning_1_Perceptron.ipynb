{
 "cells": [
  {
   "cell_type": "markdown",
   "id": "b2f4e546",
   "metadata": {},
   "source": [
    "## 1. Perceptron: AND"
   ]
  },
  {
   "cell_type": "markdown",
   "id": "1bdaa84f",
   "metadata": {},
   "source": [
    "### - AND 게이트를 푸는 퍼셉트론을 만들어 보자."
   ]
  },
  {
   "cell_type": "markdown",
   "id": "43059605",
   "metadata": {},
   "source": [
    "- AND게이트 만족하는 theta"
   ]
  },
  {
   "cell_type": "code",
   "execution_count": 12,
   "id": "5d1dbdb9",
   "metadata": {},
   "outputs": [],
   "source": [
    "def AND(x1, x2):\n",
    "    w1, w2, theta = 0.3, 0.3, 0.5\n",
    "    tmp = x1*w1 + x2*w2\n",
    "    if tmp <= theta:\n",
    "        return 0\n",
    "    elif tmp > theta:\n",
    "        return 1"
   ]
  },
  {
   "cell_type": "code",
   "execution_count": 13,
   "id": "2d1c9c0f",
   "metadata": {},
   "outputs": [
    {
     "name": "stdout",
     "output_type": "stream",
     "text": [
      "AND(0,0): 0\n",
      "AND(1,0): 0\n",
      "AND(0,1): 0\n",
      "AND(1,1): 1\n"
     ]
    }
   ],
   "source": [
    "print(\"AND(0,0):\", AND(0,0)) \n",
    "print(\"AND(1,0):\", AND(1,0)) \n",
    "print(\"AND(0,1):\", AND(0,1)) \n",
    "print(\"AND(1,1):\", AND(1,1)) "
   ]
  },
  {
   "cell_type": "markdown",
   "id": "1e1b530c",
   "metadata": {},
   "source": [
    "- AND 게이트 만족하지 않는 theta"
   ]
  },
  {
   "cell_type": "code",
   "execution_count": 14,
   "id": "faa314b8",
   "metadata": {},
   "outputs": [],
   "source": [
    "def AND(x1, x2):\n",
    "    w1, w2, theta = 0.3, 0.3, 1\n",
    "    tmp = x1*w1 + x2*w2\n",
    "    if tmp <= theta:\n",
    "        return 0\n",
    "    elif tmp > theta:\n",
    "        return 1"
   ]
  },
  {
   "cell_type": "code",
   "execution_count": 15,
   "id": "19eafe31",
   "metadata": {},
   "outputs": [
    {
     "name": "stdout",
     "output_type": "stream",
     "text": [
      "AND(0,0): 0\n",
      "AND(1,0): 0\n",
      "AND(0,1): 0\n",
      "AND(1,1): 0\n"
     ]
    }
   ],
   "source": [
    "print(\"AND(0,0):\", AND(0,0)) \n",
    "print(\"AND(1,0):\", AND(1,0)) \n",
    "print(\"AND(0,1):\", AND(0,1)) \n",
    "print(\"AND(1,1):\", AND(1,1)) \n",
    "# AND(1,1) = 0의 결과가 나온다.\n",
    "# 0.3, 0.3일 경우 1은 AND 게이트를 만족하는 theta가 아님을 알 수 있다!"
   ]
  },
  {
   "cell_type": "markdown",
   "id": "8469f682",
   "metadata": {},
   "source": [
    "### - AND code 가중치와 편향 도입\n",
    "\n",
    "- 0을 기준으로 비교해 주면 된다.\n",
    "- 임계치를 0으로 표준화 -> 다 0을 기준으로 비교하게끔"
   ]
  },
  {
   "cell_type": "code",
   "execution_count": 16,
   "id": "1e5c9fee",
   "metadata": {},
   "outputs": [],
   "source": [
    "import numpy as np\n",
    "def AND(x1, x2):\n",
    "    x = np.array([x1, x2])  # 입력\n",
    "    w=  np.array([0.5, 0.5])  # 가중치\n",
    "    b = -0.7\n",
    "    tmp = np.sum(w*x)+b\n",
    "    if tmp<=0:\n",
    "        return 0\n",
    "    else:\n",
    "        return 1"
   ]
  },
  {
   "cell_type": "code",
   "execution_count": 17,
   "id": "24ce1eb7",
   "metadata": {},
   "outputs": [
    {
     "name": "stdout",
     "output_type": "stream",
     "text": [
      "AND(0,0): 0\n",
      "AND(1,0): 0\n",
      "AND(0,1): 0\n",
      "AND(1,1): 1\n"
     ]
    }
   ],
   "source": [
    "print(\"AND(0,0):\", AND(0,0)) \n",
    "print(\"AND(1,0):\", AND(1,0)) \n",
    "print(\"AND(0,1):\", AND(0,1)) \n",
    "print(\"AND(1,1):\", AND(1,1)) "
   ]
  },
  {
   "cell_type": "markdown",
   "id": "f0dd1196",
   "metadata": {},
   "source": [
    "------"
   ]
  },
  {
   "cell_type": "markdown",
   "id": "52f35e26",
   "metadata": {},
   "source": [
    "## 2. Perceptron: NAND \n",
    "- AND 게이트에 마이너스만 붙이면 된다. \n",
    "- 임계치가 마이너스 값을 가진다. "
   ]
  },
  {
   "cell_type": "code",
   "execution_count": 18,
   "id": "bd709518",
   "metadata": {},
   "outputs": [],
   "source": [
    "import numpy as np\n",
    "def NAND(x1, x2):\n",
    "    x = np.array([x1, x2])  # 입력\n",
    "    w = np.array([-0.5, -0.5])  # 가중치\n",
    "    b = 0.7  # 편향\n",
    "    tmp = np.sum(w*x)+b\n",
    "    if tmp<=0:\n",
    "        return 0\n",
    "    else:\n",
    "        return 1"
   ]
  },
  {
   "cell_type": "code",
   "execution_count": 19,
   "id": "5d54be33",
   "metadata": {},
   "outputs": [
    {
     "name": "stdout",
     "output_type": "stream",
     "text": [
      "NAND(0,0): 1\n",
      "NAND(1,0): 1\n",
      "NAND(0,1): 1\n",
      "NAND(1,1): 0\n"
     ]
    }
   ],
   "source": [
    "print(\"NAND(0,0):\", NAND(0,0)) \n",
    "print(\"NAND(1,0):\", NAND(1,0)) \n",
    "print(\"NAND(0,1):\", NAND(0,1)) \n",
    "print(\"NAND(1,1):\", NAND(1,1)) "
   ]
  },
  {
   "cell_type": "markdown",
   "id": "83bcdb3d",
   "metadata": {},
   "source": [
    "## 3. Perceptron: OR\n",
    "- 둘 중 하나가 참이면 참인 경우\n"
   ]
  },
  {
   "cell_type": "code",
   "execution_count": 20,
   "id": "d2a371e9",
   "metadata": {},
   "outputs": [],
   "source": [
    "import numpy as np\n",
    "def OR(x1, x2):\n",
    "    x = np.array([x1, x2])  # 입력\n",
    "    w = np.array([0.5, 0.5])  # 가중치\n",
    "    b = -0.2  # 편향\n",
    "    tmp = np.sum(w*x)+b\n",
    "    if tmp<=0:\n",
    "        return 0\n",
    "    else:\n",
    "        return 1"
   ]
  },
  {
   "cell_type": "code",
   "execution_count": 21,
   "id": "4855c5f3",
   "metadata": {},
   "outputs": [
    {
     "name": "stdout",
     "output_type": "stream",
     "text": [
      "OR(0,0): 0\n",
      "OR(1,0): 1\n",
      "OR(0,1): 1\n",
      "OR(1,1): 1\n"
     ]
    }
   ],
   "source": [
    "print(\"OR(0,0):\", OR(0,0)) \n",
    "print(\"OR(1,0):\", OR(1,0)) \n",
    "print(\"OR(0,1):\", OR(0,1)) \n",
    "print(\"OR(1,1):\", OR(1,1)) "
   ]
  },
  {
   "cell_type": "markdown",
   "id": "05335122",
   "metadata": {},
   "source": [
    "## 4. Perceptron: XOR"
   ]
  },
  {
   "cell_type": "code",
   "execution_count": 22,
   "id": "25a206ad",
   "metadata": {},
   "outputs": [],
   "source": [
    "def XOR(x1, x2):\n",
    "    s1 = NAND(x1, x2)\n",
    "    s2 = OR(x1, x2)\n",
    "    y = AND(s1, s2)\n",
    "    return y"
   ]
  },
  {
   "cell_type": "code",
   "execution_count": 23,
   "id": "dc530c6d",
   "metadata": {
    "scrolled": true
   },
   "outputs": [
    {
     "name": "stdout",
     "output_type": "stream",
     "text": [
      "XOR(0,0): 0\n",
      "XOR(1,0): 1\n",
      "XOR(0,1): 1\n",
      "XOR(1,1): 0\n"
     ]
    }
   ],
   "source": [
    "print(\"XOR(0,0):\", XOR(0,0)) \n",
    "print(\"XOR(1,0):\", XOR(1,0)) \n",
    "print(\"XOR(0,1):\", XOR(0,1)) \n",
    "print(\"XOR(1,1):\", XOR(1,1)) "
   ]
  }
 ],
 "metadata": {
  "kernelspec": {
   "display_name": "[KSA_STUDY]",
   "language": "python",
   "name": "ksa_study"
  },
  "language_info": {
   "codemirror_mode": {
    "name": "ipython",
    "version": 3
   },
   "file_extension": ".py",
   "mimetype": "text/x-python",
   "name": "python",
   "nbconvert_exporter": "python",
   "pygments_lexer": "ipython3",
   "version": "3.7.10"
  }
 },
 "nbformat": 4,
 "nbformat_minor": 5
}
