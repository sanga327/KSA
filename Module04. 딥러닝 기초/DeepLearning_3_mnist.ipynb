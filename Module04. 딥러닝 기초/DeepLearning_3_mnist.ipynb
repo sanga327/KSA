{
 "cells": [
  {
   "cell_type": "markdown",
   "id": "42131412",
   "metadata": {},
   "source": [
    "## 손글씨 숫자 인식\n",
    "### - 데이터 불러오기"
   ]
  },
  {
   "cell_type": "code",
   "execution_count": 1,
   "id": "f2b8bc6a",
   "metadata": {},
   "outputs": [],
   "source": [
    "from sklearn.datasets import fetch_openml\n",
    "mnist = fetch_openml('mnist_784', version=1)"
   ]
  },
  {
   "cell_type": "code",
   "execution_count": 19,
   "id": "ef102787",
   "metadata": {},
   "outputs": [],
   "source": [
    "import sys, os\n",
    "sys.path.append('./mnist_dataset')\n",
    "#sys.path.append(os.pardir)\n",
    "\n",
    "import numpy as np\n",
    "import pickle\n",
    "from mnist_dataset.mnist import load_mnist\n",
    "import matplotlib.pylab as plt"
   ]
  },
  {
   "cell_type": "code",
   "execution_count": 20,
   "id": "1172a664",
   "metadata": {},
   "outputs": [],
   "source": [
    "(train_image_data, train_label_data), (test_image_data, test_label_data) = load_mnist(flatten=True, \n",
    "                                                                                      normalize=False)"
   ]
  },
  {
   "cell_type": "code",
   "execution_count": 21,
   "id": "116e01c7",
   "metadata": {},
   "outputs": [
    {
     "name": "stdout",
     "output_type": "stream",
     "text": [
      "(60000, 784)\n",
      "(60000,)\n",
      "(10000, 784)\n",
      "(10000,)\n"
     ]
    }
   ],
   "source": [
    "print(train_image_data.shape)\n",
    "print(train_label_data.shape)\n",
    "print(test_image_data.shape)\n",
    "print(test_label_data.shape)"
   ]
  },
  {
   "cell_type": "code",
   "execution_count": 16,
   "id": "f2611795",
   "metadata": {},
   "outputs": [
    {
     "data": {
      "text/plain": [
       "(784,)"
      ]
     },
     "execution_count": 16,
     "metadata": {},
     "output_type": "execute_result"
    }
   ],
   "source": [
    "image = train_image_data[0]\n",
    "image.shape"
   ]
  },
  {
   "cell_type": "code",
   "execution_count": 17,
   "id": "226b9880",
   "metadata": {},
   "outputs": [
    {
     "data": {
      "text/plain": [
       "(28, 28)"
      ]
     },
     "execution_count": 17,
     "metadata": {},
     "output_type": "execute_result"
    }
   ],
   "source": [
    "image_reshaped = image.reshape(28, 28)\n",
    "image_reshaped.shape"
   ]
  },
  {
   "cell_type": "code",
   "execution_count": 18,
   "id": "def34795",
   "metadata": {},
   "outputs": [
    {
     "data": {
      "text/plain": [
       "<function matplotlib.pyplot.show(close=None, block=None)>"
      ]
     },
     "execution_count": 18,
     "metadata": {},
     "output_type": "execute_result"
    },
    {
     "data": {
      "image/png": "[encoded data removed]",
      "text/plain": [
       "<Figure size 288x288 with 1 Axes>"
      ]
     },
     "metadata": {
      "needs_background": "light"
     },
     "output_type": "display_data"
    }
   ],
   "source": [
    "label = train_label_data[0]\n",
    "plt.figure(figsize=(4,4))\n",
    "plt.title(\"sample of\"+str(label))\n",
    "plt.imshow(image_reshaped, cmap=\"gray\")\n",
    "plt.show"
   ]
  },
  {
   "cell_type": "markdown",
   "id": "5ef40a05",
   "metadata": {},
   "source": [
    "### - 신경망의 손글씨 숫자 추론"
   ]
  },
  {
   "cell_type": "code",
   "execution_count": 35,
   "id": "2b4345e2",
   "metadata": {},
   "outputs": [],
   "source": [
    "def sigmoid(x):\n",
    "    return 1 / (1 + np.exp(-x))\n",
    "\n",
    "def relu(x):\n",
    "    return np.maximum(0,x)\n",
    "\n",
    "def softmax(matrix):\n",
    "    maximum_of_matrix = np.max(matrix)\n",
    "    difference_from_maximum = matrix - maximum_of_matrix\n",
    "    exponential_of_difference = np.exp(difference_from_maximum)\n",
    "    sum_of_exponential = np.sum(exponential_of_difference)\n",
    "    y = exponential_of_difference / sum_of_exponential\n",
    "    \n",
    "    return y"
   ]
  },
  {
   "cell_type": "code",
   "execution_count": 43,
   "id": "d6f4354b",
   "metadata": {},
   "outputs": [],
   "source": [
    "def get_data():\n",
    "    (image_train, label_train), (image_test, label_test) = load_mnist(normalize=True,\n",
    "                                                                     flatten=True,\n",
    "                                                                     one_hot_label=False)\n",
    "    return image_test, label_test\n",
    "\n",
    "def init_network():\n",
    "    with open(\"sample_weight.pkl\", 'rb') as f:  \n",
    "        network = pickle.load(f)\n",
    "    return network\n",
    "\n",
    "def predict(network, x):\n",
    "    W1, W2, W3 = network['W1'], network['W2'], network['W3']\n",
    "    b1, b2, b3 = network['b1'], network['b2'], network['b3']\n",
    "    \n",
    "    a1 = np.dot(x, W1)+b1\n",
    "    z1 = sigmoid(a1)\n",
    "    a2 = np.dot(z1, W2)+b2\n",
    "    z2 = sigmoid(a2)\n",
    "    a3 = np.dot(z2, W3)+b3\n",
    "    y = softmax(a3)\n",
    "    \n",
    "    return y"
   ]
  },
  {
   "cell_type": "code",
   "execution_count": 44,
   "id": "8aeda6c8",
   "metadata": {},
   "outputs": [
    {
     "name": "stdout",
     "output_type": "stream",
     "text": [
      "Accuracy:0.9352\n"
     ]
    }
   ],
   "source": [
    "images, labels = get_data()\n",
    "network = init_network()\n",
    "\n",
    "accuracy_cnt = 0\n",
    "for i in range(len(images)):\n",
    "    y = predict(network, images[i])\n",
    "    p = np.argmax(y)\n",
    "    \n",
    "    if p == labels[i]:\n",
    "        accuracy_cnt +=1\n",
    "        \n",
    "print(\"Accuracy:\"+ str(float(accuracy_cnt)/len(images)))\n",
    "    "
   ]
  },
  {
   "cell_type": "markdown",
   "id": "034aeff7",
   "metadata": {},
   "source": [
    "### - 배치 처리"
   ]
  },
  {
   "cell_type": "code",
   "execution_count": 45,
   "id": "a9e1462a",
   "metadata": {},
   "outputs": [],
   "source": [
    "images, labels= get_data()\n",
    "network = init_network()"
   ]
  },
  {
   "cell_type": "code",
   "execution_count": 46,
   "id": "466c2423",
   "metadata": {},
   "outputs": [
    {
     "name": "stdout",
     "output_type": "stream",
     "text": [
      "shape of images= (10000, 784)\n",
      "shape of weight1= (784, 50)\n",
      "shape of weight2= (50, 100)\n",
      "shape of weight3= (100, 10)\n"
     ]
    }
   ],
   "source": [
    "print(\"shape of images=\", images.shape)  # 크기 784로 되어있는 이미지 10000장\n",
    "print(\"shape of weight1=\", network[\"W1\"].shape)  # 784개의 노드를 50개로\n",
    "print(\"shape of weight2=\", network[\"W2\"].shape)  # 50 -> 100\n",
    "print(\"shape of weight3=\", network[\"W3\"].shape)  # 100 -> 10"
   ]
  },
  {
   "cell_type": "code",
   "execution_count": 47,
   "id": "de872840",
   "metadata": {},
   "outputs": [
    {
     "name": "stdout",
     "output_type": "stream",
     "text": [
      "Accuracy:0.9352\n"
     ]
    }
   ],
   "source": [
    "batch_size = 100  # 100개로 묶는다.\n",
    "accuracy_cnt = 0\n",
    "\n",
    "for i in range(0, len(images), batch_size):\n",
    "    x_batch = images[i:i+batch_size]\n",
    "    y_batch = predict(network, x_batch)\n",
    "    p = np.argmax(y_batch, axis=1)  # 각 열에서 가장 높은 값 \n",
    "    accuracy_cnt += np.sum(p==labels[i:i+batch_size])ㄴ\n",
    "    \n",
    "print(\"Accuracy:\"+str(float(accuracy_cnt)/len(images)))"
   ]
  },
  {
   "cell_type": "code",
   "execution_count": null,
   "id": "2ff03c8f",
   "metadata": {},
   "outputs": [],
   "source": []
  },
  {
   "cell_type": "code",
   "execution_count": null,
   "id": "45365c86",
   "metadata": {},
   "outputs": [],
   "source": []
  },
  {
   "cell_type": "code",
   "execution_count": null,
   "id": "a787818c",
   "metadata": {},
   "outputs": [],
   "source": []
  },
  {
   "cell_type": "code",
   "execution_count": null,
   "id": "113251f7",
   "metadata": {},
   "outputs": [],
   "source": []
  },
  {
   "cell_type": "code",
   "execution_count": null,
   "id": "2418a05c",
   "metadata": {},
   "outputs": [],
   "source": []
  },
  {
   "cell_type": "code",
   "execution_count": null,
   "id": "00de43ce",
   "metadata": {},
   "outputs": [],
   "source": []
  }
 ],
 "metadata": {
  "kernelspec": {
   "display_name": "[KSA_STUDY]",
   "language": "python",
   "name": "ksa_study"
  },
  "language_info": {
   "codemirror_mode": {
    "name": "ipython",
    "version": 3
   },
   "file_extension": ".py",
   "mimetype": "text/x-python",
   "name": "python",
   "nbconvert_exporter": "python",
   "pygments_lexer": "ipython3",
   "version": "3.7.10"
  }
 },
 "nbformat": 4,
 "nbformat_minor": 5
}
