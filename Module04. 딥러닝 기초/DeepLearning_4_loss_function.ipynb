{
 "cells": [
  {
   "cell_type": "markdown",
   "id": "8e0b4d0f",
   "metadata": {},
   "source": [
    "## 1. Loss Function"
   ]
  },
  {
   "cell_type": "markdown",
   "id": "1d1e58b2",
   "metadata": {},
   "source": [
    "###  Loss Function(손실 함수): 평균 제곱 오차(MSE)\n"
   ]
  },
  {
   "cell_type": "code",
   "execution_count": 1,
   "id": "395f2cf0",
   "metadata": {},
   "outputs": [],
   "source": [
    "import numpy as np\n",
    "\n",
    "def mean_squared_error(y, t):\n",
    "    return 0.5*np.sum((y-t)**2)"
   ]
  },
  {
   "cell_type": "code",
   "execution_count": 2,
   "id": "1c8db8db",
   "metadata": {},
   "outputs": [
    {
     "data": {
      "text/plain": [
       "0.09750000000000003"
      ]
     },
     "execution_count": 2,
     "metadata": {},
     "output_type": "execute_result"
    }
   ],
   "source": [
    "y = [0.1, 0.05, 0.6, 0.0, 0.05, 0.1, 0.0, 0.1, 0.0, 0.0]\n",
    "true = [0, 0, 1, 0, 0, 0, 0, 0, 0, 0]\n",
    "\n",
    "# 정답과 예측값의 오차를 MSE로 계산\n",
    "mean_squared_error(np.array(y), np.array(true))"
   ]
  },
  {
   "cell_type": "code",
   "execution_count": 3,
   "id": "3563c965",
   "metadata": {},
   "outputs": [
    {
     "data": {
      "text/plain": [
       "0.5975"
      ]
     },
     "execution_count": 3,
     "metadata": {},
     "output_type": "execute_result"
    }
   ],
   "source": [
    "y = [0.1, 0.05, 0.1, 0.0, 0.05, 0.1, 0.0, 0.6, 0.0, 0.0]\n",
    "mean_squared_error(np.array(y), np.array(true))"
   ]
  },
  {
   "cell_type": "markdown",
   "id": "338cec9b",
   "metadata": {},
   "source": [
    "- 첫 번째 실험의 MSE 값이 더 작으므로 정답에 가깝다고 판단 가능"
   ]
  },
  {
   "cell_type": "markdown",
   "id": "8b4b8511",
   "metadata": {},
   "source": [
    "### Loss Function(손실 함수): 교차 엔트로피 오차(CEE)\n",
    "- 정답이 0인 경우는 계산하지 않는다. \n"
   ]
  },
  {
   "cell_type": "code",
   "execution_count": 4,
   "id": "272eb3bc",
   "metadata": {},
   "outputs": [],
   "source": [
    "# 정답과 예측값의 오차를 CEE로 계산\n",
    "def cross_entropy_error(y, t):\n",
    "    delta = 1e-7\n",
    "    return -np.sum(t*np.log(y+delta))\n"
   ]
  },
  {
   "cell_type": "code",
   "execution_count": 5,
   "id": "576f89ed",
   "metadata": {},
   "outputs": [
    {
     "data": {
      "text/plain": [
       "0.510825457099338"
      ]
     },
     "execution_count": 5,
     "metadata": {},
     "output_type": "execute_result"
    }
   ],
   "source": [
    "y = [0.1, 0.05, 0.6, 0.0, 0.05, 0.1, 0.0, 0.1, 0.0, 0.0]\n",
    "true = [0, 0, 1, 0, 0, 0, 0, 0, 0, 0]\n",
    "\n",
    "cross_entropy_error(np.array(y), np.array(true))"
   ]
  },
  {
   "cell_type": "code",
   "execution_count": 9,
   "id": "30541f3d",
   "metadata": {},
   "outputs": [
    {
     "data": {
      "text/plain": [
       "2.302584092994546"
      ]
     },
     "execution_count": 9,
     "metadata": {},
     "output_type": "execute_result"
    }
   ],
   "source": [
    "y = [0.1, 0.05, 0.1, 0.0, 0.05, 0.1, 0.0, 0.6, 0.0, 0.0]\n",
    "cross_entropy_error(np.array(y), np.array(true))"
   ]
  },
  {
   "cell_type": "markdown",
   "id": "78b19cd0",
   "metadata": {},
   "source": [
    "### Loss Function(손실 함수): 미니배치 학습"
   ]
  },
  {
   "cell_type": "markdown",
   "id": "f01e5eff",
   "metadata": {},
   "source": [
    "- 배치 학습\n",
    "    - 훈련 데이터에 대한 손실 함수의 값을 구하고, 그 값을 최대한 줄여주는 매개변수를 찾아내는 것이 목적\n",
    "    - 그런데, 위와 같은 방법은 모든 데이터를 대상으로 손실 함수 값을 구해야 함\n",
    "        - 예) 훈련 데이터가 100개 라면, 100개의 손실 함수의 값들의 합을 지표로 삼았음\n",
    "\n",
    "    - 즉, 훈련 데이터로부터 일부만 골라서 학습을 수행하는 방법 \n",
    "    - 이때 일부를 미니배치 라고 함\n",
    "        - 예: MNIST 데이터의 훈련 데이터인 60,000장 중에서 100장을 무작위로 뽑아서 100장을 사용하여 학습\n",
    "    "
   ]
  },
  {
   "cell_type": "code",
   "execution_count": 13,
   "id": "9d8ed6d1",
   "metadata": {},
   "outputs": [],
   "source": [
    "from sklearn.datasets import fetch_openml\n",
    "mnist = fetch_openml('mnist_784', version=1)\n",
    "\n",
    "import sys, os\n",
    "sys.path.append('./mnist_dataset')\n",
    "import numpy as np\n",
    "import pickle\n",
    "from mnist_dataset.mnist import load_mnist\n",
    "import matplotlib.pylab as plt"
   ]
  },
  {
   "cell_type": "code",
   "execution_count": 16,
   "id": "3eb319b6",
   "metadata": {},
   "outputs": [
    {
     "name": "stdout",
     "output_type": "stream",
     "text": [
      "(60000, 784)\n",
      "(60000, 10)\n"
     ]
    }
   ],
   "source": [
    "(x_train, t_train), (x_test, t_test) = load_mnist(normalize=True,\n",
    "                                                  one_hot_label=True)\n",
    "print(x_train.shape)\n",
    "print(t_train.shape)"
   ]
  },
  {
   "cell_type": "code",
   "execution_count": 19,
   "id": "4a284e40",
   "metadata": {},
   "outputs": [],
   "source": [
    "train_size = x_train.shape[0]\n",
    "batch_size = 10\n",
    "batch_mask = np.random.choice(train_size, batch_size)\n",
    "x_batch = x_train[batch_mask]\n",
    "t_batch = t_train[batch_mask]"
   ]
  },
  {
   "cell_type": "code",
   "execution_count": 20,
   "id": "3663621f",
   "metadata": {},
   "outputs": [
    {
     "data": {
      "text/plain": [
       "array([44912, 55724, 21259, 20095, 20713, 24107, 49658, 50769, 35742,\n",
       "       39135])"
      ]
     },
     "execution_count": 20,
     "metadata": {},
     "output_type": "execute_result"
    }
   ],
   "source": [
    "np.random.choice(60000, 10) # 무작위로 10개 추출"
   ]
  },
  {
   "cell_type": "markdown",
   "id": "ab60e93a",
   "metadata": {},
   "source": [
    "### Loss Function(손실 함수): 미니배치용 CEE 구현하기\n",
    "- 미니 배치 학습에 사용하는 교차 엔트로피 오차는 어떻게 구현할까?\n",
    "    - one-hot encoding\n",
    "    - label"
   ]
  },
  {
   "cell_type": "code",
   "execution_count": 22,
   "id": "2402ca1b",
   "metadata": {},
   "outputs": [],
   "source": [
    "# one hot encoding용\n",
    "def cross_entropy_error_one_hot(y, t):\n",
    "    if y.ndim == 1:\n",
    "        t = t.reshape(1, t.size)  # 정답 레이블\n",
    "        y = y.reshape(1, y.size)  # 신경망의 출력\n",
    "        \n",
    "    batch_size = y.shape[0]\n",
    "    return -np.sum(t*np.log(y))"
   ]
  },
  {
   "cell_type": "code",
   "execution_count": 23,
   "id": "011a8bca",
   "metadata": {},
   "outputs": [],
   "source": [
    "# label용\n",
    "def cross_entropy_error_label(y, t):\n",
    "    if y.ndim == 1:\n",
    "        t = t.reshape(1, t.size)\n",
    "        y = y.reshape(1, y.size)\n",
    "    \n",
    "    batch_size = y.shape[0]\n",
    "    return -np.sum(np.log(y[np.arange(batch_size), t])) / batch_size\n"
   ]
  },
  {
   "cell_type": "code",
   "execution_count": null,
   "id": "59c75137",
   "metadata": {},
   "outputs": [],
   "source": []
  },
  {
   "cell_type": "markdown",
   "id": "5a1543b1",
   "metadata": {},
   "source": [
    "### Loss Function(손실 함수): 왜 설정해야 하는가?\n",
    "- 신경망 학습에서 미분의 역할은 ?\n",
    "    - 최적의 매개변수(가중치, 편향) 탐색 시, 손실 함수의 값을 가장 작게 만드는 매개변수 값을 탐색\n",
    "    - 매개변수의 미분을 계산하고, 그 미분 값을 단서로 매개변수의 값을 서서히 갱신\n",
    "    - 미분 값이 0이 되면 매개변수의 갱신 중단\n",
    "\n",
    "- 정확도의 경우 대부분의 지점에서 미분 값이 0이 되어 매개변수의 갱신이 불가능\n",
    "    - 정확도는 매개변수의 작은 변화에는 거의 반응이 없다가, 불연속적으로 갑자기 변화\n",
    "    - 손실 함수를 사용하면 매개변수의 값의 변화에 따라 연속적으로 변화 \n",
    "\n"
   ]
  },
  {
   "cell_type": "code",
   "execution_count": null,
   "id": "ecf4ed4c",
   "metadata": {},
   "outputs": [],
   "source": []
  },
  {
   "cell_type": "markdown",
   "id": "046713c6",
   "metadata": {},
   "source": [
    "## 2. Numerical differentiation"
   ]
  },
  {
   "cell_type": "code",
   "execution_count": null,
   "id": "65ddb0bb",
   "metadata": {},
   "outputs": [],
   "source": [
    "def numerical_differential(f, x):\n",
    "    h = 10e-50  # 0과 최대한 가까운 숫자\n",
    "    return (f(x+h) - f(x)) / h"
   ]
  },
  {
   "cell_type": "markdown",
   "id": "454ee657",
   "metadata": {},
   "source": [
    "- h값이 작으면 계산이 힘들어지고 반올림 오차 문제 발생 \n",
    "     - h= 0.0001이 좋은 결과를 낸다고 알려짐.\n",
    "- (x+h)와 x 사이의 기울기와 x의 접선의 기울기가 달라 현재 계산 방식에 오차 존대 \n",
    "    - (x+h)와 (x-h)의 차이를 2h로 나눠서 해결"
   ]
  },
  {
   "cell_type": "code",
   "execution_count": 26,
   "id": "be00fbe5",
   "metadata": {},
   "outputs": [],
   "source": [
    "def numerical_differential(f, x):\n",
    "    h = 1e-4\n",
    "    return (f(x+h) - f(x-h)) / (2*h)"
   ]
  },
  {
   "cell_type": "markdown",
   "id": "9f738f29",
   "metadata": {},
   "source": [
    "- 수치 미분\n"
   ]
  },
  {
   "cell_type": "code",
   "execution_count": 24,
   "id": "503828b7",
   "metadata": {},
   "outputs": [],
   "source": [
    "def function_1(x):\n",
    "    return 0.01*x**2 + 0.1*x"
   ]
  },
  {
   "cell_type": "code",
   "execution_count": 25,
   "id": "ea82cc5e",
   "metadata": {},
   "outputs": [
    {
     "data": {
      "image/png": "[encoded data removed]",
      "text/plain": [
       "<Figure size 1080x720 with 1 Axes>"
      ]
     },
     "metadata": {
      "needs_background": "light"
     },
     "output_type": "display_data"
    }
   ],
   "source": [
    "x = np.arange(0.0, 20.0, 0.1)\n",
    "y = function_1(x)\n",
    "plt.figure(figsize=(15, 10))\n",
    "plt.xlabel(\"x\")\n",
    "plt.ylabel(\"f(x)\")\n",
    "plt.plot(x, y)\n",
    "plt.show()"
   ]
  },
  {
   "cell_type": "code",
   "execution_count": 27,
   "id": "f9447061",
   "metadata": {},
   "outputs": [
    {
     "data": {
      "text/plain": [
       "0.1999999999990898"
      ]
     },
     "execution_count": 27,
     "metadata": {},
     "output_type": "execute_result"
    }
   ],
   "source": [
    "numerical_differential(function_1, 5)"
   ]
  },
  {
   "cell_type": "code",
   "execution_count": 28,
   "id": "e2792584",
   "metadata": {},
   "outputs": [
    {
     "data": {
      "text/plain": [
       "0.2999999999986347"
      ]
     },
     "execution_count": 28,
     "metadata": {},
     "output_type": "execute_result"
    }
   ],
   "source": [
    "numerical_differential(function_1, 10)"
   ]
  },
  {
   "attachments": {},
   "cell_type": "markdown",
   "id": "6ab14ff6",
   "metadata": {},
   "source": [
    "- 편미분\n"
   ]
  },
  {
   "cell_type": "code",
   "execution_count": 29,
   "id": "aebafd5a",
   "metadata": {},
   "outputs": [],
   "source": [
    "def function_2(x):\n",
    "    return x[0]**2 + x[1]**2"
   ]
  },
  {
   "cell_type": "code",
   "execution_count": 30,
   "id": "2b724ad8",
   "metadata": {},
   "outputs": [
    {
     "data": {
      "text/plain": [
       "6.00000000000378"
      ]
     },
     "execution_count": 30,
     "metadata": {},
     "output_type": "execute_result"
    }
   ],
   "source": [
    "# x0 =3, x1 = 4일 때, x0에 대한 편미분\n",
    "def function_tmp1(x0):\n",
    "    return x0*x0 + 4.0**2.0\n",
    "\n",
    "numerical_differential(function_tmp1, 3.0)"
   ]
  },
  {
   "cell_type": "code",
   "execution_count": 31,
   "id": "b29eb4c4",
   "metadata": {},
   "outputs": [
    {
     "data": {
      "text/plain": [
       "7.999999999999119"
      ]
     },
     "execution_count": 31,
     "metadata": {},
     "output_type": "execute_result"
    }
   ],
   "source": [
    "# x0 =3, x1 = 4일 때, x1에 대한 편미분\n",
    "def function_tmp2(x1):\n",
    "    return 3.0**2.0 + x1*x1\n",
    "\n",
    "numerical_differential(function_tmp2, 4.0)"
   ]
  },
  {
   "cell_type": "code",
   "execution_count": null,
   "id": "beba13d7",
   "metadata": {},
   "outputs": [],
   "source": []
  },
  {
   "cell_type": "markdown",
   "id": "f7e5f3c9",
   "metadata": {},
   "source": [
    "## 3. Gradient\n"
   ]
  },
  {
   "cell_type": "markdown",
   "id": "03583915",
   "metadata": {},
   "source": [
    "- 기울기\n",
    "- 편미분의 경우 x0와 x1을 변수별로 따로 계산\n",
    "    - 동시에 계산해보자."
   ]
  },
  {
   "cell_type": "code",
   "execution_count": 39,
   "id": "a8d71dfe",
   "metadata": {},
   "outputs": [],
   "source": [
    "def numerical_gradient(f, x):\n",
    "    h = 1e-4\n",
    "    grad = np.zeros_like(x)\n",
    "    \n",
    "    for index in range(x.size):\n",
    "        tmp_val = x[index]\n",
    "        x[index] = tmp_val + h \n",
    "        fxh1 = f(x)\n",
    "        \n",
    "        x[index] = tmp_val - h\n",
    "        fxh2 = f(x)\n",
    "        \n",
    "        grad[index] = (fxh1 - fxh2) / (2*h)\n",
    "        x[index] = tmp_val\n",
    "        \n",
    "    return grad"
   ]
  },
  {
   "cell_type": "code",
   "execution_count": 40,
   "id": "1b2ecf7c",
   "metadata": {},
   "outputs": [
    {
     "name": "stdout",
     "output_type": "stream",
     "text": [
      "(3,4)에서의 기울기: [6. 8.]\n",
      "(0,2)에서의 기울기: [0. 4.]\n",
      "(3,0)에서의 기울기: [6. 0.]\n"
     ]
    }
   ],
   "source": [
    "print(\"(3,4)에서의 기울기:\", numerical_gradient(function_2, np.array([3.0, 4.0])))\n",
    "print(\"(0,2)에서의 기울기:\", numerical_gradient(function_2, np.array([0.0, 2.0])))\n",
    "print(\"(3,0)에서의 기울기:\", numerical_gradient(function_2, np.array([3.0, 0.0])))"
   ]
  },
  {
   "cell_type": "code",
   "execution_count": null,
   "id": "59ee455c",
   "metadata": {},
   "outputs": [],
   "source": []
  },
  {
   "cell_type": "markdown",
   "id": "7d2cc15a",
   "metadata": {},
   "source": [
    "### 경사법: Gradient Descent (경사 하강법)"
   ]
  },
  {
   "cell_type": "markdown",
   "id": "69d9d47c",
   "metadata": {},
   "source": [
    "- 최적: 손실 함수가 최솟값이 될 때의 매개변수\n",
    "    - 일반적인 문제의 손실 함수는 복잡하고 매개변수 공간이 광대하여 최솟값인지 알아내기 어려움\n",
    "- 경사법: 기울기를 잘 이용하여 함수의 최솟값을 찾으려는 것\n",
    "    - 함수가 극솟값, 최솟값, 또는 안장점(saddle point)이 되는 장소에서는 기울기가 0\n",
    "    - 복잡하고 찌그러진 모양의 함수의 경우, 대부분 평평한 곳으로 파고들면서 고원(plateau)이라 하는 학습이 진행되지 않는 정체기에 빠짐 \n"
   ]
  },
  {
   "cell_type": "code",
   "execution_count": 43,
   "id": "840cea91",
   "metadata": {},
   "outputs": [],
   "source": [
    "def gradient_descent(f, init_x, lr=0.01, step_num=100):\n",
    "    x = init_x\n",
    "    x_history = []\n",
    "    \n",
    "    for i in range(step_num):\n",
    "        x_history.append(x.copy())\n",
    "        grad = numerical_gradient(f, x)\n",
    "        x -= lr*grad\n",
    "    return x, np.array(x_history)"
   ]
  },
  {
   "cell_type": "code",
   "execution_count": 44,
   "id": "b94383a7",
   "metadata": {},
   "outputs": [
    {
     "name": "stdout",
     "output_type": "stream",
     "text": [
      "[-6.11110793e-10  8.14814391e-10]\n"
     ]
    }
   ],
   "source": [
    "def function_2(x):\n",
    "    return x[0]**2 + x[1]**2\n",
    "\n",
    "init_x = np.array([-3.0, 4.0])\n",
    "lr = 0.1\n",
    "step_num = 100\n",
    "x, x_history = gradient_descent(function_2, init_x, lr = lr, step_num = step_num)\n",
    "print(x)"
   ]
  },
  {
   "cell_type": "code",
   "execution_count": 45,
   "id": "8009999a",
   "metadata": {},
   "outputs": [
    {
     "name": "stdout",
     "output_type": "stream",
     "text": [
      "[-2.58983747e+13 -1.29524862e+12]\n"
     ]
    }
   ],
   "source": [
    "# 학습률이 너무 클 때: lr = 10.0\n",
    "init_x = np.array([-3.0, 4.0])\n",
    "x, x_history = gradient_descent(function_2, init_x = init_x, lr = 10.0, step_num = step_num)\n",
    "print(x)"
   ]
  },
  {
   "cell_type": "code",
   "execution_count": 46,
   "id": "e8807932",
   "metadata": {},
   "outputs": [
    {
     "name": "stdout",
     "output_type": "stream",
     "text": [
      "[-2.99999994  3.99999992]\n"
     ]
    }
   ],
   "source": [
    "# 학습률이 너무 작을 때 : lr = 1e-10\n",
    "init_x = np.array([-3.0, 4.0])\n",
    "x, x_history = gradient_descent(function_2, init_x = init_x, lr = 1e-10, step_num = step_num)\n",
    "print(x)"
   ]
  },
  {
   "cell_type": "code",
   "execution_count": null,
   "id": "5cc82b5a",
   "metadata": {},
   "outputs": [],
   "source": []
  },
  {
   "cell_type": "markdown",
   "id": "8fe14a8d",
   "metadata": {},
   "source": [
    "### 신경망에서의 기울기"
   ]
  },
  {
   "cell_type": "code",
   "execution_count": 47,
   "id": "cfe01830",
   "metadata": {},
   "outputs": [],
   "source": [
    "import sys, os\n",
    "import numpy as np"
   ]
  },
  {
   "cell_type": "code",
   "execution_count": 57,
   "id": "74d2923e",
   "metadata": {},
   "outputs": [],
   "source": [
    "def softmax(matrix):\n",
    "    maximum_of_matrix = np.max(matrix)\n",
    "    difference_from_maximum = matrix - maximum_of_matrix\n",
    "    exponential_of_difference = np.exp(difference_from_maximum)\n",
    "    sum_of_exponential = np.sum(exponential_of_difference)\n",
    "    y = exponential_of_difference / sum_of_exponential\n",
    "    return y\n",
    "\n",
    "def cross_entropy_error(y, t):\n",
    "    delta = 1e-7\n",
    "    return -np.sum(t*np.log(y+delta))\n",
    "\n",
    "def numerical_gradient(f, x):\n",
    "    h = 1e-4\n",
    "    grad = np.zeros_like(x)\n",
    "    \n",
    "    it = np.nditer(x, flags=['multi_index'], op_flags=['readwrite'])\n",
    "    while not it.finished:\n",
    "        idx = it.multi_index\n",
    "        tmp_val = x[idx]\n",
    "        x[idx] = float(tmp_val) + h\n",
    "        fxh1 = f(x)  # f(x+h)\n",
    "        \n",
    "        x[idx] = tmp_val - h\n",
    "        fxh2 = f(x)  # f(x-h)\n",
    "        grad[idx] = (fxh1 - fxh2) / (2*h)\n",
    "        \n",
    "        x[idx] = tmp_val\n",
    "        it.iternext()\n",
    "        \n",
    "    return grad"
   ]
  },
  {
   "cell_type": "code",
   "execution_count": 51,
   "id": "6c856775",
   "metadata": {},
   "outputs": [],
   "source": [
    "class simpleNet:\n",
    "    def __init__(self):\n",
    "        self.W = np.random.randn(2,3)\n",
    "    \n",
    "    def predict(self, x):\n",
    "        return np.dot(x, self.W)\n",
    "    \n",
    "    def loss(self, x, t):\n",
    "        z = self.predict(x)\n",
    "        y = softmax(z)\n",
    "        loss = cross_entropy_error(y, t)\n",
    "        \n",
    "        return loss"
   ]
  },
  {
   "cell_type": "code",
   "execution_count": 53,
   "id": "6115f60b",
   "metadata": {},
   "outputs": [
    {
     "name": "stdout",
     "output_type": "stream",
     "text": [
      "[[-0.59055972 -0.40776864 -0.11178089]\n",
      " [-0.93033145  0.46961842  0.36751264]]\n"
     ]
    }
   ],
   "source": [
    "net = simpleNet()\n",
    "print(net.W)"
   ]
  },
  {
   "cell_type": "code",
   "execution_count": 54,
   "id": "f925f211",
   "metadata": {},
   "outputs": [
    {
     "name": "stdout",
     "output_type": "stream",
     "text": [
      "[-1.19163414  0.17799539  0.26369284]\n"
     ]
    }
   ],
   "source": [
    "x = np.array([0.6, 0.9])\n",
    "p = net.predict(x)\n",
    "print(p)"
   ]
  },
  {
   "cell_type": "code",
   "execution_count": 55,
   "id": "fa66faf1",
   "metadata": {},
   "outputs": [
    {
     "data": {
      "text/plain": [
       "2"
      ]
     },
     "execution_count": 55,
     "metadata": {},
     "output_type": "execute_result"
    }
   ],
   "source": [
    "np.argmax(p)  # 최대값의 index"
   ]
  },
  {
   "cell_type": "code",
   "execution_count": 58,
   "id": "9a3f5093",
   "metadata": {},
   "outputs": [
    {
     "data": {
      "text/plain": [
       "0.7660237298559888"
      ]
     },
     "execution_count": 58,
     "metadata": {},
     "output_type": "execute_result"
    }
   ],
   "source": [
    "t = np.array([0, 0, 1])  # 참값이 3번째 index의 값일 때의 loss값 cross entropy로 구함\n",
    "net.loss(x, t)  "
   ]
  },
  {
   "cell_type": "code",
   "execution_count": 62,
   "id": "f94df1be",
   "metadata": {},
   "outputs": [
    {
     "name": "stdout",
     "output_type": "stream",
     "text": [
      "[[ 0.06507748  0.25600783 -0.32108531]\n",
      " [ 0.09761622  0.38401175 -0.48162797]]\n"
     ]
    }
   ],
   "source": [
    "def f(W):  # 손실함수를 최소화하기 위한 w를 구하기 위한 함수\n",
    "    return net.loss(x, t)\n",
    "\n",
    "dW = numerical_gradient(f, net.W)\n",
    "print(dW)"
   ]
  },
  {
   "cell_type": "code",
   "execution_count": 61,
   "id": "3e7a1a72",
   "metadata": {},
   "outputs": [
    {
     "name": "stdout",
     "output_type": "stream",
     "text": [
      "[[ 0.06507748  0.25600783 -0.32108531]\n",
      " [ 0.09761622  0.38401175 -0.48162797]]\n"
     ]
    }
   ],
   "source": [
    "# 함수를 짜지 않고 간단하게 표현도 가능하다.\n",
    "f = lambda w:net.loss(x, t)\n",
    "dW = numerical_gradient(f, net.W)\n",
    "print(dW)"
   ]
  },
  {
   "cell_type": "markdown",
   "id": "102e4cb1",
   "metadata": {},
   "source": [
    "## 4. 학습 알고리즘 구현하기"
   ]
  },
  {
   "cell_type": "markdown",
   "id": "1157b6c3",
   "metadata": {},
   "source": [
    "### 신경망 학습의 절차"
   ]
  },
  {
   "cell_type": "markdown",
   "id": "cfc6fbf0",
   "metadata": {},
   "source": [
    "- 전제\n",
    "    - 신경망에는 가중치와 편향이 존재\n",
    "    - 학습: 가중치와 편향을 훈련 데이터에 맞게 조정하는 것\n",
    "- 1 단계: 미니 배치\n",
    "    - 훈련 데이터 중 일부를 무작위로 가져옵니다. 이렇게 선별한 데이터를 미니배치라 하며, 그 미니배치의 손실 함수 값을 줄이는 것이 목표\n",
    "- 2 단계: 기울기 산출\n",
    "    - 미니배치의 손실 함수 값을 줄이기 위해 각 가중치 매개변수의 기울기를 구하며, 기울기는 손실 함수의 값을 가장 적게 하는 방향을 제시\n",
    "- 3 단계: 매개변수 갱신\n",
    "    - 가중치 매개변수를 기울기 방향으로 아주 조금 갱신\n",
    "    - 미니배치를 사용한 경사하강법으로 매개변수 갱신: 확률적 경사 하강법(Stochastic gradient decent)\n",
    "- 반복\n",
    "    - 1 ~ 3 단계 반복\n"
   ]
  },
  {
   "cell_type": "markdown",
   "id": "5d766014",
   "metadata": {},
   "source": [
    "### 2층 신경망 클래스 구현하기"
   ]
  },
  {
   "cell_type": "code",
   "execution_count": null,
   "id": "ba0c29ef",
   "metadata": {},
   "outputs": [],
   "source": [
    "from sklearn.datasets import fetch_openml\n",
    "mnist = fetch_openml('mnist_784', version=1)\n",
    "\n",
    "import sys, os\n",
    "sys.path.append('./mnist_dataset')\n",
    "import numpy as np\n",
    "import pickle\n",
    "from mnist_dataset.mnist import load_mnist\n",
    "import matplotlib.pylab as plt"
   ]
  },
  {
   "cell_type": "code",
   "execution_count": 64,
   "id": "ad334dc1",
   "metadata": {},
   "outputs": [],
   "source": [
    "def step_function(x):\n",
    "    return np.array(x>0, dtype=np.int)\n",
    "\n",
    "def sigmoid(x):\n",
    "    return 1 / (1+np.exp(-x))\n",
    "def relu(x):\n",
    "    return np.maximum(0, x)\n",
    "def sigmoid_grad(x):\n",
    "    return (1.0 - sigmoid(x))*sigmoid(x)\n",
    "def relu_grad(x):\n",
    "    grad = np.zeros(x)\n",
    "    grad[x>=0] = 1\n",
    "    return grad\n",
    "\n",
    "def softmax(x):\n",
    "    if x.ndim == 2:\n",
    "        x = x.T\n",
    "        x = x - np.max(x, axis=0)\n",
    "        y = np.exp(x) / np.sum(np.exp(x), axis=0)\n",
    "        return y.T\n",
    "    x = x - np.max(x)\n",
    "    return np.exp(x) / np.sum(np.exp(x))\n",
    "\n",
    "def mean_squared_error(y, t):\n",
    "    return 0.5 * np.sum((y-t)**2)\n",
    "def cross_entropy_error(y, t):\n",
    "    if y.ndim == 1:\n",
    "        t = t.reshape(1, t.size)\n",
    "        y = y.reshape(1, y.size)\n",
    "    if t.size == y.size:\n",
    "        t = t.argmax(axis=1)\n",
    "    batch_size = y.shape[0]\n",
    "    return -np.sum(np.log(y[np.arange(batch_size), t]+ 1e-7)) / batch_size\n",
    "\n",
    "def softmax_loss(X, t):\n",
    "    y = softmax(X)\n",
    "    return cross_entropy_error(y, t)\n",
    "\n",
    "def numeric_gradient(f, x):\n",
    "    h = 1e-4\n",
    "    grad = np.zeros_like(x)\n",
    "    it = np.nditer(x, flags=['multi_index'], op_flags=['readwrite'])\n",
    "    while not it.finished:\n",
    "        idx = it.multi_index\n",
    "        tmp_val - x[idx]\n",
    "        x[idx] = float(tmp_val) + h\n",
    "        fxh1 = f(x)  # f(x+h)\n",
    "        x[idx] = tmp_val - h\n",
    "        fxh2 = f(x)\n",
    "        grad[idx] = (fxh1 - fxh2)/(2*h)\n",
    "        x[idx] = tmp_val\n",
    "        it.iternext()\n",
    "    return grad"
   ]
  },
  {
   "cell_type": "code",
   "execution_count": 82,
   "id": "1db84a10",
   "metadata": {},
   "outputs": [],
   "source": [
    "class TwoLayerNet:\n",
    "    \n",
    "    def __init__(self, input_size, hidden_size, output_size, weight_init_std=0.01):\n",
    "        self.params = {}\n",
    "        self.params['W1'] = weight_init_std * np.random.randn(input_size, hidden_size)\n",
    "        self.params['b1'] = np.zeros(hidden_size)\n",
    "        self.params['W2'] = weight_init_std * np.random.randn(hidden_size, output_size)\n",
    "        self.params['b2'] = np.zeros(output_size)\n",
    "        \n",
    "    def predict(self, x):\n",
    "        # print(\"predict\")\n",
    "        W1, W2 = self.params['W1'], self.params['W2']\n",
    "        b1, b2 = self.params['b1'], self.params['b2']\n",
    "        \n",
    "        a1 = np.dot(x, W1) + b1\n",
    "        z1 = sigmoid(a1)\n",
    "        a2 = np.dot(z1, W2) + b2\n",
    "        y = softmax(a2)\n",
    "        return y\n",
    "    \n",
    "    def loss(self, x, t):\n",
    "        y = self.predict(x)\n",
    "        return cross_entropy_error(y, t)\n",
    "    \n",
    "    def accuracy(self, x, t):\n",
    "        y = self.predict(x)\n",
    "        y = np.argmax(y, axis=1)\n",
    "        t = np.argmax(t, axis=1)\n",
    "        \n",
    "        accuracy = np.sum(y==t) / float(x.shape[0])\n",
    "        return accuracy\n",
    "    \n",
    "    def numerical_gradient(self, x, t):\n",
    "        loss_W = lambda W: self.loss(x, t)\n",
    "        \n",
    "        grads = {}\n",
    "        grads['W1'] = numerical_gradient(loss_W, self.params['W1'])\n",
    "        grads['b1'] = numerical_gradient(loss_W, self.params['b1'])\n",
    "        grads['W2'] = numerical_gradient(loss_W, self.params['W2'])\n",
    "        grads['b2'] = numerical_gradient(loss_W, self.params['b2'])\n",
    "        \n",
    "        return grads\n",
    "    \n",
    "    def gradient(self, x, t):\n",
    "        W1, W2 = self.params['W1'], self.params['W2']\n",
    "        b1, b2 = self.params['b1'], self.params['b2']\n",
    "        grads = {}\n",
    "\n",
    "        batch_num = x.shape[0]\n",
    "\n",
    "        # forward\n",
    "        a1 = np.dot(x, W1) + b1\n",
    "        z1 = sigmoid(a1)\n",
    "        a2 = np.dot(z1, W2) + b2\n",
    "        y = softmax(a2)\n",
    "\n",
    "        # backward\n",
    "        dy = (y-t) / batch_num\n",
    "        grads['W2'] = np.dot(z1.T, dy)\n",
    "        grads['b2'] = np.sum(dy, axis=0)\n",
    "\n",
    "        dz1 = np.dot(dy, W2.T)\n",
    "        da1 = sigmoid_grad(a1) * dz1\n",
    "        grads['W1'] = np.dot(x.T, da1)\n",
    "        grads['b1'] = np.sum(da1, axis=0)\n",
    "        \n",
    "        return grads"
   ]
  },
  {
   "cell_type": "code",
   "execution_count": 84,
   "id": "79832249",
   "metadata": {},
   "outputs": [],
   "source": [
    "net = TwoLayerNet(input_size=784, hidden_size=50, output_size=10)"
   ]
  },
  {
   "cell_type": "code",
   "execution_count": 85,
   "id": "a2f1b12c",
   "metadata": {},
   "outputs": [
    {
     "name": "stdout",
     "output_type": "stream",
     "text": [
      "(784, 50)\n",
      "(50,)\n",
      "(50, 10)\n",
      "(10,)\n"
     ]
    }
   ],
   "source": [
    "print(net.params['W1'].shape)\n",
    "print(net.params['b1'].shape)\n",
    "print(net.params['W2'].shape)\n",
    "print(net.params['b2'].shape)"
   ]
  },
  {
   "cell_type": "code",
   "execution_count": 86,
   "id": "d74f3536",
   "metadata": {},
   "outputs": [],
   "source": [
    "x = np.random.rand(100, 784)\n",
    "y = net.predict(x)"
   ]
  },
  {
   "cell_type": "code",
   "execution_count": 87,
   "id": "5dfc4b12",
   "metadata": {},
   "outputs": [],
   "source": [
    "x = np.random.rand(100, 784)\n",
    "t = np.random.rand(100, 10)\n",
    "# 수행시간이 오래 걸림\n",
    "grads = net.numerical_gradient(x, t)"
   ]
  },
  {
   "cell_type": "code",
   "execution_count": 88,
   "id": "065c9779",
   "metadata": {},
   "outputs": [
    {
     "name": "stdout",
     "output_type": "stream",
     "text": [
      "(784, 50)\n",
      "(50,)\n",
      "(50, 10)\n",
      "(10,)\n"
     ]
    }
   ],
   "source": [
    "print(net.params['W1'].shape)\n",
    "print(net.params['b1'].shape)\n",
    "print(net.params['W2'].shape)\n",
    "print(net.params['b2'].shape)"
   ]
  },
  {
   "cell_type": "markdown",
   "id": "0fa9663b",
   "metadata": {},
   "source": [
    "### 미니배치 학습 구현하기"
   ]
  },
  {
   "cell_type": "code",
   "execution_count": 89,
   "id": "fdc45b5e",
   "metadata": {},
   "outputs": [],
   "source": [
    "(x_train, t_train), (x_test, t_test) = load_mnist(normalize = True, \n",
    "                                                 one_hot_label = True)\n",
    "train_loss_list = []"
   ]
  },
  {
   "cell_type": "code",
   "execution_count": 90,
   "id": "61320041",
   "metadata": {},
   "outputs": [],
   "source": [
    "iters_num = 10000\n",
    "train_size = x_train.shape[0]\n",
    "batch_size = 100  # 미니 배치 크기 100\n",
    "learning_rate = 0.1\n",
    "iter_per_epoch = max(train_size / batch_size, 1)"
   ]
  },
  {
   "cell_type": "code",
   "execution_count": 91,
   "id": "32816ff3",
   "metadata": {},
   "outputs": [],
   "source": [
    "network = TwoLayerNet(input_size=784, hidden_size=50, output_size=10)"
   ]
  },
  {
   "cell_type": "code",
   "execution_count": 92,
   "id": "f1ab54f8",
   "metadata": {},
   "outputs": [
    {
     "name": "stdout",
     "output_type": "stream",
     "text": [
      "loss: 2.2912116020263977\n",
      "loss: 0.9249961282156743\n",
      "loss: 0.3996512519873552\n",
      "loss: 0.36097687214330393\n",
      "loss: 0.3330927099483578\n",
      "loss: 0.3211672316782981\n",
      "loss: 0.3034374031341947\n",
      "loss: 0.17640923397896136\n",
      "loss: 0.27703020207320095\n",
      "loss: 0.21270339805997016\n",
      "loss: 0.2573343290552395\n",
      "loss: 0.22814642171470895\n",
      "loss: 0.13988149842059439\n",
      "loss: 0.23173244966396006\n",
      "loss: 0.10937196773511557\n",
      "loss: 0.1692002019804551\n",
      "loss: 0.11898749266737252\n"
     ]
    }
   ],
   "source": [
    "for i in range(iters_num):\n",
    "    # 미니배치 획득\n",
    "    batch_mask = np.random.choice(train_size, batch_size)\n",
    "    x_batch = x_train[batch_mask]\n",
    "    t_batch = t_train[batch_mask]\n",
    "    \n",
    "    # grad = network.numerical_gradient(x_batch, t_batch)\n",
    "    grad = network.gradient(x_batch, t_batch) # 성능 개선판\n",
    "    \n",
    "    # 매개변수 갱신\n",
    "    for key in ('W1', 'b1', 'W2', 'b2'):\n",
    "        network.params[key] -= learning_rate * grad[key]\n",
    "        \n",
    "    # 학습 경과 기록\n",
    "    loss = network.loss(x_batch, t_batch)\n",
    "    train_loss_list.append(loss)\n",
    "    \n",
    "    # loss 출력\n",
    "    if i%iter_per_epoch ==0:\n",
    "        print(\"loss:\", str(loss))\n",
    "    "
   ]
  },
  {
   "cell_type": "code",
   "execution_count": 93,
   "id": "255c9c88",
   "metadata": {},
   "outputs": [
    {
     "data": {
      "image/png": "[encoded data removed]",
      "text/plain": [
       "<Figure size 1080x720 with 1 Axes>"
      ]
     },
     "metadata": {
      "needs_background": "light"
     },
     "output_type": "display_data"
    }
   ],
   "source": [
    "x = np.arange(len(train_loss_list))\n",
    "\n",
    "plt.figure(figsize=(15, 10))\n",
    "plt.plot(x, train_loss_list, label='train acc')\n",
    "plt.xlabel(\"iteration\")\n",
    "plt.ylabel(\"loss\")\n",
    "plt.show()"
   ]
  },
  {
   "cell_type": "markdown",
   "id": "e89053dc",
   "metadata": {},
   "source": [
    "### Test Data로 평가하기"
   ]
  },
  {
   "cell_type": "code",
   "execution_count": 94,
   "id": "68c10e01",
   "metadata": {},
   "outputs": [],
   "source": [
    "(x_train, t_train), (x_test, t_test) = load_mnist(normalize = True, \n",
    "                                                 one_hot_label = True)\n",
    "train_loss_list = []\n",
    "train_acc_list = []\n",
    "test_acc_list = []"
   ]
  },
  {
   "cell_type": "code",
   "execution_count": 95,
   "id": "fd5b13ad",
   "metadata": {},
   "outputs": [],
   "source": [
    "iters_num = 10000\n",
    "train_size = x_train.shape[0]\n",
    "batch_size = 100  \n",
    "learning_rate = 0.1\n",
    "iter_per_epoch = max(train_size / batch_size, 1)"
   ]
  },
  {
   "cell_type": "code",
   "execution_count": 96,
   "id": "443579d6",
   "metadata": {},
   "outputs": [],
   "source": [
    "network = TwoLayerNet(input_size=784, hidden_size=50, output_size=10)"
   ]
  },
  {
   "cell_type": "code",
   "execution_count": 97,
   "id": "5c4a1b61",
   "metadata": {},
   "outputs": [
    {
     "name": "stdout",
     "output_type": "stream",
     "text": [
      "loss: 2.286233960328914, train acc: 0.09871666666666666\n",
      "loss: 0.8255484678834079, train acc: 0.7791\n",
      "loss: 0.6006824082728565, train acc: 0.8771\n",
      "loss: 0.35795739212949956, train acc: 0.8993166666666667\n",
      "loss: 0.3732129673222611, train acc: 0.9081833333333333\n",
      "loss: 0.2967980936608672, train acc: 0.9142166666666667\n",
      "loss: 0.2480916186560572, train acc: 0.9195666666666666\n",
      "loss: 0.21460578334036515, train acc: 0.9232666666666667\n",
      "loss: 0.17825609359421488, train acc: 0.9276166666666666\n",
      "loss: 0.3354759542687977, train acc: 0.9301833333333334\n",
      "loss: 0.24519887910077567, train acc: 0.93335\n",
      "loss: 0.17107895490022462, train acc: 0.93595\n",
      "loss: 0.3585813307404424, train acc: 0.9381666666666667\n",
      "loss: 0.2556285376668555, train acc: 0.94085\n",
      "loss: 0.1796332167765547, train acc: 0.9424333333333333\n",
      "loss: 0.20831170277089978, train acc: 0.9441833333333334\n",
      "loss: 0.13521034076475869, train acc: 0.9469\n"
     ]
    }
   ],
   "source": [
    "for i in range(iters_num):\n",
    "    # 미니배치 획득\n",
    "    batch_mask = np.random.choice(train_size, batch_size)\n",
    "    x_batch = x_train[batch_mask]\n",
    "    t_batch = t_train[batch_mask]\n",
    "    \n",
    "    # grad = network.numerical_gradient(x_batch, t_batch)\n",
    "    grad = network.gradient(x_batch, t_batch) # 성능 개선판\n",
    "    \n",
    "    # 매개변수 갱신\n",
    "    for key in ('W1', 'b1', 'W2', 'b2'):\n",
    "        network.params[key] -= learning_rate * grad[key]\n",
    "        \n",
    "    # 학습 경과 기록\n",
    "    loss = network.loss(x_batch, t_batch)\n",
    "    train_loss_list.append(loss)\n",
    "    \n",
    "    # loss 및 accuracy 출력\n",
    "    if i%iter_per_epoch ==0:\n",
    "        train_acc = network.accuracy(x_train, t_train)\n",
    "        test_acc = network.accuracy(x_test, t_test)\n",
    "        train_acc_list.append(train_acc)\n",
    "        test_acc_list.append(test_acc)\n",
    "        print(\"loss: \" + str(loss) + \", train acc: \" + str(train_acc))"
   ]
  },
  {
   "cell_type": "code",
   "execution_count": 99,
   "id": "110ad25a",
   "metadata": {},
   "outputs": [
    {
     "data": {
      "image/png": "[encoded data removed]",
      "text/plain": [
       "<Figure size 1080x720 with 1 Axes>"
      ]
     },
     "metadata": {
      "needs_background": "light"
     },
     "output_type": "display_data"
    }
   ],
   "source": [
    "markers = {'train': 'o', 'test': 's'}\n",
    "x = np.arange(len(train_acc_list))\n",
    "\n",
    "plt.figure(figsize=(15, 10))\n",
    "plt.plot(x, train_acc_list, label='train acc')\n",
    "plt.plot(x, test_acc_list, label='test acc', linestyle='--')\n",
    "plt.xlabel(\"epochs\")\n",
    "plt.ylabel(\"accuracy\")\n",
    "plt.ylim(0, 1.0)\n",
    "plt.legend(loc='lower right')\n",
    "plt.show()"
   ]
  }
 ],
 "metadata": {
  "kernelspec": {
   "display_name": "[KSA_STUDY]",
   "language": "python",
   "name": "ksa_study"
  },
  "language_info": {
   "codemirror_mode": {
    "name": "ipython",
    "version": 3
   },
   "file_extension": ".py",
   "mimetype": "text/x-python",
   "name": "python",
   "nbconvert_exporter": "python",
   "pygments_lexer": "ipython3",
   "version": "3.7.10"
  }
 },
 "nbformat": 4,
 "nbformat_minor": 5
}
